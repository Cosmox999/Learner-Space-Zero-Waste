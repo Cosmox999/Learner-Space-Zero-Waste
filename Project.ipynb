{
  "nbformat": 4,
  "nbformat_minor": 0,
  "metadata": {
    "colab": {
      "provenance": [],
      "gpuType": "T4",
      "mount_file_id": "17GntQF61qLp1dY485TqRLr01QQgyVhBt",
      "authorship_tag": "ABX9TyOu+xqP1oqtwS3d3tA+n1uH"
    },
    "kernelspec": {
      "name": "python3",
      "display_name": "Python 3"
    },
    "language_info": {
      "name": "python"
    },
    "accelerator": "GPU"
  },
  "cells": [
    {
      "cell_type": "code",
      "execution_count": 1,
      "metadata": {
        "colab": {
          "base_uri": "https://localhost:8080/"
        },
        "id": "-F1OLjTq7nzc",
        "outputId": "27d86ba9-d396-4196-a17e-4f8dc9de2b72"
      },
      "outputs": [
        {
          "output_type": "stream",
          "name": "stdout",
          "text": [
            "\u001b[2K   \u001b[90m━━━━━━━━━━━━━━━━━━━━━━━━━━━━━━━━━━━━━━━━\u001b[0m \u001b[32m1.0/1.0 MB\u001b[0m \u001b[31m30.3 MB/s\u001b[0m eta \u001b[36m0:00:00\u001b[0m\n",
            "\u001b[2K   \u001b[90m━━━━━━━━━━━━━━━━━━━━━━━━━━━━━━━━━━━━━━━━\u001b[0m \u001b[32m363.4/363.4 MB\u001b[0m \u001b[31m3.9 MB/s\u001b[0m eta \u001b[36m0:00:00\u001b[0m\n",
            "\u001b[2K   \u001b[90m━━━━━━━━━━━━━━━━━━━━━━━━━━━━━━━━━━━━━━━━\u001b[0m \u001b[32m13.8/13.8 MB\u001b[0m \u001b[31m120.2 MB/s\u001b[0m eta \u001b[36m0:00:00\u001b[0m\n",
            "\u001b[2K   \u001b[90m━━━━━━━━━━━━━━━━━━━━━━━━━━━━━━━━━━━━━━━━\u001b[0m \u001b[32m24.6/24.6 MB\u001b[0m \u001b[31m98.6 MB/s\u001b[0m eta \u001b[36m0:00:00\u001b[0m\n",
            "\u001b[2K   \u001b[90m━━━━━━━━━━━━━━━━━━━━━━━━━━━━━━━━━━━━━━━━\u001b[0m \u001b[32m883.7/883.7 kB\u001b[0m \u001b[31m59.4 MB/s\u001b[0m eta \u001b[36m0:00:00\u001b[0m\n",
            "\u001b[2K   \u001b[90m━━━━━━━━━━━━━━━━━━━━━━━━━━━━━━━━━━━━━━━━\u001b[0m \u001b[32m664.8/664.8 MB\u001b[0m \u001b[31m2.9 MB/s\u001b[0m eta \u001b[36m0:00:00\u001b[0m\n",
            "\u001b[2K   \u001b[90m━━━━━━━━━━━━━━━━━━━━━━━━━━━━━━━━━━━━━━━━\u001b[0m \u001b[32m211.5/211.5 MB\u001b[0m \u001b[31m5.4 MB/s\u001b[0m eta \u001b[36m0:00:00\u001b[0m\n",
            "\u001b[2K   \u001b[90m━━━━━━━━━━━━━━━━━━━━━━━━━━━━━━━━━━━━━━━━\u001b[0m \u001b[32m56.3/56.3 MB\u001b[0m \u001b[31m17.3 MB/s\u001b[0m eta \u001b[36m0:00:00\u001b[0m\n",
            "\u001b[2K   \u001b[90m━━━━━━━━━━━━━━━━━━━━━━━━━━━━━━━━━━━━━━━━\u001b[0m \u001b[32m127.9/127.9 MB\u001b[0m \u001b[31m7.4 MB/s\u001b[0m eta \u001b[36m0:00:00\u001b[0m\n",
            "\u001b[2K   \u001b[90m━━━━━━━━━━━━━━━━━━━━━━━━━━━━━━━━━━━━━━━━\u001b[0m \u001b[32m207.5/207.5 MB\u001b[0m \u001b[31m5.3 MB/s\u001b[0m eta \u001b[36m0:00:00\u001b[0m\n",
            "\u001b[2K   \u001b[90m━━━━━━━━━━━━━━━━━━━━━━━━━━━━━━━━━━━━━━━━\u001b[0m \u001b[32m21.1/21.1 MB\u001b[0m \u001b[31m72.5 MB/s\u001b[0m eta \u001b[36m0:00:00\u001b[0m\n",
            "\u001b[?25h"
          ]
        }
      ],
      "source": [
        "!pip install --quiet ultralytics"
      ]
    },
    {
      "cell_type": "code",
      "source": [
        "yaml_content = \"\"\"\n",
        "path: /content/drive/MyDrive/dataset\n",
        "train: train/images\n",
        "val: val/images\n",
        "test: test/images\n",
        "\n",
        "names:\n",
        "  0: Waste container\n",
        "\"\"\"\n",
        "\n",
        "with open(\"waste_config.yaml\", \"w\") as f:\n",
        "    f.write(yaml_content)"
      ],
      "metadata": {
        "id": "H-k7feAqrS3c"
      },
      "execution_count": 6,
      "outputs": []
    },
    {
      "cell_type": "code",
      "source": [
        "from ultralytics import YOLO\n",
        "\n",
        "# Load a YOLOv8 model\n",
        "model = YOLO(\"yolov8n.yaml\")"
      ],
      "metadata": {
        "colab": {
          "base_uri": "https://localhost:8080/"
        },
        "id": "5YCSniauBbYu",
        "outputId": "3dec7a20-c078-4868-da57-7f7c6da06fbc"
      },
      "execution_count": 3,
      "outputs": [
        {
          "output_type": "stream",
          "name": "stdout",
          "text": [
            "Creating new Ultralytics Settings v0.0.6 file ✅ \n",
            "View Ultralytics Settings with 'yolo settings' or at '/root/.config/Ultralytics/settings.json'\n",
            "Update Settings with 'yolo settings key=value', i.e. 'yolo settings runs_dir=path/to/dir'. For help see https://docs.ultralytics.com/quickstart/#ultralytics-settings.\n"
          ]
        }
      ]
    },
    {
      "cell_type": "code",
      "source": [
        "model.train(data=\"waste_config.yaml\", epochs=50, imgsz=640, batch=16, warmup_epochs=3)"
      ],
      "metadata": {
        "colab": {
          "base_uri": "https://localhost:8080/"
        },
        "id": "lgaMRvY8Bmch",
        "outputId": "35f74e4c-a28d-4493-f5f4-94ae8e140e52"
      },
      "execution_count": 8,
      "outputs": [
        {
          "output_type": "stream",
          "name": "stdout",
          "text": [
            "Ultralytics 8.3.162 🚀 Python-3.11.13 torch-2.6.0+cu124 CUDA:0 (Tesla T4, 15095MiB)\n",
            "\u001b[34m\u001b[1mengine/trainer: \u001b[0magnostic_nms=False, amp=True, augment=False, auto_augment=randaugment, batch=16, bgr=0.0, box=7.5, cache=False, cfg=None, classes=None, close_mosaic=10, cls=0.5, conf=None, copy_paste=0.0, copy_paste_mode=flip, cos_lr=False, cutmix=0.0, data=waste_config.yaml, degrees=0.0, deterministic=True, device=None, dfl=1.5, dnn=False, dropout=0.0, dynamic=False, embed=None, epochs=50, erasing=0.4, exist_ok=False, fliplr=0.5, flipud=0.0, format=torchscript, fraction=1.0, freeze=None, half=False, hsv_h=0.015, hsv_s=0.7, hsv_v=0.4, imgsz=640, int8=False, iou=0.7, keras=False, kobj=1.0, line_width=None, lr0=0.01, lrf=0.01, mask_ratio=4, max_det=300, mixup=0.0, mode=train, model=yolov8n.yaml, momentum=0.937, mosaic=1.0, multi_scale=False, name=train4, nbs=64, nms=False, opset=None, optimize=False, optimizer=auto, overlap_mask=True, patience=100, perspective=0.0, plots=True, pose=12.0, pretrained=True, profile=False, project=None, rect=False, resume=False, retina_masks=False, save=True, save_conf=False, save_crop=False, save_dir=runs/detect/train4, save_frames=False, save_json=False, save_period=-1, save_txt=False, scale=0.5, seed=0, shear=0.0, show=False, show_boxes=True, show_conf=True, show_labels=True, simplify=True, single_cls=False, source=None, split=val, stream_buffer=False, task=detect, time=None, tracker=botsort.yaml, translate=0.1, val=True, verbose=True, vid_stride=1, visualize=False, warmup_bias_lr=0.1, warmup_epochs=3, warmup_momentum=0.8, weight_decay=0.0005, workers=8, workspace=None\n",
            "Downloading https://ultralytics.com/assets/Arial.ttf to '/root/.config/Ultralytics/Arial.ttf'...\n"
          ]
        },
        {
          "output_type": "stream",
          "name": "stderr",
          "text": [
            "100%|██████████| 755k/755k [00:00<00:00, 26.3MB/s]"
          ]
        },
        {
          "output_type": "stream",
          "name": "stdout",
          "text": [
            "Overriding model.yaml nc=80 with nc=1\n",
            "\n",
            "                   from  n    params  module                                       arguments                     \n",
            "  0                  -1  1       464  ultralytics.nn.modules.conv.Conv             [3, 16, 3, 2]                 \n",
            "  1                  -1  1      4672  ultralytics.nn.modules.conv.Conv             [16, 32, 3, 2]                \n",
            "  2                  -1  1      7360  ultralytics.nn.modules.block.C2f             [32, 32, 1, True]             \n",
            "  3                  -1  1     18560  ultralytics.nn.modules.conv.Conv             [32, 64, 3, 2]                \n",
            "  4                  -1  2     49664  ultralytics.nn.modules.block.C2f             [64, 64, 2, True]             \n",
            "  5                  -1  1     73984  ultralytics.nn.modules.conv.Conv             [64, 128, 3, 2]               \n",
            "  6                  -1  2    197632  ultralytics.nn.modules.block.C2f             [128, 128, 2, True]           \n",
            "  7                  -1  1    295424  ultralytics.nn.modules.conv.Conv             [128, 256, 3, 2]              \n",
            "  8                  -1  1    460288  ultralytics.nn.modules.block.C2f             [256, 256, 1, True]           \n",
            "  9                  -1  1    164608  ultralytics.nn.modules.block.SPPF            [256, 256, 5]                 \n",
            " 10                  -1  1         0  torch.nn.modules.upsampling.Upsample         [None, 2, 'nearest']          \n",
            " 11             [-1, 6]  1         0  ultralytics.nn.modules.conv.Concat           [1]                           \n",
            " 12                  -1  1    148224  ultralytics.nn.modules.block.C2f             [384, 128, 1]                 \n",
            " 13                  -1  1         0  torch.nn.modules.upsampling.Upsample         [None, 2, 'nearest']          \n",
            " 14             [-1, 4]  1         0  ultralytics.nn.modules.conv.Concat           [1]                           \n",
            " 15                  -1  1     37248  ultralytics.nn.modules.block.C2f             [192, 64, 1]                  \n",
            " 16                  -1  1     36992  ultralytics.nn.modules.conv.Conv             [64, 64, 3, 2]                \n",
            " 17            [-1, 12]  1         0  ultralytics.nn.modules.conv.Concat           [1]                           \n",
            " 18                  -1  1    123648  ultralytics.nn.modules.block.C2f             [192, 128, 1]                 \n",
            " 19                  -1  1    147712  ultralytics.nn.modules.conv.Conv             [128, 128, 3, 2]              \n",
            " 20             [-1, 9]  1         0  ultralytics.nn.modules.conv.Concat           [1]                           \n",
            " 21                  -1  1    493056  ultralytics.nn.modules.block.C2f             [384, 256, 1]                 \n",
            " 22        [15, 18, 21]  1    751507  ultralytics.nn.modules.head.Detect           [1, [64, 128, 256]]           \n"
          ]
        },
        {
          "output_type": "stream",
          "name": "stderr",
          "text": [
            "\n"
          ]
        },
        {
          "output_type": "stream",
          "name": "stdout",
          "text": [
            "YOLOv8n summary: 129 layers, 3,011,043 parameters, 3,011,027 gradients, 8.2 GFLOPs\n",
            "\n",
            "Freezing layer 'model.22.dfl.conv.weight'\n",
            "\u001b[34m\u001b[1mAMP: \u001b[0mrunning Automatic Mixed Precision (AMP) checks...\n",
            "Downloading https://github.com/ultralytics/assets/releases/download/v8.3.0/yolo11n.pt to 'yolo11n.pt'...\n"
          ]
        },
        {
          "output_type": "stream",
          "name": "stderr",
          "text": [
            "100%|██████████| 5.35M/5.35M [00:00<00:00, 96.3MB/s]\n"
          ]
        },
        {
          "output_type": "stream",
          "name": "stdout",
          "text": [
            "\u001b[34m\u001b[1mAMP: \u001b[0mchecks passed ✅\n",
            "\u001b[34m\u001b[1mtrain: \u001b[0mFast image access ✅ (ping: 1.1±1.1 ms, read: 0.1±0.0 MB/s, size: 57.2 KB)\n"
          ]
        },
        {
          "output_type": "stream",
          "name": "stderr",
          "text": [
            "\u001b[34m\u001b[1mtrain: \u001b[0mScanning /content/drive/MyDrive/dataset/train/labels... 2141 images, 0 backgrounds, 0 corrupt: 100%|██████████| 2141/2141 [16:30<00:00,  2.16it/s]\n"
          ]
        },
        {
          "output_type": "stream",
          "name": "stdout",
          "text": [
            "\u001b[34m\u001b[1mtrain: \u001b[0mNew cache created: /content/drive/MyDrive/dataset/train/labels.cache\n",
            "\u001b[34m\u001b[1malbumentations: \u001b[0mBlur(p=0.01, blur_limit=(3, 7)), MedianBlur(p=0.01, blur_limit=(3, 7)), ToGray(p=0.01, method='weighted_average', num_output_channels=3), CLAHE(p=0.01, clip_limit=(1.0, 4.0), tile_grid_size=(8, 8))\n",
            "\u001b[34m\u001b[1mval: \u001b[0mFast image access ✅ (ping: 1.3±1.5 ms, read: 1.4±2.8 MB/s, size: 65.3 KB)\n"
          ]
        },
        {
          "output_type": "stream",
          "name": "stderr",
          "text": [
            "\u001b[34m\u001b[1mval: \u001b[0mScanning /content/drive/MyDrive/dataset/val/labels... 204 images, 0 backgrounds, 0 corrupt: 100%|██████████| 204/204 [01:25<00:00,  2.38it/s]"
          ]
        },
        {
          "output_type": "stream",
          "name": "stdout",
          "text": [
            "\u001b[34m\u001b[1mval: \u001b[0mNew cache created: /content/drive/MyDrive/dataset/val/labels.cache\n"
          ]
        },
        {
          "output_type": "stream",
          "name": "stderr",
          "text": [
            "\n"
          ]
        },
        {
          "output_type": "stream",
          "name": "stdout",
          "text": [
            "Plotting labels to runs/detect/train4/labels.jpg... \n",
            "\u001b[34m\u001b[1moptimizer:\u001b[0m 'optimizer=auto' found, ignoring 'lr0=0.01' and 'momentum=0.937' and determining best 'optimizer', 'lr0' and 'momentum' automatically... \n",
            "\u001b[34m\u001b[1moptimizer:\u001b[0m AdamW(lr=0.002, momentum=0.9) with parameter groups 57 weight(decay=0.0), 64 weight(decay=0.0005), 63 bias(decay=0.0)\n",
            "Image sizes 640 train, 640 val\n",
            "Using 2 dataloader workers\n",
            "Logging results to \u001b[1mruns/detect/train4\u001b[0m\n",
            "Starting training for 50 epochs...\n",
            "\n",
            "      Epoch    GPU_mem   box_loss   cls_loss   dfl_loss  Instances       Size\n"
          ]
        },
        {
          "output_type": "stream",
          "name": "stderr",
          "text": [
            "       1/50      2.08G      3.454       3.72      4.054         42        640: 100%|██████████| 134/134 [00:47<00:00,  2.81it/s]\n",
            "                 Class     Images  Instances      Box(P          R      mAP50  mAP50-95): 100%|██████████| 7/7 [00:03<00:00,  1.83it/s]"
          ]
        },
        {
          "output_type": "stream",
          "name": "stdout",
          "text": [
            "                   all        204        389     0.0733     0.0103     0.0146    0.00396\n"
          ]
        },
        {
          "output_type": "stream",
          "name": "stderr",
          "text": [
            "\n"
          ]
        },
        {
          "output_type": "stream",
          "name": "stdout",
          "text": [
            "\n",
            "      Epoch    GPU_mem   box_loss   cls_loss   dfl_loss  Instances       Size\n"
          ]
        },
        {
          "output_type": "stream",
          "name": "stderr",
          "text": [
            "       2/50      2.56G      2.978      3.489      3.457         43        640: 100%|██████████| 134/134 [00:45<00:00,  2.95it/s]\n",
            "                 Class     Images  Instances      Box(P          R      mAP50  mAP50-95): 100%|██████████| 7/7 [00:02<00:00,  2.77it/s]"
          ]
        },
        {
          "output_type": "stream",
          "name": "stdout",
          "text": [
            "                   all        204        389     0.0132      0.406     0.0189     0.0054\n"
          ]
        },
        {
          "output_type": "stream",
          "name": "stderr",
          "text": [
            "\n"
          ]
        },
        {
          "output_type": "stream",
          "name": "stdout",
          "text": [
            "\n",
            "      Epoch    GPU_mem   box_loss   cls_loss   dfl_loss  Instances       Size\n"
          ]
        },
        {
          "output_type": "stream",
          "name": "stderr",
          "text": [
            "       3/50      2.58G      2.576      3.278      3.059         36        640: 100%|██████████| 134/134 [00:43<00:00,  3.11it/s]\n",
            "                 Class     Images  Instances      Box(P          R      mAP50  mAP50-95): 100%|██████████| 7/7 [00:03<00:00,  2.18it/s]"
          ]
        },
        {
          "output_type": "stream",
          "name": "stdout",
          "text": [
            "                   all        204        389      0.194      0.129     0.0737     0.0247\n"
          ]
        },
        {
          "output_type": "stream",
          "name": "stderr",
          "text": [
            "\n"
          ]
        },
        {
          "output_type": "stream",
          "name": "stdout",
          "text": [
            "\n",
            "      Epoch    GPU_mem   box_loss   cls_loss   dfl_loss  Instances       Size\n"
          ]
        },
        {
          "output_type": "stream",
          "name": "stderr",
          "text": [
            "       4/50       2.6G      2.376      3.054      2.847         39        640: 100%|██████████| 134/134 [00:43<00:00,  3.07it/s]\n",
            "                 Class     Images  Instances      Box(P          R      mAP50  mAP50-95): 100%|██████████| 7/7 [00:02<00:00,  2.68it/s]\n"
          ]
        },
        {
          "output_type": "stream",
          "name": "stdout",
          "text": [
            "                   all        204        389      0.103      0.116     0.0555     0.0176\n",
            "\n",
            "      Epoch    GPU_mem   box_loss   cls_loss   dfl_loss  Instances       Size\n"
          ]
        },
        {
          "output_type": "stream",
          "name": "stderr",
          "text": [
            "       5/50      2.61G      2.212      2.897      2.679         34        640: 100%|██████████| 134/134 [00:44<00:00,  3.00it/s]\n",
            "                 Class     Images  Instances      Box(P          R      mAP50  mAP50-95): 100%|██████████| 7/7 [00:02<00:00,  2.86it/s]\n"
          ]
        },
        {
          "output_type": "stream",
          "name": "stdout",
          "text": [
            "                   all        204        389      0.242      0.332      0.178     0.0666\n",
            "\n",
            "      Epoch    GPU_mem   box_loss   cls_loss   dfl_loss  Instances       Size\n"
          ]
        },
        {
          "output_type": "stream",
          "name": "stderr",
          "text": [
            "       6/50      2.63G      2.146      2.694      2.575         30        640: 100%|██████████| 134/134 [00:42<00:00,  3.12it/s]\n",
            "                 Class     Images  Instances      Box(P          R      mAP50  mAP50-95): 100%|██████████| 7/7 [00:02<00:00,  2.90it/s]\n"
          ]
        },
        {
          "output_type": "stream",
          "name": "stdout",
          "text": [
            "                   all        204        389      0.345      0.298      0.221     0.0909\n",
            "\n",
            "      Epoch    GPU_mem   box_loss   cls_loss   dfl_loss  Instances       Size\n"
          ]
        },
        {
          "output_type": "stream",
          "name": "stderr",
          "text": [
            "       7/50      2.65G      2.044      2.578      2.473         37        640: 100%|██████████| 134/134 [00:44<00:00,  2.99it/s]\n",
            "                 Class     Images  Instances      Box(P          R      mAP50  mAP50-95): 100%|██████████| 7/7 [00:02<00:00,  2.66it/s]"
          ]
        },
        {
          "output_type": "stream",
          "name": "stdout",
          "text": [
            "                   all        204        389      0.305      0.334      0.237      0.101\n"
          ]
        },
        {
          "output_type": "stream",
          "name": "stderr",
          "text": [
            "\n"
          ]
        },
        {
          "output_type": "stream",
          "name": "stdout",
          "text": [
            "\n",
            "      Epoch    GPU_mem   box_loss   cls_loss   dfl_loss  Instances       Size\n"
          ]
        },
        {
          "output_type": "stream",
          "name": "stderr",
          "text": [
            "       8/50      2.66G      1.971      2.479       2.41         37        640: 100%|██████████| 134/134 [00:43<00:00,  3.07it/s]\n",
            "                 Class     Images  Instances      Box(P          R      mAP50  mAP50-95): 100%|██████████| 7/7 [00:02<00:00,  2.44it/s]\n"
          ]
        },
        {
          "output_type": "stream",
          "name": "stdout",
          "text": [
            "                   all        204        389      0.388      0.357      0.317      0.146\n",
            "\n",
            "      Epoch    GPU_mem   box_loss   cls_loss   dfl_loss  Instances       Size\n"
          ]
        },
        {
          "output_type": "stream",
          "name": "stderr",
          "text": [
            "       9/50      2.68G       1.91      2.393      2.348         30        640: 100%|██████████| 134/134 [00:43<00:00,  3.06it/s]\n",
            "                 Class     Images  Instances      Box(P          R      mAP50  mAP50-95): 100%|██████████| 7/7 [00:02<00:00,  2.98it/s]\n"
          ]
        },
        {
          "output_type": "stream",
          "name": "stdout",
          "text": [
            "                   all        204        389      0.518       0.37      0.373      0.172\n",
            "\n",
            "      Epoch    GPU_mem   box_loss   cls_loss   dfl_loss  Instances       Size\n"
          ]
        },
        {
          "output_type": "stream",
          "name": "stderr",
          "text": [
            "      10/50       2.7G      1.893      2.332       2.32         45        640: 100%|██████████| 134/134 [00:44<00:00,  3.00it/s]\n",
            "                 Class     Images  Instances      Box(P          R      mAP50  mAP50-95): 100%|██████████| 7/7 [00:02<00:00,  2.51it/s]"
          ]
        },
        {
          "output_type": "stream",
          "name": "stdout",
          "text": [
            "                   all        204        389      0.376      0.391       0.33      0.146\n"
          ]
        },
        {
          "output_type": "stream",
          "name": "stderr",
          "text": [
            "\n"
          ]
        },
        {
          "output_type": "stream",
          "name": "stdout",
          "text": [
            "\n",
            "      Epoch    GPU_mem   box_loss   cls_loss   dfl_loss  Instances       Size\n"
          ]
        },
        {
          "output_type": "stream",
          "name": "stderr",
          "text": [
            "      11/50      2.71G      1.839      2.257      2.268         36        640: 100%|██████████| 134/134 [00:43<00:00,  3.06it/s]\n",
            "                 Class     Images  Instances      Box(P          R      mAP50  mAP50-95): 100%|██████████| 7/7 [00:02<00:00,  2.85it/s]"
          ]
        },
        {
          "output_type": "stream",
          "name": "stdout",
          "text": [
            "                   all        204        389      0.495      0.442      0.427      0.193\n"
          ]
        },
        {
          "output_type": "stream",
          "name": "stderr",
          "text": [
            "\n"
          ]
        },
        {
          "output_type": "stream",
          "name": "stdout",
          "text": [
            "\n",
            "      Epoch    GPU_mem   box_loss   cls_loss   dfl_loss  Instances       Size\n"
          ]
        },
        {
          "output_type": "stream",
          "name": "stderr",
          "text": [
            "      12/50      2.73G      1.824      2.237      2.233         36        640: 100%|██████████| 134/134 [00:44<00:00,  2.99it/s]\n",
            "                 Class     Images  Instances      Box(P          R      mAP50  mAP50-95): 100%|██████████| 7/7 [00:02<00:00,  3.05it/s]\n"
          ]
        },
        {
          "output_type": "stream",
          "name": "stdout",
          "text": [
            "                   all        204        389      0.478      0.404      0.399      0.192\n",
            "\n",
            "      Epoch    GPU_mem   box_loss   cls_loss   dfl_loss  Instances       Size\n"
          ]
        },
        {
          "output_type": "stream",
          "name": "stderr",
          "text": [
            "      13/50      2.75G      1.795      2.173      2.209         26        640: 100%|██████████| 134/134 [00:43<00:00,  3.10it/s]\n",
            "                 Class     Images  Instances      Box(P          R      mAP50  mAP50-95): 100%|██████████| 7/7 [00:02<00:00,  3.05it/s]"
          ]
        },
        {
          "output_type": "stream",
          "name": "stdout",
          "text": [
            "                   all        204        389      0.499      0.436      0.425      0.207\n"
          ]
        },
        {
          "output_type": "stream",
          "name": "stderr",
          "text": [
            "\n"
          ]
        },
        {
          "output_type": "stream",
          "name": "stdout",
          "text": [
            "\n",
            "      Epoch    GPU_mem   box_loss   cls_loss   dfl_loss  Instances       Size\n"
          ]
        },
        {
          "output_type": "stream",
          "name": "stderr",
          "text": [
            "      14/50      2.77G      1.753      2.131       2.19         32        640: 100%|██████████| 134/134 [00:42<00:00,  3.15it/s]\n",
            "                 Class     Images  Instances      Box(P          R      mAP50  mAP50-95): 100%|██████████| 7/7 [00:03<00:00,  1.76it/s]\n"
          ]
        },
        {
          "output_type": "stream",
          "name": "stdout",
          "text": [
            "                   all        204        389      0.408       0.37      0.346      0.165\n",
            "\n",
            "      Epoch    GPU_mem   box_loss   cls_loss   dfl_loss  Instances       Size\n"
          ]
        },
        {
          "output_type": "stream",
          "name": "stderr",
          "text": [
            "      15/50      2.78G      1.747      2.088      2.152         34        640: 100%|██████████| 134/134 [00:44<00:00,  2.99it/s]\n",
            "                 Class     Images  Instances      Box(P          R      mAP50  mAP50-95): 100%|██████████| 7/7 [00:02<00:00,  3.06it/s]"
          ]
        },
        {
          "output_type": "stream",
          "name": "stdout",
          "text": [
            "                   all        204        389      0.625       0.45      0.473      0.238\n"
          ]
        },
        {
          "output_type": "stream",
          "name": "stderr",
          "text": [
            "\n"
          ]
        },
        {
          "output_type": "stream",
          "name": "stdout",
          "text": [
            "\n",
            "      Epoch    GPU_mem   box_loss   cls_loss   dfl_loss  Instances       Size\n"
          ]
        },
        {
          "output_type": "stream",
          "name": "stderr",
          "text": [
            "      16/50       2.8G      1.707      2.055      2.118         43        640: 100%|██████████| 134/134 [00:44<00:00,  3.04it/s]\n",
            "                 Class     Images  Instances      Box(P          R      mAP50  mAP50-95): 100%|██████████| 7/7 [00:02<00:00,  3.04it/s]"
          ]
        },
        {
          "output_type": "stream",
          "name": "stdout",
          "text": [
            "                   all        204        389      0.581      0.432      0.469      0.241\n"
          ]
        },
        {
          "output_type": "stream",
          "name": "stderr",
          "text": [
            "\n"
          ]
        },
        {
          "output_type": "stream",
          "name": "stdout",
          "text": [
            "\n",
            "      Epoch    GPU_mem   box_loss   cls_loss   dfl_loss  Instances       Size\n"
          ]
        },
        {
          "output_type": "stream",
          "name": "stderr",
          "text": [
            "      17/50      2.82G      1.695      2.007      2.097         64        640: 100%|██████████| 134/134 [00:45<00:00,  2.96it/s]\n",
            "                 Class     Images  Instances      Box(P          R      mAP50  mAP50-95): 100%|██████████| 7/7 [00:03<00:00,  1.81it/s]"
          ]
        },
        {
          "output_type": "stream",
          "name": "stdout",
          "text": [
            "                   all        204        389      0.644      0.464      0.529      0.277\n"
          ]
        },
        {
          "output_type": "stream",
          "name": "stderr",
          "text": [
            "\n"
          ]
        },
        {
          "output_type": "stream",
          "name": "stdout",
          "text": [
            "\n",
            "      Epoch    GPU_mem   box_loss   cls_loss   dfl_loss  Instances       Size\n"
          ]
        },
        {
          "output_type": "stream",
          "name": "stderr",
          "text": [
            "      18/50      2.83G      1.689      1.976      2.104         42        640: 100%|██████████| 134/134 [00:44<00:00,  3.03it/s]\n",
            "                 Class     Images  Instances      Box(P          R      mAP50  mAP50-95): 100%|██████████| 7/7 [00:02<00:00,  3.09it/s]"
          ]
        },
        {
          "output_type": "stream",
          "name": "stdout",
          "text": [
            "                   all        204        389      0.634      0.468      0.517      0.278\n"
          ]
        },
        {
          "output_type": "stream",
          "name": "stderr",
          "text": [
            "\n"
          ]
        },
        {
          "output_type": "stream",
          "name": "stdout",
          "text": [
            "\n",
            "      Epoch    GPU_mem   box_loss   cls_loss   dfl_loss  Instances       Size\n"
          ]
        },
        {
          "output_type": "stream",
          "name": "stderr",
          "text": [
            "      19/50      2.85G       1.66      1.965      2.072         37        640: 100%|██████████| 134/134 [00:43<00:00,  3.09it/s]\n",
            "                 Class     Images  Instances      Box(P          R      mAP50  mAP50-95): 100%|██████████| 7/7 [00:02<00:00,  2.70it/s]"
          ]
        },
        {
          "output_type": "stream",
          "name": "stdout",
          "text": [
            "                   all        204        389      0.549      0.494      0.502      0.266\n"
          ]
        },
        {
          "output_type": "stream",
          "name": "stderr",
          "text": [
            "\n"
          ]
        },
        {
          "output_type": "stream",
          "name": "stdout",
          "text": [
            "\n",
            "      Epoch    GPU_mem   box_loss   cls_loss   dfl_loss  Instances       Size\n"
          ]
        },
        {
          "output_type": "stream",
          "name": "stderr",
          "text": [
            "      20/50      2.87G      1.641      1.916      2.055         36        640: 100%|██████████| 134/134 [00:45<00:00,  2.96it/s]\n",
            "                 Class     Images  Instances      Box(P          R      mAP50  mAP50-95): 100%|██████████| 7/7 [00:03<00:00,  2.00it/s]"
          ]
        },
        {
          "output_type": "stream",
          "name": "stdout",
          "text": [
            "                   all        204        389      0.649      0.527      0.561      0.314\n"
          ]
        },
        {
          "output_type": "stream",
          "name": "stderr",
          "text": [
            "\n"
          ]
        },
        {
          "output_type": "stream",
          "name": "stdout",
          "text": [
            "\n",
            "      Epoch    GPU_mem   box_loss   cls_loss   dfl_loss  Instances       Size\n"
          ]
        },
        {
          "output_type": "stream",
          "name": "stderr",
          "text": [
            "      21/50      2.88G      1.642      1.887      2.045         35        640: 100%|██████████| 134/134 [00:43<00:00,  3.11it/s]\n",
            "                 Class     Images  Instances      Box(P          R      mAP50  mAP50-95): 100%|██████████| 7/7 [00:02<00:00,  2.80it/s]\n"
          ]
        },
        {
          "output_type": "stream",
          "name": "stdout",
          "text": [
            "                   all        204        389      0.653      0.469      0.523      0.278\n",
            "\n",
            "      Epoch    GPU_mem   box_loss   cls_loss   dfl_loss  Instances       Size\n"
          ]
        },
        {
          "output_type": "stream",
          "name": "stderr",
          "text": [
            "      22/50       2.9G      1.622      1.869      2.015         47        640: 100%|██████████| 134/134 [00:44<00:00,  2.98it/s]\n",
            "                 Class     Images  Instances      Box(P          R      mAP50  mAP50-95): 100%|██████████| 7/7 [00:02<00:00,  2.99it/s]\n"
          ]
        },
        {
          "output_type": "stream",
          "name": "stdout",
          "text": [
            "                   all        204        389      0.695       0.48      0.529       0.29\n",
            "\n",
            "      Epoch    GPU_mem   box_loss   cls_loss   dfl_loss  Instances       Size\n"
          ]
        },
        {
          "output_type": "stream",
          "name": "stderr",
          "text": [
            "      23/50      2.92G      1.594      1.836          2         56        640: 100%|██████████| 134/134 [00:44<00:00,  2.99it/s]\n",
            "                 Class     Images  Instances      Box(P          R      mAP50  mAP50-95): 100%|██████████| 7/7 [00:02<00:00,  2.47it/s]\n"
          ]
        },
        {
          "output_type": "stream",
          "name": "stdout",
          "text": [
            "                   all        204        389      0.698      0.499      0.573      0.323\n",
            "\n",
            "      Epoch    GPU_mem   box_loss   cls_loss   dfl_loss  Instances       Size\n"
          ]
        },
        {
          "output_type": "stream",
          "name": "stderr",
          "text": [
            "      24/50      2.94G       1.59      1.783          2         35        640: 100%|██████████| 134/134 [00:43<00:00,  3.08it/s]\n",
            "                 Class     Images  Instances      Box(P          R      mAP50  mAP50-95): 100%|██████████| 7/7 [00:02<00:00,  3.04it/s]\n"
          ]
        },
        {
          "output_type": "stream",
          "name": "stdout",
          "text": [
            "                   all        204        389       0.58      0.504      0.542      0.284\n",
            "\n",
            "      Epoch    GPU_mem   box_loss   cls_loss   dfl_loss  Instances       Size\n"
          ]
        },
        {
          "output_type": "stream",
          "name": "stderr",
          "text": [
            "      25/50      2.95G      1.572      1.781      1.972         45        640: 100%|██████████| 134/134 [00:44<00:00,  2.99it/s]\n",
            "                 Class     Images  Instances      Box(P          R      mAP50  mAP50-95): 100%|██████████| 7/7 [00:02<00:00,  2.66it/s]"
          ]
        },
        {
          "output_type": "stream",
          "name": "stdout",
          "text": [
            "                   all        204        389      0.708      0.535      0.603      0.334\n"
          ]
        },
        {
          "output_type": "stream",
          "name": "stderr",
          "text": [
            "\n"
          ]
        },
        {
          "output_type": "stream",
          "name": "stdout",
          "text": [
            "\n",
            "      Epoch    GPU_mem   box_loss   cls_loss   dfl_loss  Instances       Size\n"
          ]
        },
        {
          "output_type": "stream",
          "name": "stderr",
          "text": [
            "      26/50      2.97G      1.541      1.752      1.958         40        640: 100%|██████████| 134/134 [00:43<00:00,  3.11it/s]\n",
            "                 Class     Images  Instances      Box(P          R      mAP50  mAP50-95): 100%|██████████| 7/7 [00:02<00:00,  2.48it/s]\n"
          ]
        },
        {
          "output_type": "stream",
          "name": "stdout",
          "text": [
            "                   all        204        389      0.639      0.555      0.585      0.335\n",
            "\n",
            "      Epoch    GPU_mem   box_loss   cls_loss   dfl_loss  Instances       Size\n"
          ]
        },
        {
          "output_type": "stream",
          "name": "stderr",
          "text": [
            "      27/50      2.99G      1.552      1.721      1.942         44        640: 100%|██████████| 134/134 [00:44<00:00,  3.04it/s]\n",
            "                 Class     Images  Instances      Box(P          R      mAP50  mAP50-95): 100%|██████████| 7/7 [00:02<00:00,  2.78it/s]\n"
          ]
        },
        {
          "output_type": "stream",
          "name": "stdout",
          "text": [
            "                   all        204        389       0.75      0.563      0.635      0.362\n",
            "\n",
            "      Epoch    GPU_mem   box_loss   cls_loss   dfl_loss  Instances       Size\n"
          ]
        },
        {
          "output_type": "stream",
          "name": "stderr",
          "text": [
            "      28/50      3.01G      1.508       1.68      1.917         36        640: 100%|██████████| 134/134 [00:42<00:00,  3.13it/s]\n",
            "                 Class     Images  Instances      Box(P          R      mAP50  mAP50-95): 100%|██████████| 7/7 [00:02<00:00,  2.76it/s]"
          ]
        },
        {
          "output_type": "stream",
          "name": "stdout",
          "text": [
            "                   all        204        389      0.745       0.54      0.609      0.346\n"
          ]
        },
        {
          "output_type": "stream",
          "name": "stderr",
          "text": [
            "\n"
          ]
        },
        {
          "output_type": "stream",
          "name": "stdout",
          "text": [
            "\n",
            "      Epoch    GPU_mem   box_loss   cls_loss   dfl_loss  Instances       Size\n"
          ]
        },
        {
          "output_type": "stream",
          "name": "stderr",
          "text": [
            "      29/50      3.02G      1.519      1.659      1.922         53        640: 100%|██████████| 134/134 [00:42<00:00,  3.12it/s]\n",
            "                 Class     Images  Instances      Box(P          R      mAP50  mAP50-95): 100%|██████████| 7/7 [00:02<00:00,  2.81it/s]"
          ]
        },
        {
          "output_type": "stream",
          "name": "stdout",
          "text": [
            "                   all        204        389      0.762       0.56      0.631      0.363\n"
          ]
        },
        {
          "output_type": "stream",
          "name": "stderr",
          "text": [
            "\n"
          ]
        },
        {
          "output_type": "stream",
          "name": "stdout",
          "text": [
            "\n",
            "      Epoch    GPU_mem   box_loss   cls_loss   dfl_loss  Instances       Size\n"
          ]
        },
        {
          "output_type": "stream",
          "name": "stderr",
          "text": [
            "      30/50      3.04G      1.508      1.649      1.908         30        640: 100%|██████████| 134/134 [00:44<00:00,  3.03it/s]\n",
            "                 Class     Images  Instances      Box(P          R      mAP50  mAP50-95): 100%|██████████| 7/7 [00:02<00:00,  2.89it/s]"
          ]
        },
        {
          "output_type": "stream",
          "name": "stdout",
          "text": [
            "                   all        204        389      0.746      0.552       0.65      0.383\n"
          ]
        },
        {
          "output_type": "stream",
          "name": "stderr",
          "text": [
            "\n"
          ]
        },
        {
          "output_type": "stream",
          "name": "stdout",
          "text": [
            "\n",
            "      Epoch    GPU_mem   box_loss   cls_loss   dfl_loss  Instances       Size\n"
          ]
        },
        {
          "output_type": "stream",
          "name": "stderr",
          "text": [
            "      31/50      3.05G      1.489      1.626       1.89         55        640: 100%|██████████| 134/134 [00:42<00:00,  3.17it/s]\n",
            "                 Class     Images  Instances      Box(P          R      mAP50  mAP50-95): 100%|██████████| 7/7 [00:02<00:00,  2.94it/s]"
          ]
        },
        {
          "output_type": "stream",
          "name": "stdout",
          "text": [
            "                   all        204        389      0.761      0.568      0.652       0.38\n"
          ]
        },
        {
          "output_type": "stream",
          "name": "stderr",
          "text": [
            "\n"
          ]
        },
        {
          "output_type": "stream",
          "name": "stdout",
          "text": [
            "\n",
            "      Epoch    GPU_mem   box_loss   cls_loss   dfl_loss  Instances       Size\n"
          ]
        },
        {
          "output_type": "stream",
          "name": "stderr",
          "text": [
            "      32/50      3.07G      1.454      1.575      1.867         52        640: 100%|██████████| 134/134 [00:46<00:00,  2.87it/s]\n",
            "                 Class     Images  Instances      Box(P          R      mAP50  mAP50-95): 100%|██████████| 7/7 [00:02<00:00,  2.98it/s]"
          ]
        },
        {
          "output_type": "stream",
          "name": "stdout",
          "text": [
            "                   all        204        389      0.686      0.609      0.641      0.369\n"
          ]
        },
        {
          "output_type": "stream",
          "name": "stderr",
          "text": [
            "\n"
          ]
        },
        {
          "output_type": "stream",
          "name": "stdout",
          "text": [
            "\n",
            "      Epoch    GPU_mem   box_loss   cls_loss   dfl_loss  Instances       Size\n"
          ]
        },
        {
          "output_type": "stream",
          "name": "stderr",
          "text": [
            "      33/50      3.09G      1.477      1.588      1.887         36        640: 100%|██████████| 134/134 [00:42<00:00,  3.17it/s]\n",
            "                 Class     Images  Instances      Box(P          R      mAP50  mAP50-95): 100%|██████████| 7/7 [00:02<00:00,  2.74it/s]"
          ]
        },
        {
          "output_type": "stream",
          "name": "stdout",
          "text": [
            "                   all        204        389      0.694      0.599      0.642      0.374\n"
          ]
        },
        {
          "output_type": "stream",
          "name": "stderr",
          "text": [
            "\n"
          ]
        },
        {
          "output_type": "stream",
          "name": "stdout",
          "text": [
            "\n",
            "      Epoch    GPU_mem   box_loss   cls_loss   dfl_loss  Instances       Size\n"
          ]
        },
        {
          "output_type": "stream",
          "name": "stderr",
          "text": [
            "      34/50      3.11G      1.461      1.571      1.862         37        640: 100%|██████████| 134/134 [00:42<00:00,  3.15it/s]\n",
            "                 Class     Images  Instances      Box(P          R      mAP50  mAP50-95): 100%|██████████| 7/7 [00:02<00:00,  2.88it/s]\n"
          ]
        },
        {
          "output_type": "stream",
          "name": "stdout",
          "text": [
            "                   all        204        389      0.687      0.648      0.686      0.406\n",
            "\n",
            "      Epoch    GPU_mem   box_loss   cls_loss   dfl_loss  Instances       Size\n"
          ]
        },
        {
          "output_type": "stream",
          "name": "stderr",
          "text": [
            "      35/50      3.12G       1.45      1.552      1.867         29        640: 100%|██████████| 134/134 [00:45<00:00,  2.93it/s]\n",
            "                 Class     Images  Instances      Box(P          R      mAP50  mAP50-95): 100%|██████████| 7/7 [00:02<00:00,  3.08it/s]\n"
          ]
        },
        {
          "output_type": "stream",
          "name": "stdout",
          "text": [
            "                   all        204        389      0.698      0.635      0.668      0.393\n",
            "\n",
            "      Epoch    GPU_mem   box_loss   cls_loss   dfl_loss  Instances       Size\n"
          ]
        },
        {
          "output_type": "stream",
          "name": "stderr",
          "text": [
            "      36/50      3.14G      1.453      1.553      1.864         39        640: 100%|██████████| 134/134 [00:43<00:00,  3.11it/s]\n",
            "                 Class     Images  Instances      Box(P          R      mAP50  mAP50-95): 100%|██████████| 7/7 [00:02<00:00,  3.19it/s]"
          ]
        },
        {
          "output_type": "stream",
          "name": "stdout",
          "text": [
            "                   all        204        389      0.718       0.62      0.678      0.404\n"
          ]
        },
        {
          "output_type": "stream",
          "name": "stderr",
          "text": [
            "\n"
          ]
        },
        {
          "output_type": "stream",
          "name": "stdout",
          "text": [
            "\n",
            "      Epoch    GPU_mem   box_loss   cls_loss   dfl_loss  Instances       Size\n"
          ]
        },
        {
          "output_type": "stream",
          "name": "stderr",
          "text": [
            "      37/50      3.16G       1.42      1.478      1.832         24        640: 100%|██████████| 134/134 [00:42<00:00,  3.15it/s]\n",
            "                 Class     Images  Instances      Box(P          R      mAP50  mAP50-95): 100%|██████████| 7/7 [00:02<00:00,  3.23it/s]\n"
          ]
        },
        {
          "output_type": "stream",
          "name": "stdout",
          "text": [
            "                   all        204        389      0.807      0.581      0.677      0.398\n",
            "\n",
            "      Epoch    GPU_mem   box_loss   cls_loss   dfl_loss  Instances       Size\n"
          ]
        },
        {
          "output_type": "stream",
          "name": "stderr",
          "text": [
            "      38/50      3.18G      1.428      1.491      1.841         38        640: 100%|██████████| 134/134 [00:43<00:00,  3.06it/s]\n",
            "                 Class     Images  Instances      Box(P          R      mAP50  mAP50-95): 100%|██████████| 7/7 [00:03<00:00,  1.80it/s]"
          ]
        },
        {
          "output_type": "stream",
          "name": "stdout",
          "text": [
            "                   all        204        389      0.783      0.581      0.667        0.4\n"
          ]
        },
        {
          "output_type": "stream",
          "name": "stderr",
          "text": [
            "\n"
          ]
        },
        {
          "output_type": "stream",
          "name": "stdout",
          "text": [
            "\n",
            "      Epoch    GPU_mem   box_loss   cls_loss   dfl_loss  Instances       Size\n"
          ]
        },
        {
          "output_type": "stream",
          "name": "stderr",
          "text": [
            "      39/50      3.19G      1.412      1.479      1.813         42        640: 100%|██████████| 134/134 [00:44<00:00,  2.99it/s]\n",
            "                 Class     Images  Instances      Box(P          R      mAP50  mAP50-95): 100%|██████████| 7/7 [00:02<00:00,  3.03it/s]\n"
          ]
        },
        {
          "output_type": "stream",
          "name": "stdout",
          "text": [
            "                   all        204        389      0.788      0.612      0.688      0.421\n",
            "\n",
            "      Epoch    GPU_mem   box_loss   cls_loss   dfl_loss  Instances       Size\n"
          ]
        },
        {
          "output_type": "stream",
          "name": "stderr",
          "text": [
            "      40/50      3.21G       1.41      1.455      1.817         45        640: 100%|██████████| 134/134 [00:44<00:00,  3.01it/s]\n",
            "                 Class     Images  Instances      Box(P          R      mAP50  mAP50-95): 100%|██████████| 7/7 [00:03<00:00,  2.10it/s]"
          ]
        },
        {
          "output_type": "stream",
          "name": "stdout",
          "text": [
            "                   all        204        389      0.768      0.627      0.696      0.422\n"
          ]
        },
        {
          "output_type": "stream",
          "name": "stderr",
          "text": [
            "\n"
          ]
        },
        {
          "output_type": "stream",
          "name": "stdout",
          "text": [
            "Closing dataloader mosaic\n",
            "\u001b[34m\u001b[1malbumentations: \u001b[0mBlur(p=0.01, blur_limit=(3, 7)), MedianBlur(p=0.01, blur_limit=(3, 7)), ToGray(p=0.01, method='weighted_average', num_output_channels=3), CLAHE(p=0.01, clip_limit=(1.0, 4.0), tile_grid_size=(8, 8))\n",
            "\n",
            "      Epoch    GPU_mem   box_loss   cls_loss   dfl_loss  Instances       Size\n"
          ]
        },
        {
          "output_type": "stream",
          "name": "stderr",
          "text": [
            "      41/50      3.23G      1.353      1.317      1.783         15        640: 100%|██████████| 134/134 [00:43<00:00,  3.08it/s]\n",
            "                 Class     Images  Instances      Box(P          R      mAP50  mAP50-95): 100%|██████████| 7/7 [00:02<00:00,  3.05it/s]"
          ]
        },
        {
          "output_type": "stream",
          "name": "stdout",
          "text": [
            "                   all        204        389      0.732       0.64       0.69      0.423\n"
          ]
        },
        {
          "output_type": "stream",
          "name": "stderr",
          "text": [
            "\n"
          ]
        },
        {
          "output_type": "stream",
          "name": "stdout",
          "text": [
            "\n",
            "      Epoch    GPU_mem   box_loss   cls_loss   dfl_loss  Instances       Size\n"
          ]
        },
        {
          "output_type": "stream",
          "name": "stderr",
          "text": [
            "      42/50      3.25G      1.338      1.258      1.778         14        640: 100%|██████████| 134/134 [00:41<00:00,  3.22it/s]\n",
            "                 Class     Images  Instances      Box(P          R      mAP50  mAP50-95): 100%|██████████| 7/7 [00:02<00:00,  2.85it/s]"
          ]
        },
        {
          "output_type": "stream",
          "name": "stdout",
          "text": [
            "                   all        204        389      0.796      0.653      0.722      0.443\n"
          ]
        },
        {
          "output_type": "stream",
          "name": "stderr",
          "text": [
            "\n"
          ]
        },
        {
          "output_type": "stream",
          "name": "stdout",
          "text": [
            "\n",
            "      Epoch    GPU_mem   box_loss   cls_loss   dfl_loss  Instances       Size\n"
          ]
        },
        {
          "output_type": "stream",
          "name": "stderr",
          "text": [
            "      43/50      3.26G      1.324      1.243      1.768         17        640: 100%|██████████| 134/134 [00:43<00:00,  3.10it/s]\n",
            "                 Class     Images  Instances      Box(P          R      mAP50  mAP50-95): 100%|██████████| 7/7 [00:02<00:00,  2.62it/s]"
          ]
        },
        {
          "output_type": "stream",
          "name": "stdout",
          "text": [
            "                   all        204        389      0.824      0.602      0.714      0.441\n"
          ]
        },
        {
          "output_type": "stream",
          "name": "stderr",
          "text": [
            "\n"
          ]
        },
        {
          "output_type": "stream",
          "name": "stdout",
          "text": [
            "\n",
            "      Epoch    GPU_mem   box_loss   cls_loss   dfl_loss  Instances       Size\n"
          ]
        },
        {
          "output_type": "stream",
          "name": "stderr",
          "text": [
            "      44/50      3.28G      1.306      1.215      1.755         24        640: 100%|██████████| 134/134 [00:41<00:00,  3.24it/s]\n",
            "                 Class     Images  Instances      Box(P          R      mAP50  mAP50-95): 100%|██████████| 7/7 [00:03<00:00,  1.78it/s]"
          ]
        },
        {
          "output_type": "stream",
          "name": "stdout",
          "text": [
            "                   all        204        389      0.785      0.637      0.714      0.446\n"
          ]
        },
        {
          "output_type": "stream",
          "name": "stderr",
          "text": [
            "\n"
          ]
        },
        {
          "output_type": "stream",
          "name": "stdout",
          "text": [
            "\n",
            "      Epoch    GPU_mem   box_loss   cls_loss   dfl_loss  Instances       Size\n"
          ]
        },
        {
          "output_type": "stream",
          "name": "stderr",
          "text": [
            "      45/50      3.29G      1.296      1.181      1.736         23        640: 100%|██████████| 134/134 [00:40<00:00,  3.30it/s]\n",
            "                 Class     Images  Instances      Box(P          R      mAP50  mAP50-95): 100%|██████████| 7/7 [00:03<00:00,  1.80it/s]"
          ]
        },
        {
          "output_type": "stream",
          "name": "stdout",
          "text": [
            "                   all        204        389      0.788      0.609      0.706      0.434\n"
          ]
        },
        {
          "output_type": "stream",
          "name": "stderr",
          "text": [
            "\n"
          ]
        },
        {
          "output_type": "stream",
          "name": "stdout",
          "text": [
            "\n",
            "      Epoch    GPU_mem   box_loss   cls_loss   dfl_loss  Instances       Size\n"
          ]
        },
        {
          "output_type": "stream",
          "name": "stderr",
          "text": [
            "      46/50      3.31G      1.281       1.18      1.725         22        640: 100%|██████████| 134/134 [00:40<00:00,  3.32it/s]\n",
            "                 Class     Images  Instances      Box(P          R      mAP50  mAP50-95): 100%|██████████| 7/7 [00:02<00:00,  3.09it/s]"
          ]
        },
        {
          "output_type": "stream",
          "name": "stdout",
          "text": [
            "                   all        204        389      0.802      0.596      0.713      0.445\n"
          ]
        },
        {
          "output_type": "stream",
          "name": "stderr",
          "text": [
            "\n"
          ]
        },
        {
          "output_type": "stream",
          "name": "stdout",
          "text": [
            "\n",
            "      Epoch    GPU_mem   box_loss   cls_loss   dfl_loss  Instances       Size\n"
          ]
        },
        {
          "output_type": "stream",
          "name": "stderr",
          "text": [
            "      47/50      3.33G      1.272      1.148      1.714         23        640: 100%|██████████| 134/134 [00:40<00:00,  3.30it/s]\n",
            "                 Class     Images  Instances      Box(P          R      mAP50  mAP50-95): 100%|██████████| 7/7 [00:02<00:00,  3.18it/s]"
          ]
        },
        {
          "output_type": "stream",
          "name": "stdout",
          "text": [
            "                   all        204        389      0.802       0.63      0.725      0.452\n"
          ]
        },
        {
          "output_type": "stream",
          "name": "stderr",
          "text": [
            "\n"
          ]
        },
        {
          "output_type": "stream",
          "name": "stdout",
          "text": [
            "\n",
            "      Epoch    GPU_mem   box_loss   cls_loss   dfl_loss  Instances       Size\n"
          ]
        },
        {
          "output_type": "stream",
          "name": "stderr",
          "text": [
            "      48/50      3.35G      1.249       1.12      1.692         24        640: 100%|██████████| 134/134 [00:41<00:00,  3.20it/s]\n",
            "                 Class     Images  Instances      Box(P          R      mAP50  mAP50-95): 100%|██████████| 7/7 [00:02<00:00,  2.99it/s]\n"
          ]
        },
        {
          "output_type": "stream",
          "name": "stdout",
          "text": [
            "                   all        204        389       0.81      0.643      0.726      0.457\n",
            "\n",
            "      Epoch    GPU_mem   box_loss   cls_loss   dfl_loss  Instances       Size\n"
          ]
        },
        {
          "output_type": "stream",
          "name": "stderr",
          "text": [
            "      49/50      3.37G       1.24      1.109      1.696         27        640: 100%|██████████| 134/134 [00:40<00:00,  3.32it/s]\n",
            "                 Class     Images  Instances      Box(P          R      mAP50  mAP50-95): 100%|██████████| 7/7 [00:02<00:00,  3.26it/s]"
          ]
        },
        {
          "output_type": "stream",
          "name": "stdout",
          "text": [
            "                   all        204        389      0.796      0.635      0.728      0.465\n"
          ]
        },
        {
          "output_type": "stream",
          "name": "stderr",
          "text": [
            "\n"
          ]
        },
        {
          "output_type": "stream",
          "name": "stdout",
          "text": [
            "\n",
            "      Epoch    GPU_mem   box_loss   cls_loss   dfl_loss  Instances       Size\n"
          ]
        },
        {
          "output_type": "stream",
          "name": "stderr",
          "text": [
            "      50/50      3.38G      1.239      1.115      1.688         23        640: 100%|██████████| 134/134 [00:41<00:00,  3.26it/s]\n",
            "                 Class     Images  Instances      Box(P          R      mAP50  mAP50-95): 100%|██████████| 7/7 [00:02<00:00,  3.23it/s]"
          ]
        },
        {
          "output_type": "stream",
          "name": "stdout",
          "text": [
            "                   all        204        389       0.81      0.643      0.724      0.462\n"
          ]
        },
        {
          "output_type": "stream",
          "name": "stderr",
          "text": [
            "\n"
          ]
        },
        {
          "output_type": "stream",
          "name": "stdout",
          "text": [
            "\n",
            "50 epochs completed in 0.650 hours.\n",
            "Optimizer stripped from runs/detect/train4/weights/last.pt, 6.2MB\n",
            "Optimizer stripped from runs/detect/train4/weights/best.pt, 6.2MB\n",
            "\n",
            "Validating runs/detect/train4/weights/best.pt...\n",
            "Ultralytics 8.3.162 🚀 Python-3.11.13 torch-2.6.0+cu124 CUDA:0 (Tesla T4, 15095MiB)\n",
            "YOLOv8n summary (fused): 72 layers, 3,005,843 parameters, 0 gradients, 8.1 GFLOPs\n"
          ]
        },
        {
          "output_type": "stream",
          "name": "stderr",
          "text": [
            "                 Class     Images  Instances      Box(P          R      mAP50  mAP50-95): 100%|██████████| 7/7 [00:05<00:00,  1.19it/s]\n"
          ]
        },
        {
          "output_type": "stream",
          "name": "stdout",
          "text": [
            "                   all        204        389      0.797      0.636      0.728      0.465\n",
            "Speed: 0.3ms preprocess, 3.2ms inference, 0.0ms loss, 9.9ms postprocess per image\n",
            "Results saved to \u001b[1mruns/detect/train4\u001b[0m\n"
          ]
        },
        {
          "output_type": "execute_result",
          "data": {
            "text/plain": [
              "ultralytics.utils.metrics.DetMetrics object with attributes:\n",
              "\n",
              "ap_class_index: array([0])\n",
              "box: ultralytics.utils.metrics.Metric object\n",
              "confusion_matrix: <ultralytics.utils.metrics.ConfusionMatrix object at 0x7ddb04e05990>\n",
              "curves: ['Precision-Recall(B)', 'F1-Confidence(B)', 'Precision-Confidence(B)', 'Recall-Confidence(B)']\n",
              "curves_results: [[array([          0,    0.001001,    0.002002,    0.003003,    0.004004,    0.005005,    0.006006,    0.007007,    0.008008,    0.009009,     0.01001,    0.011011,    0.012012,    0.013013,    0.014014,    0.015015,    0.016016,    0.017017,    0.018018,    0.019019,     0.02002,    0.021021,    0.022022,    0.023023,\n",
              "          0.024024,    0.025025,    0.026026,    0.027027,    0.028028,    0.029029,     0.03003,    0.031031,    0.032032,    0.033033,    0.034034,    0.035035,    0.036036,    0.037037,    0.038038,    0.039039,     0.04004,    0.041041,    0.042042,    0.043043,    0.044044,    0.045045,    0.046046,    0.047047,\n",
              "          0.048048,    0.049049,     0.05005,    0.051051,    0.052052,    0.053053,    0.054054,    0.055055,    0.056056,    0.057057,    0.058058,    0.059059,     0.06006,    0.061061,    0.062062,    0.063063,    0.064064,    0.065065,    0.066066,    0.067067,    0.068068,    0.069069,     0.07007,    0.071071,\n",
              "          0.072072,    0.073073,    0.074074,    0.075075,    0.076076,    0.077077,    0.078078,    0.079079,     0.08008,    0.081081,    0.082082,    0.083083,    0.084084,    0.085085,    0.086086,    0.087087,    0.088088,    0.089089,     0.09009,    0.091091,    0.092092,    0.093093,    0.094094,    0.095095,\n",
              "          0.096096,    0.097097,    0.098098,    0.099099,      0.1001,      0.1011,      0.1021,      0.1031,      0.1041,     0.10511,     0.10611,     0.10711,     0.10811,     0.10911,     0.11011,     0.11111,     0.11211,     0.11311,     0.11411,     0.11512,     0.11612,     0.11712,     0.11812,     0.11912,\n",
              "           0.12012,     0.12112,     0.12212,     0.12312,     0.12412,     0.12513,     0.12613,     0.12713,     0.12813,     0.12913,     0.13013,     0.13113,     0.13213,     0.13313,     0.13413,     0.13514,     0.13614,     0.13714,     0.13814,     0.13914,     0.14014,     0.14114,     0.14214,     0.14314,\n",
              "           0.14414,     0.14515,     0.14615,     0.14715,     0.14815,     0.14915,     0.15015,     0.15115,     0.15215,     0.15315,     0.15415,     0.15516,     0.15616,     0.15716,     0.15816,     0.15916,     0.16016,     0.16116,     0.16216,     0.16316,     0.16416,     0.16517,     0.16617,     0.16717,\n",
              "           0.16817,     0.16917,     0.17017,     0.17117,     0.17217,     0.17317,     0.17417,     0.17518,     0.17618,     0.17718,     0.17818,     0.17918,     0.18018,     0.18118,     0.18218,     0.18318,     0.18418,     0.18519,     0.18619,     0.18719,     0.18819,     0.18919,     0.19019,     0.19119,\n",
              "           0.19219,     0.19319,     0.19419,      0.1952,      0.1962,      0.1972,      0.1982,      0.1992,      0.2002,      0.2012,      0.2022,      0.2032,      0.2042,     0.20521,     0.20621,     0.20721,     0.20821,     0.20921,     0.21021,     0.21121,     0.21221,     0.21321,     0.21421,     0.21522,\n",
              "           0.21622,     0.21722,     0.21822,     0.21922,     0.22022,     0.22122,     0.22222,     0.22322,     0.22422,     0.22523,     0.22623,     0.22723,     0.22823,     0.22923,     0.23023,     0.23123,     0.23223,     0.23323,     0.23423,     0.23524,     0.23624,     0.23724,     0.23824,     0.23924,\n",
              "           0.24024,     0.24124,     0.24224,     0.24324,     0.24424,     0.24525,     0.24625,     0.24725,     0.24825,     0.24925,     0.25025,     0.25125,     0.25225,     0.25325,     0.25425,     0.25526,     0.25626,     0.25726,     0.25826,     0.25926,     0.26026,     0.26126,     0.26226,     0.26326,\n",
              "           0.26426,     0.26527,     0.26627,     0.26727,     0.26827,     0.26927,     0.27027,     0.27127,     0.27227,     0.27327,     0.27427,     0.27528,     0.27628,     0.27728,     0.27828,     0.27928,     0.28028,     0.28128,     0.28228,     0.28328,     0.28428,     0.28529,     0.28629,     0.28729,\n",
              "           0.28829,     0.28929,     0.29029,     0.29129,     0.29229,     0.29329,     0.29429,      0.2953,      0.2963,      0.2973,      0.2983,      0.2993,      0.3003,      0.3013,      0.3023,      0.3033,      0.3043,     0.30531,     0.30631,     0.30731,     0.30831,     0.30931,     0.31031,     0.31131,\n",
              "           0.31231,     0.31331,     0.31431,     0.31532,     0.31632,     0.31732,     0.31832,     0.31932,     0.32032,     0.32132,     0.32232,     0.32332,     0.32432,     0.32533,     0.32633,     0.32733,     0.32833,     0.32933,     0.33033,     0.33133,     0.33233,     0.33333,     0.33433,     0.33534,\n",
              "           0.33634,     0.33734,     0.33834,     0.33934,     0.34034,     0.34134,     0.34234,     0.34334,     0.34434,     0.34535,     0.34635,     0.34735,     0.34835,     0.34935,     0.35035,     0.35135,     0.35235,     0.35335,     0.35435,     0.35536,     0.35636,     0.35736,     0.35836,     0.35936,\n",
              "           0.36036,     0.36136,     0.36236,     0.36336,     0.36436,     0.36537,     0.36637,     0.36737,     0.36837,     0.36937,     0.37037,     0.37137,     0.37237,     0.37337,     0.37437,     0.37538,     0.37638,     0.37738,     0.37838,     0.37938,     0.38038,     0.38138,     0.38238,     0.38338,\n",
              "           0.38438,     0.38539,     0.38639,     0.38739,     0.38839,     0.38939,     0.39039,     0.39139,     0.39239,     0.39339,     0.39439,      0.3954,      0.3964,      0.3974,      0.3984,      0.3994,      0.4004,      0.4014,      0.4024,      0.4034,      0.4044,     0.40541,     0.40641,     0.40741,\n",
              "           0.40841,     0.40941,     0.41041,     0.41141,     0.41241,     0.41341,     0.41441,     0.41542,     0.41642,     0.41742,     0.41842,     0.41942,     0.42042,     0.42142,     0.42242,     0.42342,     0.42442,     0.42543,     0.42643,     0.42743,     0.42843,     0.42943,     0.43043,     0.43143,\n",
              "           0.43243,     0.43343,     0.43443,     0.43544,     0.43644,     0.43744,     0.43844,     0.43944,     0.44044,     0.44144,     0.44244,     0.44344,     0.44444,     0.44545,     0.44645,     0.44745,     0.44845,     0.44945,     0.45045,     0.45145,     0.45245,     0.45345,     0.45445,     0.45546,\n",
              "           0.45646,     0.45746,     0.45846,     0.45946,     0.46046,     0.46146,     0.46246,     0.46346,     0.46446,     0.46547,     0.46647,     0.46747,     0.46847,     0.46947,     0.47047,     0.47147,     0.47247,     0.47347,     0.47447,     0.47548,     0.47648,     0.47748,     0.47848,     0.47948,\n",
              "           0.48048,     0.48148,     0.48248,     0.48348,     0.48448,     0.48549,     0.48649,     0.48749,     0.48849,     0.48949,     0.49049,     0.49149,     0.49249,     0.49349,     0.49449,      0.4955,      0.4965,      0.4975,      0.4985,      0.4995,      0.5005,      0.5015,      0.5025,      0.5035,\n",
              "            0.5045,     0.50551,     0.50651,     0.50751,     0.50851,     0.50951,     0.51051,     0.51151,     0.51251,     0.51351,     0.51451,     0.51552,     0.51652,     0.51752,     0.51852,     0.51952,     0.52052,     0.52152,     0.52252,     0.52352,     0.52452,     0.52553,     0.52653,     0.52753,\n",
              "           0.52853,     0.52953,     0.53053,     0.53153,     0.53253,     0.53353,     0.53453,     0.53554,     0.53654,     0.53754,     0.53854,     0.53954,     0.54054,     0.54154,     0.54254,     0.54354,     0.54454,     0.54555,     0.54655,     0.54755,     0.54855,     0.54955,     0.55055,     0.55155,\n",
              "           0.55255,     0.55355,     0.55455,     0.55556,     0.55656,     0.55756,     0.55856,     0.55956,     0.56056,     0.56156,     0.56256,     0.56356,     0.56456,     0.56557,     0.56657,     0.56757,     0.56857,     0.56957,     0.57057,     0.57157,     0.57257,     0.57357,     0.57457,     0.57558,\n",
              "           0.57658,     0.57758,     0.57858,     0.57958,     0.58058,     0.58158,     0.58258,     0.58358,     0.58458,     0.58559,     0.58659,     0.58759,     0.58859,     0.58959,     0.59059,     0.59159,     0.59259,     0.59359,     0.59459,      0.5956,      0.5966,      0.5976,      0.5986,      0.5996,\n",
              "            0.6006,      0.6016,      0.6026,      0.6036,      0.6046,     0.60561,     0.60661,     0.60761,     0.60861,     0.60961,     0.61061,     0.61161,     0.61261,     0.61361,     0.61461,     0.61562,     0.61662,     0.61762,     0.61862,     0.61962,     0.62062,     0.62162,     0.62262,     0.62362,\n",
              "           0.62462,     0.62563,     0.62663,     0.62763,     0.62863,     0.62963,     0.63063,     0.63163,     0.63263,     0.63363,     0.63463,     0.63564,     0.63664,     0.63764,     0.63864,     0.63964,     0.64064,     0.64164,     0.64264,     0.64364,     0.64464,     0.64565,     0.64665,     0.64765,\n",
              "           0.64865,     0.64965,     0.65065,     0.65165,     0.65265,     0.65365,     0.65465,     0.65566,     0.65666,     0.65766,     0.65866,     0.65966,     0.66066,     0.66166,     0.66266,     0.66366,     0.66466,     0.66567,     0.66667,     0.66767,     0.66867,     0.66967,     0.67067,     0.67167,\n",
              "           0.67267,     0.67367,     0.67467,     0.67568,     0.67668,     0.67768,     0.67868,     0.67968,     0.68068,     0.68168,     0.68268,     0.68368,     0.68468,     0.68569,     0.68669,     0.68769,     0.68869,     0.68969,     0.69069,     0.69169,     0.69269,     0.69369,     0.69469,      0.6957,\n",
              "            0.6967,      0.6977,      0.6987,      0.6997,      0.7007,      0.7017,      0.7027,      0.7037,      0.7047,     0.70571,     0.70671,     0.70771,     0.70871,     0.70971,     0.71071,     0.71171,     0.71271,     0.71371,     0.71471,     0.71572,     0.71672,     0.71772,     0.71872,     0.71972,\n",
              "           0.72072,     0.72172,     0.72272,     0.72372,     0.72472,     0.72573,     0.72673,     0.72773,     0.72873,     0.72973,     0.73073,     0.73173,     0.73273,     0.73373,     0.73473,     0.73574,     0.73674,     0.73774,     0.73874,     0.73974,     0.74074,     0.74174,     0.74274,     0.74374,\n",
              "           0.74474,     0.74575,     0.74675,     0.74775,     0.74875,     0.74975,     0.75075,     0.75175,     0.75275,     0.75375,     0.75475,     0.75576,     0.75676,     0.75776,     0.75876,     0.75976,     0.76076,     0.76176,     0.76276,     0.76376,     0.76476,     0.76577,     0.76677,     0.76777,\n",
              "           0.76877,     0.76977,     0.77077,     0.77177,     0.77277,     0.77377,     0.77477,     0.77578,     0.77678,     0.77778,     0.77878,     0.77978,     0.78078,     0.78178,     0.78278,     0.78378,     0.78478,     0.78579,     0.78679,     0.78779,     0.78879,     0.78979,     0.79079,     0.79179,\n",
              "           0.79279,     0.79379,     0.79479,      0.7958,      0.7968,      0.7978,      0.7988,      0.7998,      0.8008,      0.8018,      0.8028,      0.8038,      0.8048,     0.80581,     0.80681,     0.80781,     0.80881,     0.80981,     0.81081,     0.81181,     0.81281,     0.81381,     0.81481,     0.81582,\n",
              "           0.81682,     0.81782,     0.81882,     0.81982,     0.82082,     0.82182,     0.82282,     0.82382,     0.82482,     0.82583,     0.82683,     0.82783,     0.82883,     0.82983,     0.83083,     0.83183,     0.83283,     0.83383,     0.83483,     0.83584,     0.83684,     0.83784,     0.83884,     0.83984,\n",
              "           0.84084,     0.84184,     0.84284,     0.84384,     0.84484,     0.84585,     0.84685,     0.84785,     0.84885,     0.84985,     0.85085,     0.85185,     0.85285,     0.85385,     0.85485,     0.85586,     0.85686,     0.85786,     0.85886,     0.85986,     0.86086,     0.86186,     0.86286,     0.86386,\n",
              "           0.86486,     0.86587,     0.86687,     0.86787,     0.86887,     0.86987,     0.87087,     0.87187,     0.87287,     0.87387,     0.87487,     0.87588,     0.87688,     0.87788,     0.87888,     0.87988,     0.88088,     0.88188,     0.88288,     0.88388,     0.88488,     0.88589,     0.88689,     0.88789,\n",
              "           0.88889,     0.88989,     0.89089,     0.89189,     0.89289,     0.89389,     0.89489,      0.8959,      0.8969,      0.8979,      0.8989,      0.8999,      0.9009,      0.9019,      0.9029,      0.9039,      0.9049,     0.90591,     0.90691,     0.90791,     0.90891,     0.90991,     0.91091,     0.91191,\n",
              "           0.91291,     0.91391,     0.91491,     0.91592,     0.91692,     0.91792,     0.91892,     0.91992,     0.92092,     0.92192,     0.92292,     0.92392,     0.92492,     0.92593,     0.92693,     0.92793,     0.92893,     0.92993,     0.93093,     0.93193,     0.93293,     0.93393,     0.93493,     0.93594,\n",
              "           0.93694,     0.93794,     0.93894,     0.93994,     0.94094,     0.94194,     0.94294,     0.94394,     0.94494,     0.94595,     0.94695,     0.94795,     0.94895,     0.94995,     0.95095,     0.95195,     0.95295,     0.95395,     0.95495,     0.95596,     0.95696,     0.95796,     0.95896,     0.95996,\n",
              "           0.96096,     0.96196,     0.96296,     0.96396,     0.96496,     0.96597,     0.96697,     0.96797,     0.96897,     0.96997,     0.97097,     0.97197,     0.97297,     0.97397,     0.97497,     0.97598,     0.97698,     0.97798,     0.97898,     0.97998,     0.98098,     0.98198,     0.98298,     0.98398,\n",
              "           0.98498,     0.98599,     0.98699,     0.98799,     0.98899,     0.98999,     0.99099,     0.99199,     0.99299,     0.99399,     0.99499,       0.996,       0.997,       0.998,       0.999,           1]), array([[          1,           1,           1,           1,           1,           1,           1,           1,           1,           1,           1,           1,           1,           1,           1,           1,           1,           1,           1,           1,           1,           1,           1,\n",
              "                  1,           1,           1,           1,           1,           1,           1,           1,           1,           1,           1,           1,           1,           1,           1,           1,           1,           1,           1,           1,           1,           1,           1,\n",
              "                  1,           1,           1,           1,           1,           1,           1,           1,           1,           1,           1,           1,           1,           1,           1,           1,           1,           1,           1,           1,           1,           1,           1,\n",
              "                  1,     0.98305,     0.98305,     0.98305,     0.98305,     0.98305,     0.98305,     0.98305,     0.98305,     0.98305,     0.98305,     0.98305,     0.98305,     0.98305,     0.98305,     0.98305,     0.98305,     0.98305,     0.98305,     0.98305,     0.98305,     0.98305,     0.98305,\n",
              "            0.98305,     0.98305,     0.98305,     0.98305,     0.98305,     0.98305,     0.98305,     0.98305,     0.98305,     0.98305,     0.98305,     0.98305,     0.98305,     0.98305,     0.98305,     0.98305,     0.98305,     0.98305,     0.98305,     0.98305,     0.98305,     0.98305,     0.98305,\n",
              "            0.98305,     0.98305,     0.98305,     0.98305,     0.98305,     0.98305,     0.98305,     0.98305,     0.98305,     0.98305,     0.98305,     0.98305,     0.98305,     0.98305,     0.98305,     0.98305,     0.98305,     0.98305,     0.98305,     0.98305,     0.98305,     0.98305,     0.98305,\n",
              "            0.98305,     0.98305,     0.98305,     0.98305,     0.98305,     0.98305,     0.98305,     0.98305,     0.98305,     0.98305,     0.98305,     0.97761,     0.97761,     0.97761,     0.97761,     0.97761,     0.97761,     0.97761,     0.97761,     0.97761,     0.97761,     0.97761,     0.97761,\n",
              "            0.97761,     0.97761,     0.97761,     0.97761,     0.97761,     0.97761,     0.97761,     0.97761,     0.97761,     0.97761,     0.97761,     0.97761,     0.97761,     0.97761,     0.97761,     0.97761,     0.97761,     0.97761,     0.97761,     0.97761,     0.97761,     0.97761,     0.97761,\n",
              "            0.97761,     0.97761,     0.97761,     0.97761,     0.97761,     0.97761,     0.97761,     0.97761,     0.97761,     0.97761,     0.97761,     0.97761,     0.97761,     0.97761,     0.97761,     0.97761,     0.97761,     0.97761,     0.97761,     0.97761,     0.97761,     0.97761,     0.97761,\n",
              "            0.97761,     0.97761,     0.97761,     0.97761,     0.97761,     0.97761,     0.97761,     0.97761,     0.97761,     0.97761,     0.97761,     0.97761,     0.97761,     0.97761,     0.97761,     0.97761,     0.97761,     0.97761,     0.97761,     0.97761,     0.97761,     0.97761,     0.97761,\n",
              "            0.97761,     0.97761,     0.97761,     0.97761,     0.97761,     0.97761,     0.97761,     0.97761,     0.97761,     0.97761,     0.97761,     0.97761,     0.97761,     0.97761,     0.97761,     0.97761,     0.97761,     0.97761,     0.97761,     0.97761,     0.97761,     0.97761,     0.97761,\n",
              "            0.97761,     0.97761,     0.97761,     0.97761,     0.97761,     0.97761,     0.97761,     0.97761,     0.97761,     0.97761,     0.97761,     0.97761,     0.97761,     0.97761,     0.97761,     0.97761,     0.97761,     0.97761,     0.97761,     0.97761,     0.97761,     0.97761,     0.97761,\n",
              "            0.97761,     0.97761,     0.97761,     0.97761,     0.97761,     0.97761,     0.97761,     0.97761,     0.97761,     0.97761,     0.97761,     0.97761,     0.97761,     0.97761,     0.97761,     0.97761,     0.97761,     0.97761,     0.97761,     0.97761,     0.97761,     0.97761,     0.97761,\n",
              "            0.97761,     0.97761,     0.97761,     0.97761,     0.97761,     0.97761,     0.97761,     0.97761,     0.97761,     0.97761,     0.97761,     0.97761,     0.97761,     0.97761,     0.97761,     0.97761,     0.97761,     0.97761,     0.97761,     0.97761,     0.97761,     0.97761,     0.97761,\n",
              "            0.97761,     0.97761,     0.97761,     0.97761,     0.97761,     0.97761,     0.97761,     0.97761,     0.97761,     0.97761,     0.97761,     0.97761,     0.97761,     0.97761,     0.97761,     0.97122,     0.97122,     0.97122,     0.97122,     0.97122,     0.97122,     0.97122,     0.97122,\n",
              "            0.97122,     0.97122,     0.96732,     0.96732,     0.96732,     0.96732,     0.96732,     0.96732,     0.96732,     0.96732,     0.96732,     0.96732,     0.96732,     0.96732,     0.96732,     0.96732,     0.96732,     0.96732,     0.96732,     0.96732,     0.96732,     0.96732,     0.96732,\n",
              "            0.96732,     0.96732,     0.96732,     0.96732,     0.96732,     0.96732,     0.96732,     0.96732,     0.96732,     0.96732,     0.96732,     0.96732,     0.96732,     0.96178,     0.96178,     0.96178,     0.96178,     0.96178,     0.96178,     0.96178,     0.95031,     0.95031,     0.95031,\n",
              "            0.95031,     0.95031,     0.94578,     0.94578,     0.94578,     0.94578,     0.94578,     0.94578,     0.94578,     0.94578,     0.94578,     0.94578,     0.94578,     0.94083,     0.94083,     0.94083,     0.94083,     0.94083,      0.9382,      0.9382,      0.9382,      0.9382,      0.9382,\n",
              "             0.9382,      0.9382,      0.9382,      0.9382,      0.9382,      0.9382,      0.9382,      0.9382,      0.9382,      0.9382,      0.9382,      0.9382,      0.9382,      0.9382,      0.9382,     0.93333,     0.93333,     0.93333,     0.93048,     0.93048,     0.93048,     0.93048,     0.93048,\n",
              "            0.93048,     0.93048,     0.93048,     0.93048,     0.93048,     0.93048,     0.93048,     0.93048,     0.93048,     0.93048,     0.92821,     0.92821,     0.92821,     0.92821,     0.92821,     0.92821,     0.92821,     0.92821,     0.92821,     0.92821,     0.92821,     0.92821,     0.92821,\n",
              "            0.92821,     0.92821,     0.92821,     0.92821,     0.92821,     0.92386,     0.92386,     0.92386,     0.92195,     0.92195,     0.92195,     0.92195,     0.92195,     0.92195,     0.92195,     0.92195,     0.92195,     0.92195,     0.92195,     0.92195,     0.92195,     0.92195,     0.92195,\n",
              "            0.92195,     0.92195,     0.92195,     0.91388,     0.91388,     0.91388,     0.91388,     0.91388,     0.91038,     0.91038,     0.91038,     0.91038,     0.91038,     0.90741,     0.90741,     0.90741,     0.90741,     0.90741,     0.90741,     0.90741,     0.90741,     0.90265,     0.90265,\n",
              "            0.90265,     0.90265,     0.90265,     0.90265,     0.90265,     0.90265,     0.90265,     0.90265,     0.90265,     0.90265,     0.90265,     0.90265,     0.90265,     0.90265,     0.90265,     0.90265,     0.90265,     0.90265,     0.90213,     0.90213,     0.90213,     0.90213,     0.90213,\n",
              "            0.90213,     0.90213,     0.90213,     0.90213,     0.90213,     0.90213,     0.90213,     0.90213,     0.90213,     0.90213,     0.90213,     0.90213,     0.90213,     0.90213,     0.90213,     0.90213,     0.88259,     0.88259,     0.88259,     0.88259,     0.88259,     0.88259,     0.88259,\n",
              "            0.88259,     0.88259,     0.88259,     0.88259,     0.88259,     0.88259,     0.88259,     0.88259,     0.87302,     0.87302,     0.87302,     0.87302,     0.87302,     0.87008,     0.87008,     0.87008,     0.86719,     0.86719,     0.86719,     0.86312,     0.86312,     0.86312,     0.86312,\n",
              "            0.86312,     0.86312,     0.86312,     0.86312,     0.86312,     0.86312,     0.86312,     0.86312,      0.8513,      0.8513,      0.8513,      0.8513,      0.8513,      0.8513,     0.84926,     0.84926,     0.84926,     0.84926,     0.84926,     0.84783,     0.84783,     0.84783,     0.84783,\n",
              "            0.84783,     0.84783,     0.84783,     0.84643,     0.84643,     0.84643,     0.84643,     0.84643,     0.84643,     0.84643,     0.84643,     0.84452,     0.84452,     0.84452,     0.84452,     0.84452,     0.84211,     0.84211,     0.84211,     0.83391,     0.83391,     0.83162,     0.83162,\n",
              "            0.83162,     0.82935,     0.82935,     0.82935,      0.8255,      0.8255,      0.8255,      0.8255,      0.8255,      0.8255,      0.8255,     0.79935,     0.79935,     0.79935,     0.79743,     0.79743,     0.79114,     0.79114,     0.79114,     0.79114,     0.79114,     0.79114,     0.79063,\n",
              "            0.79063,     0.79063,     0.79063,     0.79063,     0.79063,     0.79063,     0.77676,     0.77676,     0.77676,     0.77576,     0.77576,     0.77576,     0.77576,     0.77576,     0.76946,     0.76946,     0.76946,     0.76093,     0.76093,     0.76093,     0.76093,     0.76093,     0.76093,\n",
              "            0.76093,     0.76093,     0.76093,     0.76093,     0.75287,     0.75287,     0.75143,     0.75143,     0.75143,     0.74788,     0.74788,     0.73407,     0.73407,     0.73407,     0.73077,     0.73077,     0.73077,     0.72554,     0.72554,     0.72237,     0.72237,     0.72237,     0.72193,\n",
              "            0.72193,     0.72193,     0.72193,     0.72193,     0.71883,     0.71883,     0.71018,     0.71018,     0.71018,         0.7,         0.7,         0.7,     0.67153,     0.67153,     0.67153,     0.67153,     0.67153,     0.67153,     0.67153,     0.66747,     0.66747,     0.66747,     0.66429,\n",
              "            0.66429,     0.66429,     0.66429,     0.66429,     0.66038,     0.66038,     0.66038,     0.63657,     0.63657,     0.63657,     0.63657,     0.63657,     0.63596,     0.63596,     0.63535,     0.63535,     0.63535,     0.63053,     0.63053,     0.61771,     0.61771,     0.61771,     0.61456,\n",
              "            0.61456,     0.61456,     0.59381,     0.59381,     0.59343,     0.59343,     0.59343,     0.56863,     0.56863,     0.56178,     0.56178,     0.56178,     0.55094,     0.55094,      0.5043,      0.5043,      0.5043,     0.48276,     0.48276,     0.48276,     0.48046,     0.48046,     0.47896,\n",
              "            0.47896,     0.47896,     0.47749,     0.47749,     0.46929,     0.46929,     0.46929,     0.44694,     0.44694,     0.43103,     0.43103,     0.43103,     0.42635,     0.42635,     0.42635,     0.42595,     0.42595,     0.41851,     0.41851,     0.41851,      0.4097,      0.4097,     0.38882,\n",
              "            0.38882,     0.38882,     0.38882,     0.38882,     0.37623,     0.37623,     0.37623,     0.36975,     0.36975,     0.36962,     0.36962,     0.36962,     0.35348,     0.35348,     0.35348,     0.35181,     0.35181,     0.34744,     0.34744,     0.34744,     0.32809,     0.32809,     0.31685,\n",
              "            0.31685,     0.31685,     0.31658,     0.31658,     0.30326,     0.30326,     0.30326,     0.29737,     0.29737,     0.29737,     0.28191,     0.28191,     0.27691,     0.27691,     0.27691,     0.26801,     0.26801,     0.26442,     0.26442,     0.26442,     0.24827,     0.24827,     0.23979,\n",
              "            0.23979,     0.23979,     0.23209,     0.23209,     0.23209,     0.22648,     0.22648,     0.22405,     0.22405,     0.22405,     0.20841,     0.20841,     0.20839,     0.20839,     0.20839,         0.2,         0.2,     0.18966,     0.18966,     0.18966,     0.18818,     0.18818,     0.18818,\n",
              "            0.18373,     0.18373,     0.17779,     0.17779,     0.17779,     0.17672,     0.17672,     0.17659,     0.17659,     0.17659,     0.15956,     0.15956,     0.15956,     0.15956,     0.15956,     0.15943,     0.15943,     0.15943,     0.13211,     0.13211,     0.13112,     0.13112,     0.13112,\n",
              "             0.1306,      0.1306,     0.12999,     0.12999,     0.12999,     0.12741,     0.12741,     0.11838,     0.11838,     0.11838,     0.11323,     0.11323,     0.11323,     0.11252,     0.11252,      0.1123,      0.1123,      0.1123,     0.10072,     0.10072,    0.094314,    0.094314,    0.094314,\n",
              "           0.094314,    0.094314,     0.09298,     0.09298,     0.09298,    0.090933,    0.090933,    0.085245,    0.085245,    0.085245,    0.080418,    0.080418,    0.080418,    0.079294,    0.079294,    0.068885,    0.068885,    0.068885,    0.065325,    0.065325,    0.062261,    0.062261,    0.062261,\n",
              "           0.058383,    0.058383,    0.048714,    0.048714,    0.048714,    0.043652,    0.043652,    0.043652,    0.039188,    0.039188,    0.039188,    0.039188,    0.039188,    0.037941,    0.037366,    0.036791,    0.036216,    0.035641,    0.035067,    0.034492,    0.033917,    0.033342,    0.032767,\n",
              "           0.032192,    0.031617,    0.031043,    0.030468,    0.029893,    0.029318,    0.028743,    0.028168,    0.027593,    0.027019,    0.026444,    0.025869,    0.025294,    0.024719,    0.024144,    0.023569,    0.022995,     0.02242,    0.021845,     0.02127,    0.020695,     0.02012,    0.019545,\n",
              "            0.01897,    0.018396,    0.017821,    0.017246,    0.016671,    0.016096,    0.015521,    0.014946,    0.014372,    0.013797,    0.013222,    0.012647,    0.012072,    0.011497,    0.010922,    0.010348,   0.0097727,   0.0091978,   0.0086229,   0.0080481,   0.0074732,   0.0068984,   0.0063235,\n",
              "          0.0057486,   0.0051738,   0.0045989,    0.004024,   0.0034492,   0.0028743,   0.0022995,   0.0017246,   0.0011497,  0.00057486,           0]]), 'Recall', 'Precision'], [array([          0,    0.001001,    0.002002,    0.003003,    0.004004,    0.005005,    0.006006,    0.007007,    0.008008,    0.009009,     0.01001,    0.011011,    0.012012,    0.013013,    0.014014,    0.015015,    0.016016,    0.017017,    0.018018,    0.019019,     0.02002,    0.021021,    0.022022,    0.023023,\n",
              "          0.024024,    0.025025,    0.026026,    0.027027,    0.028028,    0.029029,     0.03003,    0.031031,    0.032032,    0.033033,    0.034034,    0.035035,    0.036036,    0.037037,    0.038038,    0.039039,     0.04004,    0.041041,    0.042042,    0.043043,    0.044044,    0.045045,    0.046046,    0.047047,\n",
              "          0.048048,    0.049049,     0.05005,    0.051051,    0.052052,    0.053053,    0.054054,    0.055055,    0.056056,    0.057057,    0.058058,    0.059059,     0.06006,    0.061061,    0.062062,    0.063063,    0.064064,    0.065065,    0.066066,    0.067067,    0.068068,    0.069069,     0.07007,    0.071071,\n",
              "          0.072072,    0.073073,    0.074074,    0.075075,    0.076076,    0.077077,    0.078078,    0.079079,     0.08008,    0.081081,    0.082082,    0.083083,    0.084084,    0.085085,    0.086086,    0.087087,    0.088088,    0.089089,     0.09009,    0.091091,    0.092092,    0.093093,    0.094094,    0.095095,\n",
              "          0.096096,    0.097097,    0.098098,    0.099099,      0.1001,      0.1011,      0.1021,      0.1031,      0.1041,     0.10511,     0.10611,     0.10711,     0.10811,     0.10911,     0.11011,     0.11111,     0.11211,     0.11311,     0.11411,     0.11512,     0.11612,     0.11712,     0.11812,     0.11912,\n",
              "           0.12012,     0.12112,     0.12212,     0.12312,     0.12412,     0.12513,     0.12613,     0.12713,     0.12813,     0.12913,     0.13013,     0.13113,     0.13213,     0.13313,     0.13413,     0.13514,     0.13614,     0.13714,     0.13814,     0.13914,     0.14014,     0.14114,     0.14214,     0.14314,\n",
              "           0.14414,     0.14515,     0.14615,     0.14715,     0.14815,     0.14915,     0.15015,     0.15115,     0.15215,     0.15315,     0.15415,     0.15516,     0.15616,     0.15716,     0.15816,     0.15916,     0.16016,     0.16116,     0.16216,     0.16316,     0.16416,     0.16517,     0.16617,     0.16717,\n",
              "           0.16817,     0.16917,     0.17017,     0.17117,     0.17217,     0.17317,     0.17417,     0.17518,     0.17618,     0.17718,     0.17818,     0.17918,     0.18018,     0.18118,     0.18218,     0.18318,     0.18418,     0.18519,     0.18619,     0.18719,     0.18819,     0.18919,     0.19019,     0.19119,\n",
              "           0.19219,     0.19319,     0.19419,      0.1952,      0.1962,      0.1972,      0.1982,      0.1992,      0.2002,      0.2012,      0.2022,      0.2032,      0.2042,     0.20521,     0.20621,     0.20721,     0.20821,     0.20921,     0.21021,     0.21121,     0.21221,     0.21321,     0.21421,     0.21522,\n",
              "           0.21622,     0.21722,     0.21822,     0.21922,     0.22022,     0.22122,     0.22222,     0.22322,     0.22422,     0.22523,     0.22623,     0.22723,     0.22823,     0.22923,     0.23023,     0.23123,     0.23223,     0.23323,     0.23423,     0.23524,     0.23624,     0.23724,     0.23824,     0.23924,\n",
              "           0.24024,     0.24124,     0.24224,     0.24324,     0.24424,     0.24525,     0.24625,     0.24725,     0.24825,     0.24925,     0.25025,     0.25125,     0.25225,     0.25325,     0.25425,     0.25526,     0.25626,     0.25726,     0.25826,     0.25926,     0.26026,     0.26126,     0.26226,     0.26326,\n",
              "           0.26426,     0.26527,     0.26627,     0.26727,     0.26827,     0.26927,     0.27027,     0.27127,     0.27227,     0.27327,     0.27427,     0.27528,     0.27628,     0.27728,     0.27828,     0.27928,     0.28028,     0.28128,     0.28228,     0.28328,     0.28428,     0.28529,     0.28629,     0.28729,\n",
              "           0.28829,     0.28929,     0.29029,     0.29129,     0.29229,     0.29329,     0.29429,      0.2953,      0.2963,      0.2973,      0.2983,      0.2993,      0.3003,      0.3013,      0.3023,      0.3033,      0.3043,     0.30531,     0.30631,     0.30731,     0.30831,     0.30931,     0.31031,     0.31131,\n",
              "           0.31231,     0.31331,     0.31431,     0.31532,     0.31632,     0.31732,     0.31832,     0.31932,     0.32032,     0.32132,     0.32232,     0.32332,     0.32432,     0.32533,     0.32633,     0.32733,     0.32833,     0.32933,     0.33033,     0.33133,     0.33233,     0.33333,     0.33433,     0.33534,\n",
              "           0.33634,     0.33734,     0.33834,     0.33934,     0.34034,     0.34134,     0.34234,     0.34334,     0.34434,     0.34535,     0.34635,     0.34735,     0.34835,     0.34935,     0.35035,     0.35135,     0.35235,     0.35335,     0.35435,     0.35536,     0.35636,     0.35736,     0.35836,     0.35936,\n",
              "           0.36036,     0.36136,     0.36236,     0.36336,     0.36436,     0.36537,     0.36637,     0.36737,     0.36837,     0.36937,     0.37037,     0.37137,     0.37237,     0.37337,     0.37437,     0.37538,     0.37638,     0.37738,     0.37838,     0.37938,     0.38038,     0.38138,     0.38238,     0.38338,\n",
              "           0.38438,     0.38539,     0.38639,     0.38739,     0.38839,     0.38939,     0.39039,     0.39139,     0.39239,     0.39339,     0.39439,      0.3954,      0.3964,      0.3974,      0.3984,      0.3994,      0.4004,      0.4014,      0.4024,      0.4034,      0.4044,     0.40541,     0.40641,     0.40741,\n",
              "           0.40841,     0.40941,     0.41041,     0.41141,     0.41241,     0.41341,     0.41441,     0.41542,     0.41642,     0.41742,     0.41842,     0.41942,     0.42042,     0.42142,     0.42242,     0.42342,     0.42442,     0.42543,     0.42643,     0.42743,     0.42843,     0.42943,     0.43043,     0.43143,\n",
              "           0.43243,     0.43343,     0.43443,     0.43544,     0.43644,     0.43744,     0.43844,     0.43944,     0.44044,     0.44144,     0.44244,     0.44344,     0.44444,     0.44545,     0.44645,     0.44745,     0.44845,     0.44945,     0.45045,     0.45145,     0.45245,     0.45345,     0.45445,     0.45546,\n",
              "           0.45646,     0.45746,     0.45846,     0.45946,     0.46046,     0.46146,     0.46246,     0.46346,     0.46446,     0.46547,     0.46647,     0.46747,     0.46847,     0.46947,     0.47047,     0.47147,     0.47247,     0.47347,     0.47447,     0.47548,     0.47648,     0.47748,     0.47848,     0.47948,\n",
              "           0.48048,     0.48148,     0.48248,     0.48348,     0.48448,     0.48549,     0.48649,     0.48749,     0.48849,     0.48949,     0.49049,     0.49149,     0.49249,     0.49349,     0.49449,      0.4955,      0.4965,      0.4975,      0.4985,      0.4995,      0.5005,      0.5015,      0.5025,      0.5035,\n",
              "            0.5045,     0.50551,     0.50651,     0.50751,     0.50851,     0.50951,     0.51051,     0.51151,     0.51251,     0.51351,     0.51451,     0.51552,     0.51652,     0.51752,     0.51852,     0.51952,     0.52052,     0.52152,     0.52252,     0.52352,     0.52452,     0.52553,     0.52653,     0.52753,\n",
              "           0.52853,     0.52953,     0.53053,     0.53153,     0.53253,     0.53353,     0.53453,     0.53554,     0.53654,     0.53754,     0.53854,     0.53954,     0.54054,     0.54154,     0.54254,     0.54354,     0.54454,     0.54555,     0.54655,     0.54755,     0.54855,     0.54955,     0.55055,     0.55155,\n",
              "           0.55255,     0.55355,     0.55455,     0.55556,     0.55656,     0.55756,     0.55856,     0.55956,     0.56056,     0.56156,     0.56256,     0.56356,     0.56456,     0.56557,     0.56657,     0.56757,     0.56857,     0.56957,     0.57057,     0.57157,     0.57257,     0.57357,     0.57457,     0.57558,\n",
              "           0.57658,     0.57758,     0.57858,     0.57958,     0.58058,     0.58158,     0.58258,     0.58358,     0.58458,     0.58559,     0.58659,     0.58759,     0.58859,     0.58959,     0.59059,     0.59159,     0.59259,     0.59359,     0.59459,      0.5956,      0.5966,      0.5976,      0.5986,      0.5996,\n",
              "            0.6006,      0.6016,      0.6026,      0.6036,      0.6046,     0.60561,     0.60661,     0.60761,     0.60861,     0.60961,     0.61061,     0.61161,     0.61261,     0.61361,     0.61461,     0.61562,     0.61662,     0.61762,     0.61862,     0.61962,     0.62062,     0.62162,     0.62262,     0.62362,\n",
              "           0.62462,     0.62563,     0.62663,     0.62763,     0.62863,     0.62963,     0.63063,     0.63163,     0.63263,     0.63363,     0.63463,     0.63564,     0.63664,     0.63764,     0.63864,     0.63964,     0.64064,     0.64164,     0.64264,     0.64364,     0.64464,     0.64565,     0.64665,     0.64765,\n",
              "           0.64865,     0.64965,     0.65065,     0.65165,     0.65265,     0.65365,     0.65465,     0.65566,     0.65666,     0.65766,     0.65866,     0.65966,     0.66066,     0.66166,     0.66266,     0.66366,     0.66466,     0.66567,     0.66667,     0.66767,     0.66867,     0.66967,     0.67067,     0.67167,\n",
              "           0.67267,     0.67367,     0.67467,     0.67568,     0.67668,     0.67768,     0.67868,     0.67968,     0.68068,     0.68168,     0.68268,     0.68368,     0.68468,     0.68569,     0.68669,     0.68769,     0.68869,     0.68969,     0.69069,     0.69169,     0.69269,     0.69369,     0.69469,      0.6957,\n",
              "            0.6967,      0.6977,      0.6987,      0.6997,      0.7007,      0.7017,      0.7027,      0.7037,      0.7047,     0.70571,     0.70671,     0.70771,     0.70871,     0.70971,     0.71071,     0.71171,     0.71271,     0.71371,     0.71471,     0.71572,     0.71672,     0.71772,     0.71872,     0.71972,\n",
              "           0.72072,     0.72172,     0.72272,     0.72372,     0.72472,     0.72573,     0.72673,     0.72773,     0.72873,     0.72973,     0.73073,     0.73173,     0.73273,     0.73373,     0.73473,     0.73574,     0.73674,     0.73774,     0.73874,     0.73974,     0.74074,     0.74174,     0.74274,     0.74374,\n",
              "           0.74474,     0.74575,     0.74675,     0.74775,     0.74875,     0.74975,     0.75075,     0.75175,     0.75275,     0.75375,     0.75475,     0.75576,     0.75676,     0.75776,     0.75876,     0.75976,     0.76076,     0.76176,     0.76276,     0.76376,     0.76476,     0.76577,     0.76677,     0.76777,\n",
              "           0.76877,     0.76977,     0.77077,     0.77177,     0.77277,     0.77377,     0.77477,     0.77578,     0.77678,     0.77778,     0.77878,     0.77978,     0.78078,     0.78178,     0.78278,     0.78378,     0.78478,     0.78579,     0.78679,     0.78779,     0.78879,     0.78979,     0.79079,     0.79179,\n",
              "           0.79279,     0.79379,     0.79479,      0.7958,      0.7968,      0.7978,      0.7988,      0.7998,      0.8008,      0.8018,      0.8028,      0.8038,      0.8048,     0.80581,     0.80681,     0.80781,     0.80881,     0.80981,     0.81081,     0.81181,     0.81281,     0.81381,     0.81481,     0.81582,\n",
              "           0.81682,     0.81782,     0.81882,     0.81982,     0.82082,     0.82182,     0.82282,     0.82382,     0.82482,     0.82583,     0.82683,     0.82783,     0.82883,     0.82983,     0.83083,     0.83183,     0.83283,     0.83383,     0.83483,     0.83584,     0.83684,     0.83784,     0.83884,     0.83984,\n",
              "           0.84084,     0.84184,     0.84284,     0.84384,     0.84484,     0.84585,     0.84685,     0.84785,     0.84885,     0.84985,     0.85085,     0.85185,     0.85285,     0.85385,     0.85485,     0.85586,     0.85686,     0.85786,     0.85886,     0.85986,     0.86086,     0.86186,     0.86286,     0.86386,\n",
              "           0.86486,     0.86587,     0.86687,     0.86787,     0.86887,     0.86987,     0.87087,     0.87187,     0.87287,     0.87387,     0.87487,     0.87588,     0.87688,     0.87788,     0.87888,     0.87988,     0.88088,     0.88188,     0.88288,     0.88388,     0.88488,     0.88589,     0.88689,     0.88789,\n",
              "           0.88889,     0.88989,     0.89089,     0.89189,     0.89289,     0.89389,     0.89489,      0.8959,      0.8969,      0.8979,      0.8989,      0.8999,      0.9009,      0.9019,      0.9029,      0.9039,      0.9049,     0.90591,     0.90691,     0.90791,     0.90891,     0.90991,     0.91091,     0.91191,\n",
              "           0.91291,     0.91391,     0.91491,     0.91592,     0.91692,     0.91792,     0.91892,     0.91992,     0.92092,     0.92192,     0.92292,     0.92392,     0.92492,     0.92593,     0.92693,     0.92793,     0.92893,     0.92993,     0.93093,     0.93193,     0.93293,     0.93393,     0.93493,     0.93594,\n",
              "           0.93694,     0.93794,     0.93894,     0.93994,     0.94094,     0.94194,     0.94294,     0.94394,     0.94494,     0.94595,     0.94695,     0.94795,     0.94895,     0.94995,     0.95095,     0.95195,     0.95295,     0.95395,     0.95495,     0.95596,     0.95696,     0.95796,     0.95896,     0.95996,\n",
              "           0.96096,     0.96196,     0.96296,     0.96396,     0.96496,     0.96597,     0.96697,     0.96797,     0.96897,     0.96997,     0.97097,     0.97197,     0.97297,     0.97397,     0.97497,     0.97598,     0.97698,     0.97798,     0.97898,     0.97998,     0.98098,     0.98198,     0.98298,     0.98398,\n",
              "           0.98498,     0.98599,     0.98699,     0.98799,     0.98899,     0.98999,     0.99099,     0.99199,     0.99299,     0.99399,     0.99499,       0.996,       0.997,       0.998,       0.999,           1]), array([[   0.073736,    0.073736,     0.11659,     0.14951,     0.17624,     0.19921,      0.2208,      0.2352,     0.25132,     0.26897,      0.2827,     0.29307,     0.30486,      0.3145,      0.3227,     0.33283,     0.33974,      0.3497,     0.35978,     0.36951,     0.37573,     0.38114,     0.38786,\n",
              "            0.39715,     0.40256,     0.40841,     0.41274,     0.41851,     0.42299,     0.42848,     0.43388,     0.43727,     0.44121,     0.44435,      0.4505,     0.45491,     0.45614,     0.46364,     0.46747,     0.47147,     0.47765,     0.48311,     0.48646,     0.48937,     0.49036,     0.49132,\n",
              "            0.49307,     0.49709,     0.50128,     0.50327,     0.50473,     0.50941,     0.51345,     0.51605,     0.51848,     0.51934,      0.5251,     0.52867,      0.5309,     0.53442,     0.53604,      0.5378,     0.54114,     0.54208,     0.54434,     0.54704,     0.54923,     0.54925,     0.55025,\n",
              "            0.55206,     0.55422,     0.55579,     0.55864,     0.56151,     0.56278,     0.56397,     0.56491,     0.56781,     0.57121,     0.57346,      0.5764,     0.57867,     0.58088,     0.58079,     0.58159,     0.58465,     0.58612,     0.58695,     0.58757,     0.58673,     0.58721,     0.58837,\n",
              "            0.58997,     0.59229,     0.59597,     0.60011,     0.60296,     0.60407,     0.60304,     0.60514,      0.6067,     0.60742,     0.60957,     0.61422,     0.61634,     0.61778,     0.62022,     0.62203,     0.62318,     0.62546,     0.62646,     0.62785,     0.63009,     0.63127,     0.63311,\n",
              "            0.63392,     0.63506,     0.63517,     0.63635,     0.63753,     0.63836,     0.63943,     0.64064,     0.64051,     0.64217,     0.64516,     0.64392,     0.64407,      0.6452,     0.64904,     0.65111,     0.65223,     0.65341,     0.65375,     0.65446,     0.65524,     0.65686,     0.65798,\n",
              "            0.65956,     0.65834,     0.65915,     0.65972,     0.66198,     0.66505,     0.66704,     0.66822,     0.66974,     0.67066,     0.66992,     0.67091,     0.67158,     0.67252,     0.67309,     0.67388,     0.67584,     0.67713,      0.6762,     0.67646,     0.67673,     0.67699,     0.67853,\n",
              "            0.67881,     0.67903,     0.67925,      0.6791,     0.67794,     0.67863,     0.67763,     0.67772,     0.67539,     0.67666,     0.67808,     0.67968,     0.68104,      0.6819,     0.68233,     0.68266,     0.68304,     0.68366,     0.68541,     0.68565,     0.68587,      0.6861,     0.68655,\n",
              "            0.68753,     0.68804,     0.68824,     0.68844,     0.68865,     0.68723,     0.68741,     0.68759,     0.68777,     0.68794,     0.68826,     0.68872,      0.6897,     0.68837,     0.68761,     0.68697,     0.68769,     0.68743,      0.6877,     0.68797,     0.68824,     0.68888,     0.68955,\n",
              "            0.68975,     0.68891,     0.68778,     0.68633,     0.68529,     0.68576,     0.68742,     0.68994,     0.69123,     0.69161,     0.69199,     0.69241,     0.69283,     0.69388,     0.69431,     0.69491,     0.69712,     0.69754,      0.6978,     0.69806,     0.69849,     0.69916,     0.69982,\n",
              "            0.70036,     0.70085,     0.69934,      0.7003,     0.70049,     0.70067,     0.70086,     0.70105,     0.70136,     0.70167,      0.7029,     0.70334,     0.70379,     0.70441,     0.70446,     0.70413,     0.70379,     0.70346,     0.70312,     0.70322,     0.70361,     0.70401,     0.70443,\n",
              "            0.70484,     0.70515,     0.70546,     0.70576,     0.70597,     0.70618,     0.70639,      0.7066,     0.70706,     0.70595,     0.70722,     0.70636,     0.70564,     0.70517,     0.70471,     0.70515,     0.70462,     0.70408,     0.70357,     0.70395,     0.70433,     0.70459,     0.70476,\n",
              "            0.70494,     0.70511,     0.70528,     0.70489,     0.70408,     0.70516,      0.7058,      0.7059,     0.70517,     0.70556,     0.70608,     0.70724,     0.70793,     0.70829,     0.70864,     0.70892,     0.70918,     0.70944,     0.71069,     0.71125,     0.71065,     0.71072,     0.71103,\n",
              "            0.71126,     0.71149,     0.71172,     0.71036,     0.71031,      0.7113,     0.71166,     0.71202,     0.71235,     0.71265,     0.71296,     0.71286,     0.71234,     0.71183,     0.70939,     0.70718,     0.70776,     0.70828,     0.70862,     0.70895,     0.71059,     0.70916,     0.71043,\n",
              "              0.711,     0.71158,     0.71199,     0.71094,     0.70932,     0.70894,     0.70832,      0.7077,     0.70897,     0.70926,     0.70955,     0.71026,     0.71149,     0.71345,     0.71153,     0.71116,     0.71079,     0.71041,     0.71003,     0.70853,     0.70903,       0.708,     0.70689,\n",
              "            0.70605,     0.70573,     0.70619,     0.70663,     0.70701,     0.70738,     0.70856,     0.70825,     0.70793,     0.70761,      0.7073,     0.70698,     0.70678,      0.7071,     0.70742,     0.70771,     0.70603,     0.70655,     0.70837,     0.70925,     0.70977,     0.71063,     0.71111,\n",
              "             0.7113,     0.71149,     0.71169,     0.71188,     0.71308,     0.71319,     0.71331,     0.71342,     0.71354,     0.71365,     0.71377,     0.71388,       0.714,     0.71437,     0.71558,     0.71366,     0.71074,     0.71135,      0.7118,     0.71215,     0.71251,     0.71007,     0.71036,\n",
              "            0.71065,      0.7108,     0.70906,     0.70968,     0.71116,     0.71128,     0.71141,     0.71153,     0.71165,     0.71178,      0.7119,     0.71202,     0.71215,     0.71188,     0.71154,      0.7112,     0.71086,     0.71052,     0.71038,     0.71092,     0.71119,     0.71078,     0.71037,\n",
              "            0.70995,     0.70954,     0.70812,     0.70761,     0.70782,     0.70804,     0.70826,     0.70847,     0.70825,      0.7079,     0.70756,     0.70721,     0.70687,     0.70647,      0.7058,     0.70514,     0.70325,     0.69975,      0.6994,     0.69905,      0.6987,     0.69835,       0.698,\n",
              "            0.69807,     0.69834,     0.69861,     0.69888,     0.69739,     0.69644,     0.69576,     0.69508,     0.69518,      0.6954,     0.69561,     0.69583,     0.69605,     0.69538,      0.6947,     0.69402,     0.69328,     0.69254,     0.69248,     0.69322,     0.69343,     0.69365,     0.69387,\n",
              "            0.69409,     0.69476,     0.69394,     0.69325,     0.69257,     0.68763,     0.68659,     0.68697,     0.68807,     0.68673,     0.68728,     0.68687,     0.68617,     0.68547,     0.68559,     0.68586,     0.68614,     0.68641,     0.68544,     0.68439,     0.68232,     0.68287,      0.6834,\n",
              "            0.68355,     0.68371,     0.68387,     0.68402,     0.68418,     0.68434,     0.68529,     0.68423,     0.68287,     0.67921,     0.67891,      0.6786,     0.67829,     0.67799,     0.67768,     0.67738,     0.67461,     0.67353,     0.67428,     0.67465,     0.67501,     0.67549,     0.67604,\n",
              "            0.67648,     0.67684,     0.67721,     0.67745,     0.67764,     0.67782,     0.67801,     0.67819,     0.67838,     0.67856,     0.67875,     0.67893,     0.67912,      0.6793,     0.67947,     0.67839,     0.67733,     0.67679,     0.67624,      0.6757,     0.67507,     0.67397,     0.67288,\n",
              "            0.67178,     0.67069,     0.66959,     0.66869,     0.66824,      0.6678,     0.66736,     0.66692,     0.66619,     0.66509,     0.66398,     0.66287,     0.66292,     0.66326,     0.66298,      0.6627,     0.66243,     0.66215,     0.66187,     0.66159,     0.66131,      0.6609,     0.66046,\n",
              "            0.66001,     0.65956,     0.65911,      0.6585,     0.65786,     0.65721,     0.65661,     0.65605,     0.65548,     0.65492,     0.65425,      0.6535,     0.65274,     0.65105,     0.64877,     0.64653,     0.64725,     0.64779,     0.64759,     0.64713,     0.64667,     0.64622,     0.64576,\n",
              "             0.6447,     0.64355,      0.6422,     0.64117,     0.64001,     0.63876,     0.63634,     0.63483,     0.63561,     0.63616,     0.63607,      0.6356,     0.63513,     0.63466,     0.63418,     0.63318,       0.632,     0.63154,     0.63126,     0.63098,      0.6307,     0.63042,     0.63014,\n",
              "            0.62986,     0.62958,     0.62927,     0.62893,     0.62859,     0.62825,     0.62791,     0.62757,     0.62723,     0.62605,     0.62462,     0.62382,     0.62302,     0.62177,     0.62027,     0.62081,     0.62073,     0.61952,      0.6191,     0.61982,     0.61956,     0.61924,     0.61891,\n",
              "            0.61859,     0.61826,     0.61794,     0.61762,     0.61712,     0.61651,      0.6159,     0.61529,     0.61453,     0.61372,      0.6129,     0.61144,     0.60953,     0.60765,     0.60683,     0.60601,     0.60483,     0.60317,     0.60364,     0.60415,      0.6029,     0.60163,     0.59997,\n",
              "             0.5978,     0.59607,     0.59482,     0.59373,     0.59272,     0.59135,     0.58952,     0.58968,     0.58984,     0.59001,     0.59017,     0.59033,      0.5905,     0.58817,     0.58843,     0.58885,     0.58778,     0.58567,     0.57901,     0.57854,     0.57807,      0.5776,     0.57713,\n",
              "            0.57665,     0.57579,     0.57475,      0.5712,     0.57033,     0.56946,     0.56957,     0.56878,     0.56746,     0.56575,     0.56485,     0.56508,     0.56531,     0.56554,     0.56307,     0.56051,     0.55944,     0.55837,     0.55629,     0.55552,     0.55578,     0.55604,      0.5563,\n",
              "            0.55536,     0.55401,     0.55158,     0.55166,     0.55225,     0.55267,     0.55308,     0.55145,     0.54921,     0.54648,     0.54533,     0.54574,     0.54576,     0.54312,     0.54257,     0.54201,     0.54146,     0.54091,     0.54031,     0.53969,     0.53908,     0.53846,     0.53746,\n",
              "             0.5356,       0.532,     0.53129,     0.53059,     0.52989,     0.52532,       0.524,      0.5233,     0.52259,     0.52188,     0.52125,     0.52068,     0.52011,     0.51954,     0.51897,     0.51746,     0.51533,     0.51296,       0.512,     0.51104,     0.51106,     0.50891,     0.50201,\n",
              "            0.50103,     0.50005,     0.50031,     0.50064,     0.50095,     0.50058,     0.50021,     0.49985,     0.49948,     0.49911,     0.49874,     0.49837,     0.49682,     0.49305,     0.48888,     0.48689,     0.48589,     0.48514,     0.48439,     0.48364,        0.48,     0.47849,     0.47424,\n",
              "            0.47323,     0.47221,     0.47137,      0.4707,     0.47002,     0.46934,     0.46853,       0.467,     0.46517,     0.45636,      0.4548,     0.45324,     0.45167,      0.4501,     0.44853,     0.44639,      0.4441,     0.44319,     0.44229,     0.44138,     0.44058,     0.43979,     0.43899,\n",
              "            0.43819,     0.43727,     0.43636,     0.43545,     0.43429,     0.43301,     0.43166,     0.43005,     0.42716,     0.42319,     0.41731,     0.41526,     0.41416,     0.41307,     0.40999,      0.4077,      0.4002,     0.39837,     0.39666,     0.39329,     0.38991,     0.38287,     0.37933,\n",
              "            0.37796,     0.37306,     0.37075,     0.36884,      0.3671,     0.36404,     0.35801,     0.35072,     0.34501,     0.34381,     0.34262,     0.33248,      0.3308,     0.32958,     0.32836,      0.3269,     0.32544,     0.32342,     0.32103,     0.31918,     0.31707,     0.31367,     0.31181,\n",
              "            0.31042,     0.31076,     0.30336,      0.3021,     0.30084,     0.29587,      0.2946,     0.29333,     0.28943,     0.28648,     0.28154,     0.27755,     0.27113,     0.26572,     0.26149,     0.26017,     0.25884,     0.25481,      0.2532,      0.2516,     0.24289,     0.24127,     0.23964,\n",
              "             0.2349,     0.23353,     0.23217,     0.22831,     0.22637,     0.22534,      0.2243,     0.22326,     0.21919,     0.20684,     0.20402,     0.20217,     0.20111,     0.20005,     0.19898,     0.18997,     0.18824,     0.18652,     0.17722,     0.17576,      0.1743,     0.17238,     0.16945,\n",
              "            0.16851,     0.16793,     0.16734,     0.16675,     0.16616,     0.16557,     0.16498,     0.16028,     0.15805,     0.15145,      0.1492,     0.14597,     0.14187,     0.14035,     0.13884,      0.1351,     0.13225,     0.12995,     0.12967,     0.12478,     0.12323,     0.12168,     0.11693,\n",
              "            0.10293,    0.093266,    0.090024,    0.076531,    0.071644,    0.068107,    0.065645,    0.064131,    0.063233,    0.062334,    0.061435,    0.060534,     0.05745,    0.053926,    0.052499,     0.05107,    0.048424,    0.041557,    0.037343,    0.033253,    0.029883,    0.028746,    0.027608,\n",
              "           0.026468,    0.025355,    0.024814,    0.024273,    0.023732,     0.02319,    0.022648,    0.022105,    0.021563,     0.02102,    0.020476,    0.016327,    0.014816,    0.014205,    0.013593,    0.012981,    0.012369,    0.011757,    0.011144,     0.01053,     0.01004,   0.0096671,   0.0092943,\n",
              "          0.0089212,   0.0085481,   0.0081748,   0.0078014,   0.0074278,   0.0070541,   0.0066802,   0.0063062,   0.0059321,   0.0055578,   0.0051834,           0,           0,           0,           0,           0,           0,           0,           0,           0,           0,           0,           0,\n",
              "                  0,           0,           0,           0,           0,           0,           0,           0,           0,           0,           0,           0,           0,           0,           0,           0,           0,           0,           0,           0,           0,           0,           0,\n",
              "                  0,           0,           0,           0,           0,           0,           0,           0,           0,           0,           0]]), 'Confidence', 'F1'], [array([          0,    0.001001,    0.002002,    0.003003,    0.004004,    0.005005,    0.006006,    0.007007,    0.008008,    0.009009,     0.01001,    0.011011,    0.012012,    0.013013,    0.014014,    0.015015,    0.016016,    0.017017,    0.018018,    0.019019,     0.02002,    0.021021,    0.022022,    0.023023,\n",
              "          0.024024,    0.025025,    0.026026,    0.027027,    0.028028,    0.029029,     0.03003,    0.031031,    0.032032,    0.033033,    0.034034,    0.035035,    0.036036,    0.037037,    0.038038,    0.039039,     0.04004,    0.041041,    0.042042,    0.043043,    0.044044,    0.045045,    0.046046,    0.047047,\n",
              "          0.048048,    0.049049,     0.05005,    0.051051,    0.052052,    0.053053,    0.054054,    0.055055,    0.056056,    0.057057,    0.058058,    0.059059,     0.06006,    0.061061,    0.062062,    0.063063,    0.064064,    0.065065,    0.066066,    0.067067,    0.068068,    0.069069,     0.07007,    0.071071,\n",
              "          0.072072,    0.073073,    0.074074,    0.075075,    0.076076,    0.077077,    0.078078,    0.079079,     0.08008,    0.081081,    0.082082,    0.083083,    0.084084,    0.085085,    0.086086,    0.087087,    0.088088,    0.089089,     0.09009,    0.091091,    0.092092,    0.093093,    0.094094,    0.095095,\n",
              "          0.096096,    0.097097,    0.098098,    0.099099,      0.1001,      0.1011,      0.1021,      0.1031,      0.1041,     0.10511,     0.10611,     0.10711,     0.10811,     0.10911,     0.11011,     0.11111,     0.11211,     0.11311,     0.11411,     0.11512,     0.11612,     0.11712,     0.11812,     0.11912,\n",
              "           0.12012,     0.12112,     0.12212,     0.12312,     0.12412,     0.12513,     0.12613,     0.12713,     0.12813,     0.12913,     0.13013,     0.13113,     0.13213,     0.13313,     0.13413,     0.13514,     0.13614,     0.13714,     0.13814,     0.13914,     0.14014,     0.14114,     0.14214,     0.14314,\n",
              "           0.14414,     0.14515,     0.14615,     0.14715,     0.14815,     0.14915,     0.15015,     0.15115,     0.15215,     0.15315,     0.15415,     0.15516,     0.15616,     0.15716,     0.15816,     0.15916,     0.16016,     0.16116,     0.16216,     0.16316,     0.16416,     0.16517,     0.16617,     0.16717,\n",
              "           0.16817,     0.16917,     0.17017,     0.17117,     0.17217,     0.17317,     0.17417,     0.17518,     0.17618,     0.17718,     0.17818,     0.17918,     0.18018,     0.18118,     0.18218,     0.18318,     0.18418,     0.18519,     0.18619,     0.18719,     0.18819,     0.18919,     0.19019,     0.19119,\n",
              "           0.19219,     0.19319,     0.19419,      0.1952,      0.1962,      0.1972,      0.1982,      0.1992,      0.2002,      0.2012,      0.2022,      0.2032,      0.2042,     0.20521,     0.20621,     0.20721,     0.20821,     0.20921,     0.21021,     0.21121,     0.21221,     0.21321,     0.21421,     0.21522,\n",
              "           0.21622,     0.21722,     0.21822,     0.21922,     0.22022,     0.22122,     0.22222,     0.22322,     0.22422,     0.22523,     0.22623,     0.22723,     0.22823,     0.22923,     0.23023,     0.23123,     0.23223,     0.23323,     0.23423,     0.23524,     0.23624,     0.23724,     0.23824,     0.23924,\n",
              "           0.24024,     0.24124,     0.24224,     0.24324,     0.24424,     0.24525,     0.24625,     0.24725,     0.24825,     0.24925,     0.25025,     0.25125,     0.25225,     0.25325,     0.25425,     0.25526,     0.25626,     0.25726,     0.25826,     0.25926,     0.26026,     0.26126,     0.26226,     0.26326,\n",
              "           0.26426,     0.26527,     0.26627,     0.26727,     0.26827,     0.26927,     0.27027,     0.27127,     0.27227,     0.27327,     0.27427,     0.27528,     0.27628,     0.27728,     0.27828,     0.27928,     0.28028,     0.28128,     0.28228,     0.28328,     0.28428,     0.28529,     0.28629,     0.28729,\n",
              "           0.28829,     0.28929,     0.29029,     0.29129,     0.29229,     0.29329,     0.29429,      0.2953,      0.2963,      0.2973,      0.2983,      0.2993,      0.3003,      0.3013,      0.3023,      0.3033,      0.3043,     0.30531,     0.30631,     0.30731,     0.30831,     0.30931,     0.31031,     0.31131,\n",
              "           0.31231,     0.31331,     0.31431,     0.31532,     0.31632,     0.31732,     0.31832,     0.31932,     0.32032,     0.32132,     0.32232,     0.32332,     0.32432,     0.32533,     0.32633,     0.32733,     0.32833,     0.32933,     0.33033,     0.33133,     0.33233,     0.33333,     0.33433,     0.33534,\n",
              "           0.33634,     0.33734,     0.33834,     0.33934,     0.34034,     0.34134,     0.34234,     0.34334,     0.34434,     0.34535,     0.34635,     0.34735,     0.34835,     0.34935,     0.35035,     0.35135,     0.35235,     0.35335,     0.35435,     0.35536,     0.35636,     0.35736,     0.35836,     0.35936,\n",
              "           0.36036,     0.36136,     0.36236,     0.36336,     0.36436,     0.36537,     0.36637,     0.36737,     0.36837,     0.36937,     0.37037,     0.37137,     0.37237,     0.37337,     0.37437,     0.37538,     0.37638,     0.37738,     0.37838,     0.37938,     0.38038,     0.38138,     0.38238,     0.38338,\n",
              "           0.38438,     0.38539,     0.38639,     0.38739,     0.38839,     0.38939,     0.39039,     0.39139,     0.39239,     0.39339,     0.39439,      0.3954,      0.3964,      0.3974,      0.3984,      0.3994,      0.4004,      0.4014,      0.4024,      0.4034,      0.4044,     0.40541,     0.40641,     0.40741,\n",
              "           0.40841,     0.40941,     0.41041,     0.41141,     0.41241,     0.41341,     0.41441,     0.41542,     0.41642,     0.41742,     0.41842,     0.41942,     0.42042,     0.42142,     0.42242,     0.42342,     0.42442,     0.42543,     0.42643,     0.42743,     0.42843,     0.42943,     0.43043,     0.43143,\n",
              "           0.43243,     0.43343,     0.43443,     0.43544,     0.43644,     0.43744,     0.43844,     0.43944,     0.44044,     0.44144,     0.44244,     0.44344,     0.44444,     0.44545,     0.44645,     0.44745,     0.44845,     0.44945,     0.45045,     0.45145,     0.45245,     0.45345,     0.45445,     0.45546,\n",
              "           0.45646,     0.45746,     0.45846,     0.45946,     0.46046,     0.46146,     0.46246,     0.46346,     0.46446,     0.46547,     0.46647,     0.46747,     0.46847,     0.46947,     0.47047,     0.47147,     0.47247,     0.47347,     0.47447,     0.47548,     0.47648,     0.47748,     0.47848,     0.47948,\n",
              "           0.48048,     0.48148,     0.48248,     0.48348,     0.48448,     0.48549,     0.48649,     0.48749,     0.48849,     0.48949,     0.49049,     0.49149,     0.49249,     0.49349,     0.49449,      0.4955,      0.4965,      0.4975,      0.4985,      0.4995,      0.5005,      0.5015,      0.5025,      0.5035,\n",
              "            0.5045,     0.50551,     0.50651,     0.50751,     0.50851,     0.50951,     0.51051,     0.51151,     0.51251,     0.51351,     0.51451,     0.51552,     0.51652,     0.51752,     0.51852,     0.51952,     0.52052,     0.52152,     0.52252,     0.52352,     0.52452,     0.52553,     0.52653,     0.52753,\n",
              "           0.52853,     0.52953,     0.53053,     0.53153,     0.53253,     0.53353,     0.53453,     0.53554,     0.53654,     0.53754,     0.53854,     0.53954,     0.54054,     0.54154,     0.54254,     0.54354,     0.54454,     0.54555,     0.54655,     0.54755,     0.54855,     0.54955,     0.55055,     0.55155,\n",
              "           0.55255,     0.55355,     0.55455,     0.55556,     0.55656,     0.55756,     0.55856,     0.55956,     0.56056,     0.56156,     0.56256,     0.56356,     0.56456,     0.56557,     0.56657,     0.56757,     0.56857,     0.56957,     0.57057,     0.57157,     0.57257,     0.57357,     0.57457,     0.57558,\n",
              "           0.57658,     0.57758,     0.57858,     0.57958,     0.58058,     0.58158,     0.58258,     0.58358,     0.58458,     0.58559,     0.58659,     0.58759,     0.58859,     0.58959,     0.59059,     0.59159,     0.59259,     0.59359,     0.59459,      0.5956,      0.5966,      0.5976,      0.5986,      0.5996,\n",
              "            0.6006,      0.6016,      0.6026,      0.6036,      0.6046,     0.60561,     0.60661,     0.60761,     0.60861,     0.60961,     0.61061,     0.61161,     0.61261,     0.61361,     0.61461,     0.61562,     0.61662,     0.61762,     0.61862,     0.61962,     0.62062,     0.62162,     0.62262,     0.62362,\n",
              "           0.62462,     0.62563,     0.62663,     0.62763,     0.62863,     0.62963,     0.63063,     0.63163,     0.63263,     0.63363,     0.63463,     0.63564,     0.63664,     0.63764,     0.63864,     0.63964,     0.64064,     0.64164,     0.64264,     0.64364,     0.64464,     0.64565,     0.64665,     0.64765,\n",
              "           0.64865,     0.64965,     0.65065,     0.65165,     0.65265,     0.65365,     0.65465,     0.65566,     0.65666,     0.65766,     0.65866,     0.65966,     0.66066,     0.66166,     0.66266,     0.66366,     0.66466,     0.66567,     0.66667,     0.66767,     0.66867,     0.66967,     0.67067,     0.67167,\n",
              "           0.67267,     0.67367,     0.67467,     0.67568,     0.67668,     0.67768,     0.67868,     0.67968,     0.68068,     0.68168,     0.68268,     0.68368,     0.68468,     0.68569,     0.68669,     0.68769,     0.68869,     0.68969,     0.69069,     0.69169,     0.69269,     0.69369,     0.69469,      0.6957,\n",
              "            0.6967,      0.6977,      0.6987,      0.6997,      0.7007,      0.7017,      0.7027,      0.7037,      0.7047,     0.70571,     0.70671,     0.70771,     0.70871,     0.70971,     0.71071,     0.71171,     0.71271,     0.71371,     0.71471,     0.71572,     0.71672,     0.71772,     0.71872,     0.71972,\n",
              "           0.72072,     0.72172,     0.72272,     0.72372,     0.72472,     0.72573,     0.72673,     0.72773,     0.72873,     0.72973,     0.73073,     0.73173,     0.73273,     0.73373,     0.73473,     0.73574,     0.73674,     0.73774,     0.73874,     0.73974,     0.74074,     0.74174,     0.74274,     0.74374,\n",
              "           0.74474,     0.74575,     0.74675,     0.74775,     0.74875,     0.74975,     0.75075,     0.75175,     0.75275,     0.75375,     0.75475,     0.75576,     0.75676,     0.75776,     0.75876,     0.75976,     0.76076,     0.76176,     0.76276,     0.76376,     0.76476,     0.76577,     0.76677,     0.76777,\n",
              "           0.76877,     0.76977,     0.77077,     0.77177,     0.77277,     0.77377,     0.77477,     0.77578,     0.77678,     0.77778,     0.77878,     0.77978,     0.78078,     0.78178,     0.78278,     0.78378,     0.78478,     0.78579,     0.78679,     0.78779,     0.78879,     0.78979,     0.79079,     0.79179,\n",
              "           0.79279,     0.79379,     0.79479,      0.7958,      0.7968,      0.7978,      0.7988,      0.7998,      0.8008,      0.8018,      0.8028,      0.8038,      0.8048,     0.80581,     0.80681,     0.80781,     0.80881,     0.80981,     0.81081,     0.81181,     0.81281,     0.81381,     0.81481,     0.81582,\n",
              "           0.81682,     0.81782,     0.81882,     0.81982,     0.82082,     0.82182,     0.82282,     0.82382,     0.82482,     0.82583,     0.82683,     0.82783,     0.82883,     0.82983,     0.83083,     0.83183,     0.83283,     0.83383,     0.83483,     0.83584,     0.83684,     0.83784,     0.83884,     0.83984,\n",
              "           0.84084,     0.84184,     0.84284,     0.84384,     0.84484,     0.84585,     0.84685,     0.84785,     0.84885,     0.84985,     0.85085,     0.85185,     0.85285,     0.85385,     0.85485,     0.85586,     0.85686,     0.85786,     0.85886,     0.85986,     0.86086,     0.86186,     0.86286,     0.86386,\n",
              "           0.86486,     0.86587,     0.86687,     0.86787,     0.86887,     0.86987,     0.87087,     0.87187,     0.87287,     0.87387,     0.87487,     0.87588,     0.87688,     0.87788,     0.87888,     0.87988,     0.88088,     0.88188,     0.88288,     0.88388,     0.88488,     0.88589,     0.88689,     0.88789,\n",
              "           0.88889,     0.88989,     0.89089,     0.89189,     0.89289,     0.89389,     0.89489,      0.8959,      0.8969,      0.8979,      0.8989,      0.8999,      0.9009,      0.9019,      0.9029,      0.9039,      0.9049,     0.90591,     0.90691,     0.90791,     0.90891,     0.90991,     0.91091,     0.91191,\n",
              "           0.91291,     0.91391,     0.91491,     0.91592,     0.91692,     0.91792,     0.91892,     0.91992,     0.92092,     0.92192,     0.92292,     0.92392,     0.92492,     0.92593,     0.92693,     0.92793,     0.92893,     0.92993,     0.93093,     0.93193,     0.93293,     0.93393,     0.93493,     0.93594,\n",
              "           0.93694,     0.93794,     0.93894,     0.93994,     0.94094,     0.94194,     0.94294,     0.94394,     0.94494,     0.94595,     0.94695,     0.94795,     0.94895,     0.94995,     0.95095,     0.95195,     0.95295,     0.95395,     0.95495,     0.95596,     0.95696,     0.95796,     0.95896,     0.95996,\n",
              "           0.96096,     0.96196,     0.96296,     0.96396,     0.96496,     0.96597,     0.96697,     0.96797,     0.96897,     0.96997,     0.97097,     0.97197,     0.97297,     0.97397,     0.97497,     0.97598,     0.97698,     0.97798,     0.97898,     0.97998,     0.98098,     0.98198,     0.98298,     0.98398,\n",
              "           0.98498,     0.98599,     0.98699,     0.98799,     0.98899,     0.98999,     0.99099,     0.99199,     0.99299,     0.99399,     0.99499,       0.996,       0.997,       0.998,       0.999,           1]), array([[   0.038384,    0.038384,    0.062248,    0.081466,     0.09775,     0.11216,      0.1262,     0.13601,      0.1469,     0.15911,     0.16911,      0.1768,      0.1857,     0.19317,     0.19953,     0.20733,     0.21306,     0.22095,     0.22945,     0.23763,     0.24302,     0.24756,      0.2535,\n",
              "             0.2615,     0.26648,     0.27192,     0.27577,     0.28124,     0.28562,     0.29065,     0.29564,     0.29915,     0.30299,     0.30619,     0.31205,      0.3163,     0.31829,     0.32564,     0.32986,     0.33386,     0.34009,     0.34566,     0.34958,      0.3531,     0.35464,     0.35565,\n",
              "            0.35749,     0.36173,     0.36618,     0.36887,       0.371,     0.37667,      0.3811,     0.38398,     0.38667,     0.38889,     0.39538,     0.39945,     0.40199,     0.40605,     0.40792,     0.41067,     0.41458,     0.41568,      0.4191,     0.42231,     0.42492,     0.42572,     0.42771,\n",
              "             0.4299,     0.43333,     0.43526,     0.43877,     0.44232,     0.44389,     0.44625,     0.44742,     0.45107,     0.45538,     0.45824,     0.46202,     0.46494,     0.46779,     0.46864,     0.46969,     0.47369,     0.47563,     0.47671,     0.47855,     0.47845,     0.47984,     0.48227,\n",
              "            0.48488,     0.48803,     0.49304,     0.49874,     0.50269,     0.50427,     0.50366,     0.50689,     0.50908,     0.51009,     0.51313,     0.51976,      0.5228,     0.52487,     0.52841,     0.53104,     0.53272,     0.53607,     0.53753,     0.53958,     0.54289,     0.54465,      0.5474,\n",
              "            0.54862,     0.55033,     0.55188,     0.55366,     0.55545,     0.55672,     0.55835,     0.56018,     0.56143,     0.56399,     0.56863,     0.56793,     0.56843,      0.5702,     0.57622,     0.57949,     0.58126,     0.58315,     0.58368,     0.58482,     0.58606,     0.58866,     0.59046,\n",
              "            0.59302,     0.59343,     0.59566,     0.59659,      0.6003,     0.60537,     0.60867,     0.61065,     0.61412,     0.61652,     0.61709,     0.61876,     0.61991,     0.62151,     0.62249,     0.62385,     0.62721,     0.62943,     0.62972,     0.63018,     0.63064,      0.6311,     0.63378,\n",
              "            0.63427,     0.63466,     0.63505,     0.63518,     0.63469,     0.63594,     0.63542,     0.63648,     0.63528,     0.63841,     0.64093,     0.64381,     0.64624,     0.64779,     0.64858,     0.64917,     0.64985,     0.65098,     0.65417,      0.6546,     0.65501,     0.65541,     0.65624,\n",
              "            0.65803,     0.65896,     0.65934,     0.65971,     0.66009,     0.65965,     0.65998,     0.66031,     0.66063,     0.66096,     0.66154,      0.6624,     0.66427,     0.66361,     0.66323,     0.66292,     0.66492,     0.66668,     0.66719,      0.6677,     0.66821,     0.66942,     0.67068,\n",
              "            0.67141,       0.671,     0.67045,     0.66974,     0.66923,     0.67044,     0.67362,     0.67847,     0.68098,     0.68172,     0.68245,     0.68327,     0.68409,     0.68614,     0.68697,     0.68816,      0.6925,     0.69332,     0.69384,     0.69436,     0.69521,     0.69653,     0.69786,\n",
              "            0.69893,     0.69991,     0.69928,     0.70138,     0.70175,     0.70212,     0.70249,     0.70288,      0.7035,     0.70412,     0.70661,     0.70749,      0.7084,     0.70967,     0.71009,     0.70994,     0.70979,     0.70964,     0.70949,      0.7099,      0.7107,     0.71152,     0.71237,\n",
              "            0.71321,     0.71385,     0.71449,     0.71511,     0.71554,     0.71597,      0.7164,     0.71683,     0.71778,     0.71823,     0.72085,     0.72132,       0.721,      0.7208,     0.72059,     0.72232,     0.72209,     0.72185,     0.72165,     0.72245,     0.72325,     0.72379,     0.72416,\n",
              "            0.72453,     0.72489,     0.72526,     0.72531,      0.7256,      0.7279,      0.7322,     0.73374,     0.73383,     0.73467,     0.73581,     0.73832,     0.73984,     0.74062,     0.74139,     0.74201,     0.74258,     0.74315,     0.74589,     0.74713,     0.74749,      0.7491,     0.74977,\n",
              "            0.75029,      0.7508,     0.75132,     0.75085,     0.75458,     0.75681,     0.75763,     0.75845,     0.75919,     0.75988,     0.76058,     0.76083,     0.76063,     0.76042,     0.75945,     0.75857,     0.76208,      0.7633,     0.76407,     0.76485,     0.76933,     0.76881,     0.77179,\n",
              "            0.77316,     0.77453,     0.77572,     0.77532,     0.77632,     0.77655,     0.77631,     0.77608,     0.77915,     0.77986,     0.78056,     0.78227,     0.78525,     0.79005,     0.78985,     0.78971,     0.78958,     0.78944,      0.7893,     0.78876,     0.79066,      0.7907,      0.7903,\n",
              "            0.78999,     0.79027,     0.79142,     0.79253,     0.79347,     0.79442,     0.79742,     0.79731,      0.7972,     0.79709,     0.79698,     0.79687,     0.79692,     0.79773,     0.79855,     0.79934,     0.79907,      0.8004,      0.8051,     0.80737,     0.80873,     0.81097,     0.81222,\n",
              "            0.81272,     0.81322,     0.81372,     0.81422,     0.81737,     0.81767,     0.81797,     0.81827,     0.81857,     0.81888,     0.81918,     0.81948,     0.81978,     0.82078,     0.82532,     0.82472,      0.8243,     0.82595,     0.82715,     0.82811,     0.82908,      0.8316,     0.83238,\n",
              "            0.83317,     0.83388,     0.83347,     0.83517,     0.83929,     0.83964,     0.83998,     0.84033,     0.84067,     0.84101,     0.84136,      0.8417,     0.84205,     0.84202,     0.84192,     0.84182,     0.84172,     0.84163,      0.8419,     0.84342,     0.84449,     0.84437,     0.84425,\n",
              "            0.84413,     0.84401,      0.8436,     0.84383,     0.84445,     0.84506,     0.84568,      0.8463,     0.84635,     0.84625,     0.84615,     0.84606,     0.84596,     0.84584,     0.84565,     0.84546,     0.84768,     0.84669,     0.84659,     0.84649,     0.84639,     0.84629,     0.84619,\n",
              "            0.84669,     0.84748,     0.84828,     0.84908,     0.84883,     0.84856,     0.84837,     0.84817,     0.84871,     0.84935,        0.85,     0.85065,     0.85129,     0.85111,     0.85092,     0.85073,     0.85053,     0.85032,     0.85142,     0.85365,     0.85431,     0.85497,     0.85563,\n",
              "            0.85629,     0.85834,      0.8625,     0.86232,     0.86214,     0.86083,     0.86056,     0.86276,     0.86621,     0.86792,     0.86967,     0.86994,     0.86977,     0.86959,     0.87031,     0.87119,     0.87208,     0.87296,     0.87277,     0.87251,     0.87202,     0.87382,     0.87553,\n",
              "            0.87605,     0.87657,     0.87708,      0.8776,     0.87812,     0.87863,     0.88253,     0.88229,     0.88198,     0.88113,     0.88105,     0.88098,     0.88091,     0.88084,     0.88077,      0.8807,     0.88004,     0.87979,       0.884,     0.88526,     0.88652,     0.88817,     0.89008,\n",
              "            0.89159,     0.89287,     0.89415,     0.89498,     0.89563,     0.89628,     0.89692,     0.89757,     0.89822,     0.89887,     0.89952,     0.90018,     0.90083,     0.90148,     0.90212,     0.90191,      0.9017,     0.90159,     0.90149,     0.90138,     0.90125,     0.90103,     0.90082,\n",
              "             0.9006,     0.90038,     0.90015,     0.89997,     0.89988,     0.89979,      0.8997,     0.89961,     0.89947,     0.89924,     0.89901,     0.89879,     0.90082,     0.90262,     0.90257,     0.90251,     0.90246,      0.9024,     0.90235,     0.90229,     0.90224,     0.90216,     0.90207,\n",
              "            0.90198,     0.90189,      0.9018,     0.90167,     0.90154,     0.90142,     0.90129,     0.90118,     0.90107,     0.90095,     0.90082,     0.90066,     0.90051,     0.90016,      0.8997,     0.90194,     0.90472,     0.90686,     0.90734,     0.90725,     0.90717,     0.90708,     0.90699,\n",
              "            0.90678,     0.90656,     0.91012,     0.91017,     0.90995,     0.91387,     0.91343,     0.91555,      0.9188,     0.92109,      0.9219,     0.92182,     0.92175,     0.92167,     0.92159,     0.92142,     0.92122,     0.92114,      0.9211,     0.92105,       0.921,     0.92096,     0.92091,\n",
              "            0.92086,     0.92082,     0.92076,     0.92071,     0.92065,     0.92059,     0.92053,     0.92047,     0.92042,     0.92021,     0.91997,     0.91983,      0.9197,     0.91948,     0.91993,     0.92232,     0.92379,     0.92359,     0.92478,     0.92802,     0.92816,     0.92811,     0.92806,\n",
              "            0.92801,     0.92796,      0.9279,     0.92785,     0.92778,     0.92768,     0.92758,     0.92749,     0.92737,     0.92724,     0.92711,     0.92688,     0.92657,     0.92627,     0.92614,       0.926,     0.92581,     0.92554,     0.92798,     0.93048,     0.93029,     0.93009,     0.92983,\n",
              "            0.92949,     0.92922,     0.92903,     0.92885,     0.92869,     0.92848,     0.92839,      0.9292,     0.93001,     0.93083,     0.93164,     0.93245,     0.93327,     0.93298,     0.93499,     0.93714,     0.93802,     0.93773,     0.93678,     0.93671,     0.93664,     0.93657,      0.9365,\n",
              "            0.93644,     0.93631,     0.93616,     0.93564,     0.93551,     0.93538,     0.93908,     0.94068,      0.9405,     0.94026,     0.94068,     0.94197,     0.94326,     0.94455,     0.94544,     0.94511,     0.94497,     0.94484,     0.94457,     0.94542,     0.94693,     0.94843,     0.94993,\n",
              "            0.95019,     0.95003,     0.94974,     0.95306,     0.95659,     0.95909,     0.96158,     0.96163,     0.96142,     0.96117,     0.96234,     0.96491,     0.96729,     0.96708,     0.96703,     0.96699,     0.96695,      0.9669,     0.96685,      0.9668,     0.96675,      0.9667,     0.96662,\n",
              "            0.96647,     0.96617,     0.96611,     0.96605,     0.96599,      0.9656,     0.96549,     0.96543,     0.96536,      0.9653,     0.96525,      0.9652,     0.96515,      0.9651,     0.96505,     0.96492,     0.96473,     0.96452,     0.96443,     0.96434,     0.96905,     0.97104,     0.97052,\n",
              "            0.97045,     0.97037,     0.97271,     0.97518,     0.97761,     0.97759,     0.97757,     0.97755,     0.97753,      0.9775,     0.97748,     0.97746,     0.97737,     0.97714,     0.97689,     0.97677,     0.97671,     0.97666,     0.97661,     0.97657,     0.97634,     0.97624,     0.97597,\n",
              "             0.9759,     0.97584,     0.97578,     0.97574,     0.97569,     0.97565,      0.9756,     0.97549,     0.97537,     0.97477,     0.97466,     0.97455,     0.97444,     0.97432,     0.97421,     0.97405,     0.97389,     0.97382,     0.97375,     0.97369,     0.97363,     0.97357,     0.97351,\n",
              "            0.97345,     0.97338,     0.97331,     0.97324,     0.97315,     0.97305,     0.97295,     0.97282,     0.97259,     0.97227,     0.97179,     0.97162,     0.97153,     0.97144,     0.97118,     0.97098,     0.97031,     0.97015,     0.96999,     0.96968,     0.96937,     0.96869,     0.96834,\n",
              "             0.9682,      0.9677,     0.96746,     0.96726,     0.96708,     0.96675,     0.96609,     0.96526,     0.96459,     0.96444,      0.9643,     0.96303,     0.96282,     0.96266,      0.9625,     0.96231,     0.96211,     0.96184,     0.96151,     0.96126,     0.96096,     0.96048,     0.96021,\n",
              "            0.96143,     0.96808,     0.97219,     0.97205,     0.97192,     0.97138,     0.97124,      0.9711,     0.97066,     0.97031,     0.96972,     0.96923,     0.96841,     0.96769,     0.96711,     0.96692,     0.96674,     0.98274,     0.98262,     0.98249,     0.98179,     0.98165,     0.98151,\n",
              "             0.9811,     0.98097,     0.98085,     0.98049,      0.9803,      0.9802,      0.9801,        0.98,     0.97959,     0.97825,     0.97792,     0.97771,     0.97758,     0.97745,     0.97732,     0.97615,     0.97591,     0.97567,      0.9743,     0.97407,     0.97384,     0.97353,     0.97305,\n",
              "            0.97289,     0.97278,     0.97268,     0.97258,     0.97248,     0.97237,     0.97227,     0.97141,     0.97098,     0.96965,     0.96917,     0.96845,      0.9675,     0.96713,     0.96677,     0.96581,     0.96504,     0.96441,     0.98386,           1,           1,           1,           1,\n",
              "                  1,           1,           1,           1,           1,           1,           1,           1,           1,           1,           1,           1,           1,           1,           1,           1,           1,           1,           1,           1,           1,           1,           1,\n",
              "                  1,           1,           1,           1,           1,           1,           1,           1,           1,           1,           1,           1,           1,           1,           1,           1,           1,           1,           1,           1,           1,           1,           1,\n",
              "                  1,           1,           1,           1,           1,           1,           1,           1,           1,           1,           1,           1,           1,           1,           1,           1,           1,           1,           1,           1,           1,           1,           1,\n",
              "                  1,           1,           1,           1,           1,           1,           1,           1,           1,           1,           1,           1,           1,           1,           1,           1,           1,           1,           1,           1,           1,           1,           1,\n",
              "                  1,           1,           1,           1,           1,           1,           1,           1,           1,           1,           1]]), 'Confidence', 'Precision'], [array([          0,    0.001001,    0.002002,    0.003003,    0.004004,    0.005005,    0.006006,    0.007007,    0.008008,    0.009009,     0.01001,    0.011011,    0.012012,    0.013013,    0.014014,    0.015015,    0.016016,    0.017017,    0.018018,    0.019019,     0.02002,    0.021021,    0.022022,    0.023023,\n",
              "          0.024024,    0.025025,    0.026026,    0.027027,    0.028028,    0.029029,     0.03003,    0.031031,    0.032032,    0.033033,    0.034034,    0.035035,    0.036036,    0.037037,    0.038038,    0.039039,     0.04004,    0.041041,    0.042042,    0.043043,    0.044044,    0.045045,    0.046046,    0.047047,\n",
              "          0.048048,    0.049049,     0.05005,    0.051051,    0.052052,    0.053053,    0.054054,    0.055055,    0.056056,    0.057057,    0.058058,    0.059059,     0.06006,    0.061061,    0.062062,    0.063063,    0.064064,    0.065065,    0.066066,    0.067067,    0.068068,    0.069069,     0.07007,    0.071071,\n",
              "          0.072072,    0.073073,    0.074074,    0.075075,    0.076076,    0.077077,    0.078078,    0.079079,     0.08008,    0.081081,    0.082082,    0.083083,    0.084084,    0.085085,    0.086086,    0.087087,    0.088088,    0.089089,     0.09009,    0.091091,    0.092092,    0.093093,    0.094094,    0.095095,\n",
              "          0.096096,    0.097097,    0.098098,    0.099099,      0.1001,      0.1011,      0.1021,      0.1031,      0.1041,     0.10511,     0.10611,     0.10711,     0.10811,     0.10911,     0.11011,     0.11111,     0.11211,     0.11311,     0.11411,     0.11512,     0.11612,     0.11712,     0.11812,     0.11912,\n",
              "           0.12012,     0.12112,     0.12212,     0.12312,     0.12412,     0.12513,     0.12613,     0.12713,     0.12813,     0.12913,     0.13013,     0.13113,     0.13213,     0.13313,     0.13413,     0.13514,     0.13614,     0.13714,     0.13814,     0.13914,     0.14014,     0.14114,     0.14214,     0.14314,\n",
              "           0.14414,     0.14515,     0.14615,     0.14715,     0.14815,     0.14915,     0.15015,     0.15115,     0.15215,     0.15315,     0.15415,     0.15516,     0.15616,     0.15716,     0.15816,     0.15916,     0.16016,     0.16116,     0.16216,     0.16316,     0.16416,     0.16517,     0.16617,     0.16717,\n",
              "           0.16817,     0.16917,     0.17017,     0.17117,     0.17217,     0.17317,     0.17417,     0.17518,     0.17618,     0.17718,     0.17818,     0.17918,     0.18018,     0.18118,     0.18218,     0.18318,     0.18418,     0.18519,     0.18619,     0.18719,     0.18819,     0.18919,     0.19019,     0.19119,\n",
              "           0.19219,     0.19319,     0.19419,      0.1952,      0.1962,      0.1972,      0.1982,      0.1992,      0.2002,      0.2012,      0.2022,      0.2032,      0.2042,     0.20521,     0.20621,     0.20721,     0.20821,     0.20921,     0.21021,     0.21121,     0.21221,     0.21321,     0.21421,     0.21522,\n",
              "           0.21622,     0.21722,     0.21822,     0.21922,     0.22022,     0.22122,     0.22222,     0.22322,     0.22422,     0.22523,     0.22623,     0.22723,     0.22823,     0.22923,     0.23023,     0.23123,     0.23223,     0.23323,     0.23423,     0.23524,     0.23624,     0.23724,     0.23824,     0.23924,\n",
              "           0.24024,     0.24124,     0.24224,     0.24324,     0.24424,     0.24525,     0.24625,     0.24725,     0.24825,     0.24925,     0.25025,     0.25125,     0.25225,     0.25325,     0.25425,     0.25526,     0.25626,     0.25726,     0.25826,     0.25926,     0.26026,     0.26126,     0.26226,     0.26326,\n",
              "           0.26426,     0.26527,     0.26627,     0.26727,     0.26827,     0.26927,     0.27027,     0.27127,     0.27227,     0.27327,     0.27427,     0.27528,     0.27628,     0.27728,     0.27828,     0.27928,     0.28028,     0.28128,     0.28228,     0.28328,     0.28428,     0.28529,     0.28629,     0.28729,\n",
              "           0.28829,     0.28929,     0.29029,     0.29129,     0.29229,     0.29329,     0.29429,      0.2953,      0.2963,      0.2973,      0.2983,      0.2993,      0.3003,      0.3013,      0.3023,      0.3033,      0.3043,     0.30531,     0.30631,     0.30731,     0.30831,     0.30931,     0.31031,     0.31131,\n",
              "           0.31231,     0.31331,     0.31431,     0.31532,     0.31632,     0.31732,     0.31832,     0.31932,     0.32032,     0.32132,     0.32232,     0.32332,     0.32432,     0.32533,     0.32633,     0.32733,     0.32833,     0.32933,     0.33033,     0.33133,     0.33233,     0.33333,     0.33433,     0.33534,\n",
              "           0.33634,     0.33734,     0.33834,     0.33934,     0.34034,     0.34134,     0.34234,     0.34334,     0.34434,     0.34535,     0.34635,     0.34735,     0.34835,     0.34935,     0.35035,     0.35135,     0.35235,     0.35335,     0.35435,     0.35536,     0.35636,     0.35736,     0.35836,     0.35936,\n",
              "           0.36036,     0.36136,     0.36236,     0.36336,     0.36436,     0.36537,     0.36637,     0.36737,     0.36837,     0.36937,     0.37037,     0.37137,     0.37237,     0.37337,     0.37437,     0.37538,     0.37638,     0.37738,     0.37838,     0.37938,     0.38038,     0.38138,     0.38238,     0.38338,\n",
              "           0.38438,     0.38539,     0.38639,     0.38739,     0.38839,     0.38939,     0.39039,     0.39139,     0.39239,     0.39339,     0.39439,      0.3954,      0.3964,      0.3974,      0.3984,      0.3994,      0.4004,      0.4014,      0.4024,      0.4034,      0.4044,     0.40541,     0.40641,     0.40741,\n",
              "           0.40841,     0.40941,     0.41041,     0.41141,     0.41241,     0.41341,     0.41441,     0.41542,     0.41642,     0.41742,     0.41842,     0.41942,     0.42042,     0.42142,     0.42242,     0.42342,     0.42442,     0.42543,     0.42643,     0.42743,     0.42843,     0.42943,     0.43043,     0.43143,\n",
              "           0.43243,     0.43343,     0.43443,     0.43544,     0.43644,     0.43744,     0.43844,     0.43944,     0.44044,     0.44144,     0.44244,     0.44344,     0.44444,     0.44545,     0.44645,     0.44745,     0.44845,     0.44945,     0.45045,     0.45145,     0.45245,     0.45345,     0.45445,     0.45546,\n",
              "           0.45646,     0.45746,     0.45846,     0.45946,     0.46046,     0.46146,     0.46246,     0.46346,     0.46446,     0.46547,     0.46647,     0.46747,     0.46847,     0.46947,     0.47047,     0.47147,     0.47247,     0.47347,     0.47447,     0.47548,     0.47648,     0.47748,     0.47848,     0.47948,\n",
              "           0.48048,     0.48148,     0.48248,     0.48348,     0.48448,     0.48549,     0.48649,     0.48749,     0.48849,     0.48949,     0.49049,     0.49149,     0.49249,     0.49349,     0.49449,      0.4955,      0.4965,      0.4975,      0.4985,      0.4995,      0.5005,      0.5015,      0.5025,      0.5035,\n",
              "            0.5045,     0.50551,     0.50651,     0.50751,     0.50851,     0.50951,     0.51051,     0.51151,     0.51251,     0.51351,     0.51451,     0.51552,     0.51652,     0.51752,     0.51852,     0.51952,     0.52052,     0.52152,     0.52252,     0.52352,     0.52452,     0.52553,     0.52653,     0.52753,\n",
              "           0.52853,     0.52953,     0.53053,     0.53153,     0.53253,     0.53353,     0.53453,     0.53554,     0.53654,     0.53754,     0.53854,     0.53954,     0.54054,     0.54154,     0.54254,     0.54354,     0.54454,     0.54555,     0.54655,     0.54755,     0.54855,     0.54955,     0.55055,     0.55155,\n",
              "           0.55255,     0.55355,     0.55455,     0.55556,     0.55656,     0.55756,     0.55856,     0.55956,     0.56056,     0.56156,     0.56256,     0.56356,     0.56456,     0.56557,     0.56657,     0.56757,     0.56857,     0.56957,     0.57057,     0.57157,     0.57257,     0.57357,     0.57457,     0.57558,\n",
              "           0.57658,     0.57758,     0.57858,     0.57958,     0.58058,     0.58158,     0.58258,     0.58358,     0.58458,     0.58559,     0.58659,     0.58759,     0.58859,     0.58959,     0.59059,     0.59159,     0.59259,     0.59359,     0.59459,      0.5956,      0.5966,      0.5976,      0.5986,      0.5996,\n",
              "            0.6006,      0.6016,      0.6026,      0.6036,      0.6046,     0.60561,     0.60661,     0.60761,     0.60861,     0.60961,     0.61061,     0.61161,     0.61261,     0.61361,     0.61461,     0.61562,     0.61662,     0.61762,     0.61862,     0.61962,     0.62062,     0.62162,     0.62262,     0.62362,\n",
              "           0.62462,     0.62563,     0.62663,     0.62763,     0.62863,     0.62963,     0.63063,     0.63163,     0.63263,     0.63363,     0.63463,     0.63564,     0.63664,     0.63764,     0.63864,     0.63964,     0.64064,     0.64164,     0.64264,     0.64364,     0.64464,     0.64565,     0.64665,     0.64765,\n",
              "           0.64865,     0.64965,     0.65065,     0.65165,     0.65265,     0.65365,     0.65465,     0.65566,     0.65666,     0.65766,     0.65866,     0.65966,     0.66066,     0.66166,     0.66266,     0.66366,     0.66466,     0.66567,     0.66667,     0.66767,     0.66867,     0.66967,     0.67067,     0.67167,\n",
              "           0.67267,     0.67367,     0.67467,     0.67568,     0.67668,     0.67768,     0.67868,     0.67968,     0.68068,     0.68168,     0.68268,     0.68368,     0.68468,     0.68569,     0.68669,     0.68769,     0.68869,     0.68969,     0.69069,     0.69169,     0.69269,     0.69369,     0.69469,      0.6957,\n",
              "            0.6967,      0.6977,      0.6987,      0.6997,      0.7007,      0.7017,      0.7027,      0.7037,      0.7047,     0.70571,     0.70671,     0.70771,     0.70871,     0.70971,     0.71071,     0.71171,     0.71271,     0.71371,     0.71471,     0.71572,     0.71672,     0.71772,     0.71872,     0.71972,\n",
              "           0.72072,     0.72172,     0.72272,     0.72372,     0.72472,     0.72573,     0.72673,     0.72773,     0.72873,     0.72973,     0.73073,     0.73173,     0.73273,     0.73373,     0.73473,     0.73574,     0.73674,     0.73774,     0.73874,     0.73974,     0.74074,     0.74174,     0.74274,     0.74374,\n",
              "           0.74474,     0.74575,     0.74675,     0.74775,     0.74875,     0.74975,     0.75075,     0.75175,     0.75275,     0.75375,     0.75475,     0.75576,     0.75676,     0.75776,     0.75876,     0.75976,     0.76076,     0.76176,     0.76276,     0.76376,     0.76476,     0.76577,     0.76677,     0.76777,\n",
              "           0.76877,     0.76977,     0.77077,     0.77177,     0.77277,     0.77377,     0.77477,     0.77578,     0.77678,     0.77778,     0.77878,     0.77978,     0.78078,     0.78178,     0.78278,     0.78378,     0.78478,     0.78579,     0.78679,     0.78779,     0.78879,     0.78979,     0.79079,     0.79179,\n",
              "           0.79279,     0.79379,     0.79479,      0.7958,      0.7968,      0.7978,      0.7988,      0.7998,      0.8008,      0.8018,      0.8028,      0.8038,      0.8048,     0.80581,     0.80681,     0.80781,     0.80881,     0.80981,     0.81081,     0.81181,     0.81281,     0.81381,     0.81481,     0.81582,\n",
              "           0.81682,     0.81782,     0.81882,     0.81982,     0.82082,     0.82182,     0.82282,     0.82382,     0.82482,     0.82583,     0.82683,     0.82783,     0.82883,     0.82983,     0.83083,     0.83183,     0.83283,     0.83383,     0.83483,     0.83584,     0.83684,     0.83784,     0.83884,     0.83984,\n",
              "           0.84084,     0.84184,     0.84284,     0.84384,     0.84484,     0.84585,     0.84685,     0.84785,     0.84885,     0.84985,     0.85085,     0.85185,     0.85285,     0.85385,     0.85485,     0.85586,     0.85686,     0.85786,     0.85886,     0.85986,     0.86086,     0.86186,     0.86286,     0.86386,\n",
              "           0.86486,     0.86587,     0.86687,     0.86787,     0.86887,     0.86987,     0.87087,     0.87187,     0.87287,     0.87387,     0.87487,     0.87588,     0.87688,     0.87788,     0.87888,     0.87988,     0.88088,     0.88188,     0.88288,     0.88388,     0.88488,     0.88589,     0.88689,     0.88789,\n",
              "           0.88889,     0.88989,     0.89089,     0.89189,     0.89289,     0.89389,     0.89489,      0.8959,      0.8969,      0.8979,      0.8989,      0.8999,      0.9009,      0.9019,      0.9029,      0.9039,      0.9049,     0.90591,     0.90691,     0.90791,     0.90891,     0.90991,     0.91091,     0.91191,\n",
              "           0.91291,     0.91391,     0.91491,     0.91592,     0.91692,     0.91792,     0.91892,     0.91992,     0.92092,     0.92192,     0.92292,     0.92392,     0.92492,     0.92593,     0.92693,     0.92793,     0.92893,     0.92993,     0.93093,     0.93193,     0.93293,     0.93393,     0.93493,     0.93594,\n",
              "           0.93694,     0.93794,     0.93894,     0.93994,     0.94094,     0.94194,     0.94294,     0.94394,     0.94494,     0.94595,     0.94695,     0.94795,     0.94895,     0.94995,     0.95095,     0.95195,     0.95295,     0.95395,     0.95495,     0.95596,     0.95696,     0.95796,     0.95896,     0.95996,\n",
              "           0.96096,     0.96196,     0.96296,     0.96396,     0.96496,     0.96597,     0.96697,     0.96797,     0.96897,     0.96997,     0.97097,     0.97197,     0.97297,     0.97397,     0.97497,     0.97598,     0.97698,     0.97798,     0.97898,     0.97998,     0.98098,     0.98198,     0.98298,     0.98398,\n",
              "           0.98498,     0.98599,     0.98699,     0.98799,     0.98899,     0.98999,     0.99099,     0.99199,     0.99299,     0.99399,     0.99499,       0.996,       0.997,       0.998,       0.999,           1]), array([[    0.93316,     0.93316,     0.91774,     0.90746,      0.8946,     0.88946,     0.88175,     0.86889,     0.86889,     0.86889,     0.86118,     0.85604,      0.8509,     0.84576,     0.84319,     0.84319,     0.83805,     0.83805,      0.8329,     0.83033,     0.82776,     0.82776,     0.82519,\n",
              "            0.82519,     0.82262,     0.82005,     0.82005,     0.81748,     0.81491,     0.81491,     0.81491,     0.81234,     0.81129,     0.80977,     0.80977,     0.80977,     0.80463,     0.80463,     0.80206,     0.80206,     0.80206,     0.80206,     0.79949,     0.79692,     0.79434,     0.79434,\n",
              "            0.79434,     0.79434,     0.79434,     0.79177,      0.7892,     0.78663,     0.78663,     0.78663,     0.78663,     0.78149,     0.78149,     0.78149,     0.78149,     0.78149,     0.78149,     0.77892,     0.77892,     0.77892,     0.77635,     0.77635,     0.77635,     0.77378,     0.77121,\n",
              "            0.77121,     0.76864,     0.76864,     0.76864,     0.76864,     0.76864,     0.76607,     0.76607,     0.76607,     0.76607,     0.76607,     0.76607,     0.76607,     0.76607,      0.7635,      0.7635,      0.7635,      0.7635,      0.7635,     0.76093,     0.75835,     0.75648,     0.75431,\n",
              "            0.75321,     0.75321,     0.75321,     0.75321,     0.75321,     0.75312,     0.75129,     0.75064,     0.75064,     0.75064,     0.75064,     0.75064,     0.75064,     0.75064,     0.75064,     0.75064,     0.75064,     0.75064,     0.75064,     0.75064,     0.75064,     0.75064,     0.75064,\n",
              "            0.75064,     0.75064,     0.74807,     0.74807,     0.74807,     0.74807,     0.74807,     0.74807,      0.7455,      0.7455,     0.74549,     0.74339,     0.74293,     0.74293,     0.74293,     0.74293,     0.74293,     0.74293,     0.74293,     0.74293,     0.74293,     0.74293,     0.74293,\n",
              "            0.74293,     0.73919,     0.73779,     0.73779,     0.73779,     0.73779,     0.73779,     0.73779,     0.73643,     0.73522,     0.73265,     0.73265,     0.73265,     0.73265,     0.73265,     0.73265,     0.73265,     0.73265,     0.73008,     0.73008,     0.73008,     0.73008,     0.73008,\n",
              "            0.73008,     0.73008,     0.73008,     0.72955,     0.72751,     0.72746,     0.72584,     0.72466,     0.72091,     0.71979,     0.71979,     0.71979,     0.71979,     0.71979,     0.71979,     0.71979,     0.71979,     0.71979,     0.71979,     0.71979,     0.71979,     0.71979,     0.71979,\n",
              "            0.71979,     0.71979,     0.71979,     0.71979,     0.71979,     0.71722,     0.71722,     0.71722,     0.71722,     0.71722,     0.71722,     0.71722,     0.71716,     0.71505,     0.71384,     0.71284,     0.71208,     0.70951,     0.70951,     0.70951,     0.70951,     0.70951,     0.70951,\n",
              "            0.70912,      0.7078,     0.70603,     0.70377,     0.70215,      0.7018,      0.7018,      0.7018,      0.7018,      0.7018,      0.7018,      0.7018,      0.7018,      0.7018,      0.7018,      0.7018,      0.7018,      0.7018,      0.7018,      0.7018,      0.7018,      0.7018,      0.7018,\n",
              "             0.7018,      0.7018,     0.69941,     0.69923,     0.69923,     0.69923,     0.69923,     0.69923,     0.69923,     0.69923,     0.69923,     0.69923,     0.69923,     0.69923,     0.69892,     0.69841,      0.6979,     0.69738,     0.69687,     0.69666,     0.69666,     0.69666,     0.69666,\n",
              "            0.69666,     0.69666,     0.69666,     0.69666,     0.69666,     0.69666,     0.69666,     0.69666,     0.69666,     0.69409,     0.69409,     0.69201,     0.69091,     0.69021,     0.68951,     0.68878,     0.68797,     0.68716,     0.68638,     0.68638,     0.68638,     0.68638,     0.68638,\n",
              "            0.68638,     0.68638,     0.68638,     0.68558,      0.6838,      0.6838,     0.68123,      0.6801,     0.67866,     0.67866,     0.67866,     0.67866,     0.67866,     0.67866,     0.67866,     0.67866,     0.67866,     0.67866,     0.67866,     0.67866,     0.67727,     0.67609,     0.67609,\n",
              "            0.67609,     0.67609,     0.67609,     0.67402,     0.67095,     0.67095,     0.67095,     0.67095,     0.67095,     0.67095,     0.67095,     0.67058,     0.66983,     0.66907,     0.66553,     0.66232,     0.66067,     0.66067,     0.66067,     0.66067,     0.66019,      0.6581,      0.6581,\n",
              "             0.6581,      0.6581,     0.65794,     0.65643,     0.65296,     0.65216,     0.65128,      0.6504,     0.65039,     0.65039,     0.65039,     0.65039,     0.65039,     0.65039,     0.64735,     0.64682,     0.64629,     0.64577,     0.64523,     0.64312,     0.64267,     0.64096,     0.63941,\n",
              "            0.63824,     0.63753,     0.63753,     0.63753,     0.63753,     0.63753,     0.63752,     0.63708,     0.63664,      0.6362,     0.63576,     0.63532,     0.63496,     0.63496,     0.63496,     0.63493,     0.63239,     0.63239,     0.63239,     0.63239,     0.63239,     0.63239,     0.63239,\n",
              "            0.63239,     0.63239,     0.63239,     0.63239,     0.63239,     0.63239,     0.63239,     0.63239,     0.63239,     0.63239,     0.63239,     0.63239,     0.63239,     0.63239,     0.63159,     0.62896,     0.62468,     0.62468,     0.62468,     0.62468,     0.62468,     0.61954,     0.61954,\n",
              "            0.61954,     0.61938,     0.61697,     0.61697,     0.61697,     0.61697,     0.61697,     0.61697,     0.61697,     0.61697,     0.61697,     0.61697,     0.61697,     0.61658,     0.61612,     0.61567,     0.61521,     0.61475,      0.6144,      0.6144,     0.61424,     0.61369,     0.61313,\n",
              "            0.61258,     0.61202,     0.61013,     0.60925,     0.60925,     0.60925,     0.60925,     0.60925,     0.60889,     0.60843,     0.60798,     0.60752,     0.60706,     0.60652,     0.60565,     0.60477,     0.60087,     0.59627,     0.59581,     0.59536,      0.5949,     0.59444,     0.59398,\n",
              "            0.59383,     0.59383,     0.59383,     0.59383,     0.59181,     0.59056,     0.58969,     0.58881,     0.58869,     0.58869,     0.58869,     0.58869,     0.58869,     0.58782,     0.58694,     0.58606,      0.5851,     0.58414,     0.58355,     0.58355,     0.58355,     0.58355,     0.58355,\n",
              "            0.58355,     0.58355,      0.5805,     0.57962,     0.57874,     0.57245,     0.57113,     0.57069,     0.57069,     0.56812,     0.56812,     0.56745,     0.56657,     0.56569,     0.56555,     0.56555,     0.56555,     0.56555,     0.56432,       0.563,     0.56041,     0.56041,     0.56041,\n",
              "            0.56041,     0.56041,     0.56041,     0.56041,     0.56041,     0.56041,     0.56011,     0.55879,      0.5571,     0.55258,     0.55221,     0.55183,     0.55146,     0.55108,      0.5507,     0.55033,     0.54693,     0.54561,     0.54499,     0.54499,     0.54499,     0.54499,     0.54499,\n",
              "            0.54499,     0.54499,     0.54499,     0.54499,     0.54499,     0.54499,     0.54499,     0.54499,     0.54499,     0.54499,     0.54499,     0.54499,     0.54499,     0.54499,     0.54497,     0.54365,     0.54238,     0.54172,     0.54106,      0.5404,     0.53964,     0.53832,       0.537,\n",
              "            0.53568,     0.53437,     0.53305,     0.53197,     0.53145,     0.53092,     0.53039,     0.52986,       0.529,     0.52768,     0.52636,     0.52505,     0.52442,     0.52424,     0.52391,     0.52358,     0.52325,     0.52292,     0.52259,     0.52226,     0.52193,     0.52146,     0.52093,\n",
              "             0.5204,     0.51988,     0.51935,     0.51863,     0.51787,     0.51712,     0.51641,     0.51575,     0.51509,     0.51444,     0.51366,     0.51278,      0.5119,     0.50993,     0.50729,     0.50386,     0.50386,     0.50386,     0.50346,     0.50294,     0.50241,     0.50188,     0.50136,\n",
              "            0.50014,     0.49882,     0.49614,      0.4949,     0.49359,     0.49097,     0.48823,     0.48586,     0.48586,     0.48586,     0.48553,     0.48501,     0.48448,     0.48395,     0.48342,     0.48231,     0.48099,     0.48047,     0.48016,     0.47985,     0.47954,     0.47923,     0.47892,\n",
              "            0.47861,      0.4783,     0.47796,     0.47758,     0.47721,     0.47683,     0.47645,     0.47608,      0.4757,      0.4744,     0.47282,     0.47194,     0.47107,     0.46969,     0.46787,     0.46787,      0.4674,     0.46608,      0.4653,      0.4653,     0.46496,     0.46461,     0.46426,\n",
              "            0.46391,     0.46356,     0.46321,     0.46286,     0.46231,     0.46165,       0.461,     0.46034,     0.45952,     0.45864,     0.45776,     0.45619,     0.45414,     0.45213,     0.45125,     0.45037,     0.44912,     0.44736,      0.4473,     0.44728,     0.44596,     0.44462,     0.44286,\n",
              "            0.44058,     0.43876,     0.43745,     0.43631,     0.43525,     0.43383,     0.43188,     0.43188,     0.43188,     0.43188,     0.43188,     0.43188,     0.43188,     0.42946,     0.42931,     0.42931,     0.42798,     0.42581,     0.41899,     0.41851,     0.41803,     0.41755,     0.41708,\n",
              "             0.4166,     0.41572,     0.41466,     0.41108,      0.4102,     0.40933,     0.40874,     0.40763,     0.40631,      0.4046,      0.4036,      0.4036,      0.4036,      0.4036,     0.40092,     0.39839,     0.39733,     0.39628,     0.39424,     0.39332,     0.39332,     0.39332,     0.39332,\n",
              "            0.39233,     0.39101,     0.38864,     0.38817,     0.38817,     0.38817,     0.38817,     0.38656,      0.3844,     0.38177,     0.38046,     0.38046,     0.38012,     0.37759,     0.37706,     0.37653,     0.37601,     0.37548,     0.37491,     0.37433,     0.37374,     0.37315,     0.37221,\n",
              "            0.37045,     0.36705,     0.36639,     0.36573,     0.36508,     0.36081,     0.35958,     0.35892,     0.35826,      0.3576,     0.35702,     0.35649,     0.35597,     0.35544,     0.35491,     0.35352,     0.35156,     0.34938,     0.34851,     0.34763,     0.34704,     0.34481,     0.33857,\n",
              "            0.33769,     0.33681,     0.33676,     0.33676,     0.33675,     0.33643,      0.3361,     0.33577,     0.33544,     0.33511,     0.33478,     0.33445,     0.33307,     0.32971,     0.32602,     0.32426,     0.32338,     0.32272,     0.32206,      0.3214,     0.31823,     0.31691,     0.31322,\n",
              "            0.31234,     0.31147,     0.31074,     0.31016,     0.30957,     0.30899,      0.3083,     0.30698,     0.30541,     0.29792,      0.2966,     0.29528,     0.29397,     0.29265,     0.29133,     0.28954,     0.28763,     0.28688,     0.28612,     0.28537,     0.28471,     0.28405,     0.28339,\n",
              "            0.28273,     0.28197,     0.28122,     0.28047,     0.27952,     0.27846,     0.27735,     0.27604,     0.27368,     0.27045,     0.26571,     0.26406,     0.26318,      0.2623,     0.25985,     0.25802,     0.25208,     0.25065,     0.24931,     0.24667,     0.24404,     0.23859,     0.23587,\n",
              "            0.23481,     0.23107,     0.22931,     0.22787,     0.22655,     0.22424,     0.21972,     0.21429,     0.21007,     0.20919,     0.20832,     0.20092,      0.1997,     0.19883,     0.19795,     0.19689,     0.19584,     0.19439,     0.19268,     0.19136,     0.18986,     0.18744,     0.18612,\n",
              "            0.18509,     0.18509,     0.17972,     0.17884,     0.17796,     0.17451,     0.17363,     0.17275,     0.17007,     0.16804,     0.16467,     0.16196,     0.15763,       0.154,     0.15118,      0.1503,     0.14942,     0.14638,     0.14533,     0.14427,     0.13859,     0.13754,     0.13648,\n",
              "            0.13342,     0.13254,     0.13167,      0.1292,     0.12796,      0.1273,     0.12664,     0.12598,      0.1234,     0.11564,     0.11389,     0.11274,     0.11208,     0.11143,     0.11077,     0.10522,     0.10417,     0.10311,    0.097475,    0.096597,    0.095718,    0.094564,    0.092807,\n",
              "           0.092246,    0.091895,    0.091543,    0.091192,    0.090841,    0.090489,    0.090138,    0.087343,    0.086026,    0.082137,     0.08082,    0.078935,    0.076545,    0.075666,    0.074788,    0.072629,    0.070987,    0.069669,    0.069409,     0.06654,    0.065662,    0.064784,    0.062096,\n",
              "           0.054255,    0.048914,    0.047134,    0.039788,    0.037153,    0.035254,    0.033936,    0.033128,    0.032649,     0.03217,    0.031691,    0.031212,    0.029575,     0.02771,    0.026957,    0.026204,    0.024813,    0.021219,    0.019027,    0.016908,    0.015168,    0.014583,    0.013997,\n",
              "           0.013412,     0.01284,    0.012563,    0.012286,    0.012008,    0.011731,    0.011454,    0.011176,    0.010899,    0.010621,    0.010344,   0.0082306,   0.0074631,   0.0071531,   0.0068431,   0.0065331,   0.0062231,   0.0059131,   0.0056031,   0.0052931,   0.0050453,    0.004857,   0.0046688,\n",
              "          0.0044806,   0.0042924,   0.0041042,    0.003916,   0.0037277,   0.0035395,   0.0033513,   0.0031631,   0.0029749,   0.0027867,   0.0025984,           0,           0,           0,           0,           0,           0,           0,           0,           0,           0,           0,           0,\n",
              "                  0,           0,           0,           0,           0,           0,           0,           0,           0,           0,           0,           0,           0,           0,           0,           0,           0,           0,           0,           0,           0,           0,           0,\n",
              "                  0,           0,           0,           0,           0,           0,           0,           0,           0,           0,           0]]), 'Confidence', 'Recall']]\n",
              "fitness: np.float64(0.49115697688524357)\n",
              "keys: ['metrics/precision(B)', 'metrics/recall(B)', 'metrics/mAP50(B)', 'metrics/mAP50-95(B)']\n",
              "maps: array([    0.46485])\n",
              "names: {0: 'Waste container'}\n",
              "nt_per_class: array([389])\n",
              "nt_per_image: array([204])\n",
              "results_dict: {'metrics/precision(B)': np.float64(0.7969774320010291), 'metrics/recall(B)': np.float64(0.635760975199707), 'metrics/mAP50(B)': np.float64(0.7279083847463095), 'metrics/mAP50-95(B)': np.float64(0.4648512649006807), 'fitness': np.float64(0.49115697688524357)}\n",
              "save_dir: PosixPath('runs/detect/train4')\n",
              "speed: {'preprocess': 0.3463599411686885, 'inference': 3.164473156862097, 'loss': 0.034969196077309236, 'postprocess': 9.85351984803517}\n",
              "stats: {'tp': [], 'conf': [], 'pred_cls': [], 'target_cls': [], 'target_img': []}\n",
              "task: 'detect'"
            ]
          },
          "metadata": {},
          "execution_count": 8
        }
      ]
    },
    {
      "cell_type": "code",
      "source": [
        "!zip -r /content/train4_outputs.zip /content/runs/detect/train4"
      ],
      "metadata": {
        "colab": {
          "base_uri": "https://localhost:8080/"
        },
        "id": "87Y3y-XhS1LG",
        "outputId": "b4dbcf54-808a-4849-fcb1-60eb32bc21f2"
      },
      "execution_count": 10,
      "outputs": [
        {
          "output_type": "stream",
          "name": "stdout",
          "text": [
            "  adding: content/runs/detect/train4/ (stored 0%)\n",
            "  adding: content/runs/detect/train4/weights/ (stored 0%)\n",
            "  adding: content/runs/detect/train4/weights/last.pt (deflated 10%)\n",
            "  adding: content/runs/detect/train4/weights/best.pt (deflated 10%)\n",
            "  adding: content/runs/detect/train4/val_batch0_labels.jpg (deflated 6%)\n",
            "  adding: content/runs/detect/train4/train_batch0.jpg (deflated 2%)\n",
            "  adding: content/runs/detect/train4/BoxF1_curve.png (deflated 16%)\n",
            "  adding: content/runs/detect/train4/train_batch5360.jpg (deflated 4%)\n",
            "  adding: content/runs/detect/train4/val_batch2_labels.jpg (deflated 5%)\n",
            "  adding: content/runs/detect/train4/results.csv (deflated 59%)\n",
            "  adding: content/runs/detect/train4/args.yaml (deflated 53%)\n",
            "  adding: content/runs/detect/train4/labels_correlogram.jpg (deflated 36%)\n",
            "  adding: content/runs/detect/train4/confusion_matrix_normalized.png (deflated 33%)\n",
            "  adding: content/runs/detect/train4/train_batch2.jpg (deflated 1%)\n",
            "  adding: content/runs/detect/train4/val_batch1_pred.jpg (deflated 5%)\n",
            "  adding: content/runs/detect/train4/train_batch1.jpg (deflated 2%)\n",
            "  adding: content/runs/detect/train4/train_batch5362.jpg (deflated 5%)\n",
            "  adding: content/runs/detect/train4/confusion_matrix.png (deflated 34%)\n",
            "  adding: content/runs/detect/train4/BoxR_curve.png (deflated 16%)\n",
            "  adding: content/runs/detect/train4/labels.jpg (deflated 25%)\n",
            "  adding: content/runs/detect/train4/results.png (deflated 8%)\n",
            "  adding: content/runs/detect/train4/val_batch0_pred.jpg (deflated 6%)\n",
            "  adding: content/runs/detect/train4/train_batch5361.jpg (deflated 5%)\n",
            "  adding: content/runs/detect/train4/BoxPR_curve.png (deflated 18%)\n",
            "  adding: content/runs/detect/train4/BoxP_curve.png (deflated 15%)\n",
            "  adding: content/runs/detect/train4/val_batch1_labels.jpg (deflated 5%)\n",
            "  adding: content/runs/detect/train4/val_batch2_pred.jpg (deflated 5%)\n"
          ]
        }
      ]
    },
    {
      "cell_type": "code",
      "source": [
        "metrics = model.val()"
      ],
      "metadata": {
        "colab": {
          "base_uri": "https://localhost:8080/"
        },
        "id": "tyIRIv5LCB8y",
        "outputId": "9b01eeea-e5cd-4555-a2c1-c3d89e6897b3"
      },
      "execution_count": 11,
      "outputs": [
        {
          "output_type": "stream",
          "name": "stdout",
          "text": [
            "Ultralytics 8.3.162 🚀 Python-3.11.13 torch-2.6.0+cu124 CUDA:0 (Tesla T4, 15095MiB)\n",
            "YOLOv8n summary (fused): 72 layers, 3,005,843 parameters, 0 gradients, 8.1 GFLOPs\n",
            "\u001b[34m\u001b[1mval: \u001b[0mFast image access ✅ (ping: 0.4±0.3 ms, read: 29.3±16.4 MB/s, size: 61.0 KB)\n"
          ]
        },
        {
          "output_type": "stream",
          "name": "stderr",
          "text": [
            "\u001b[34m\u001b[1mval: \u001b[0mScanning /content/drive/MyDrive/dataset/val/labels.cache... 204 images, 0 backgrounds, 0 corrupt: 100%|██████████| 204/204 [00:00<?, ?it/s]\n",
            "                 Class     Images  Instances      Box(P          R      mAP50  mAP50-95): 100%|██████████| 13/13 [00:04<00:00,  3.08it/s]\n"
          ]
        },
        {
          "output_type": "stream",
          "name": "stdout",
          "text": [
            "                   all        204        389      0.792       0.64      0.728      0.466\n",
            "Speed: 1.3ms preprocess, 6.9ms inference, 0.0ms loss, 2.9ms postprocess per image\n",
            "Results saved to \u001b[1mruns/detect/train42\u001b[0m\n"
          ]
        }
      ]
    },
    {
      "cell_type": "code",
      "source": [
        "from ultralytics import YOLO\n",
        "\n",
        "# Load the trained model (replace with your actual path)\n",
        "best_model = YOLO('/content/runs/detect/train4/weights/best.pt')\n",
        "\n",
        "# Run inference on video\n",
        "results = best_model.predict(\n",
        "    source=\"/content/drive/MyDrive/3768535699-preview (1).mp4\",\n",
        "    save=True,\n",
        "    conf=0.5  # confidence threshold\n",
        ")"
      ],
      "metadata": {
        "colab": {
          "base_uri": "https://localhost:8080/"
        },
        "id": "r3EYWISvEsmt",
        "outputId": "09638758-2da0-407c-e8d8-081108c0c7e0"
      },
      "execution_count": 20,
      "outputs": [
        {
          "output_type": "stream",
          "name": "stdout",
          "text": [
            "\n",
            "WARNING ⚠️ \n",
            "inference results will accumulate in RAM unless `stream=True` is passed, causing potential out-of-memory\n",
            "errors for large sources or long-running streams and videos. See https://docs.ultralytics.com/modes/predict/ for help.\n",
            "\n",
            "Example:\n",
            "    results = model(source=..., stream=True)  # generator of Results objects\n",
            "    for r in results:\n",
            "        boxes = r.boxes  # Boxes object for bbox outputs\n",
            "        masks = r.masks  # Masks object for segment masks outputs\n",
            "        probs = r.probs  # Class probabilities for classification outputs\n",
            "\n",
            "video 1/1 (frame 1/544) /content/drive/MyDrive/3768535699-preview (1).mp4: 384x640 2 Waste containers, 9.5ms\n",
            "video 1/1 (frame 2/544) /content/drive/MyDrive/3768535699-preview (1).mp4: 384x640 2 Waste containers, 11.5ms\n",
            "video 1/1 (frame 3/544) /content/drive/MyDrive/3768535699-preview (1).mp4: 384x640 2 Waste containers, 6.4ms\n",
            "video 1/1 (frame 4/544) /content/drive/MyDrive/3768535699-preview (1).mp4: 384x640 2 Waste containers, 8.5ms\n",
            "video 1/1 (frame 5/544) /content/drive/MyDrive/3768535699-preview (1).mp4: 384x640 2 Waste containers, 6.0ms\n",
            "video 1/1 (frame 6/544) /content/drive/MyDrive/3768535699-preview (1).mp4: 384x640 2 Waste containers, 6.2ms\n",
            "video 1/1 (frame 7/544) /content/drive/MyDrive/3768535699-preview (1).mp4: 384x640 2 Waste containers, 6.2ms\n",
            "video 1/1 (frame 8/544) /content/drive/MyDrive/3768535699-preview (1).mp4: 384x640 2 Waste containers, 6.1ms\n",
            "video 1/1 (frame 9/544) /content/drive/MyDrive/3768535699-preview (1).mp4: 384x640 2 Waste containers, 6.1ms\n",
            "video 1/1 (frame 10/544) /content/drive/MyDrive/3768535699-preview (1).mp4: 384x640 2 Waste containers, 6.0ms\n",
            "video 1/1 (frame 11/544) /content/drive/MyDrive/3768535699-preview (1).mp4: 384x640 2 Waste containers, 7.1ms\n",
            "video 1/1 (frame 12/544) /content/drive/MyDrive/3768535699-preview (1).mp4: 384x640 2 Waste containers, 6.7ms\n",
            "video 1/1 (frame 13/544) /content/drive/MyDrive/3768535699-preview (1).mp4: 384x640 2 Waste containers, 6.2ms\n",
            "video 1/1 (frame 14/544) /content/drive/MyDrive/3768535699-preview (1).mp4: 384x640 2 Waste containers, 6.1ms\n",
            "video 1/1 (frame 15/544) /content/drive/MyDrive/3768535699-preview (1).mp4: 384x640 2 Waste containers, 6.2ms\n",
            "video 1/1 (frame 16/544) /content/drive/MyDrive/3768535699-preview (1).mp4: 384x640 2 Waste containers, 6.2ms\n",
            "video 1/1 (frame 17/544) /content/drive/MyDrive/3768535699-preview (1).mp4: 384x640 2 Waste containers, 6.1ms\n",
            "video 1/1 (frame 18/544) /content/drive/MyDrive/3768535699-preview (1).mp4: 384x640 2 Waste containers, 6.3ms\n",
            "video 1/1 (frame 19/544) /content/drive/MyDrive/3768535699-preview (1).mp4: 384x640 2 Waste containers, 6.4ms\n",
            "video 1/1 (frame 20/544) /content/drive/MyDrive/3768535699-preview (1).mp4: 384x640 2 Waste containers, 6.1ms\n",
            "video 1/1 (frame 21/544) /content/drive/MyDrive/3768535699-preview (1).mp4: 384x640 2 Waste containers, 6.4ms\n",
            "video 1/1 (frame 22/544) /content/drive/MyDrive/3768535699-preview (1).mp4: 384x640 2 Waste containers, 7.1ms\n",
            "video 1/1 (frame 23/544) /content/drive/MyDrive/3768535699-preview (1).mp4: 384x640 2 Waste containers, 15.5ms\n",
            "video 1/1 (frame 24/544) /content/drive/MyDrive/3768535699-preview (1).mp4: 384x640 2 Waste containers, 7.8ms\n",
            "video 1/1 (frame 25/544) /content/drive/MyDrive/3768535699-preview (1).mp4: 384x640 2 Waste containers, 6.5ms\n",
            "video 1/1 (frame 26/544) /content/drive/MyDrive/3768535699-preview (1).mp4: 384x640 2 Waste containers, 6.5ms\n",
            "video 1/1 (frame 27/544) /content/drive/MyDrive/3768535699-preview (1).mp4: 384x640 2 Waste containers, 6.6ms\n",
            "video 1/1 (frame 28/544) /content/drive/MyDrive/3768535699-preview (1).mp4: 384x640 2 Waste containers, 6.6ms\n",
            "video 1/1 (frame 29/544) /content/drive/MyDrive/3768535699-preview (1).mp4: 384x640 2 Waste containers, 6.1ms\n",
            "video 1/1 (frame 30/544) /content/drive/MyDrive/3768535699-preview (1).mp4: 384x640 2 Waste containers, 6.5ms\n",
            "video 1/1 (frame 31/544) /content/drive/MyDrive/3768535699-preview (1).mp4: 384x640 2 Waste containers, 6.3ms\n",
            "video 1/1 (frame 32/544) /content/drive/MyDrive/3768535699-preview (1).mp4: 384x640 2 Waste containers, 8.1ms\n",
            "video 1/1 (frame 33/544) /content/drive/MyDrive/3768535699-preview (1).mp4: 384x640 2 Waste containers, 6.1ms\n",
            "video 1/1 (frame 34/544) /content/drive/MyDrive/3768535699-preview (1).mp4: 384x640 2 Waste containers, 6.1ms\n",
            "video 1/1 (frame 35/544) /content/drive/MyDrive/3768535699-preview (1).mp4: 384x640 2 Waste containers, 6.1ms\n",
            "video 1/1 (frame 36/544) /content/drive/MyDrive/3768535699-preview (1).mp4: 384x640 2 Waste containers, 8.0ms\n",
            "video 1/1 (frame 37/544) /content/drive/MyDrive/3768535699-preview (1).mp4: 384x640 2 Waste containers, 6.7ms\n",
            "video 1/1 (frame 38/544) /content/drive/MyDrive/3768535699-preview (1).mp4: 384x640 2 Waste containers, 6.5ms\n",
            "video 1/1 (frame 39/544) /content/drive/MyDrive/3768535699-preview (1).mp4: 384x640 2 Waste containers, 6.3ms\n",
            "video 1/1 (frame 40/544) /content/drive/MyDrive/3768535699-preview (1).mp4: 384x640 2 Waste containers, 6.6ms\n",
            "video 1/1 (frame 41/544) /content/drive/MyDrive/3768535699-preview (1).mp4: 384x640 2 Waste containers, 7.0ms\n",
            "video 1/1 (frame 42/544) /content/drive/MyDrive/3768535699-preview (1).mp4: 384x640 2 Waste containers, 6.7ms\n",
            "video 1/1 (frame 43/544) /content/drive/MyDrive/3768535699-preview (1).mp4: 384x640 2 Waste containers, 6.4ms\n",
            "video 1/1 (frame 44/544) /content/drive/MyDrive/3768535699-preview (1).mp4: 384x640 2 Waste containers, 6.3ms\n",
            "video 1/1 (frame 45/544) /content/drive/MyDrive/3768535699-preview (1).mp4: 384x640 2 Waste containers, 6.2ms\n",
            "video 1/1 (frame 46/544) /content/drive/MyDrive/3768535699-preview (1).mp4: 384x640 2 Waste containers, 6.2ms\n",
            "video 1/1 (frame 47/544) /content/drive/MyDrive/3768535699-preview (1).mp4: 384x640 2 Waste containers, 6.0ms\n",
            "video 1/1 (frame 48/544) /content/drive/MyDrive/3768535699-preview (1).mp4: 384x640 2 Waste containers, 6.9ms\n",
            "video 1/1 (frame 49/544) /content/drive/MyDrive/3768535699-preview (1).mp4: 384x640 2 Waste containers, 6.0ms\n",
            "video 1/1 (frame 50/544) /content/drive/MyDrive/3768535699-preview (1).mp4: 384x640 2 Waste containers, 6.4ms\n",
            "video 1/1 (frame 51/544) /content/drive/MyDrive/3768535699-preview (1).mp4: 384x640 2 Waste containers, 9.2ms\n",
            "video 1/1 (frame 52/544) /content/drive/MyDrive/3768535699-preview (1).mp4: 384x640 2 Waste containers, 6.6ms\n",
            "video 1/1 (frame 53/544) /content/drive/MyDrive/3768535699-preview (1).mp4: 384x640 2 Waste containers, 6.6ms\n",
            "video 1/1 (frame 54/544) /content/drive/MyDrive/3768535699-preview (1).mp4: 384x640 2 Waste containers, 6.6ms\n",
            "video 1/1 (frame 55/544) /content/drive/MyDrive/3768535699-preview (1).mp4: 384x640 2 Waste containers, 6.4ms\n",
            "video 1/1 (frame 56/544) /content/drive/MyDrive/3768535699-preview (1).mp4: 384x640 2 Waste containers, 6.3ms\n",
            "video 1/1 (frame 57/544) /content/drive/MyDrive/3768535699-preview (1).mp4: 384x640 2 Waste containers, 6.4ms\n",
            "video 1/1 (frame 58/544) /content/drive/MyDrive/3768535699-preview (1).mp4: 384x640 2 Waste containers, 7.1ms\n",
            "video 1/1 (frame 59/544) /content/drive/MyDrive/3768535699-preview (1).mp4: 384x640 2 Waste containers, 6.2ms\n",
            "video 1/1 (frame 60/544) /content/drive/MyDrive/3768535699-preview (1).mp4: 384x640 2 Waste containers, 6.8ms\n",
            "video 1/1 (frame 61/544) /content/drive/MyDrive/3768535699-preview (1).mp4: 384x640 2 Waste containers, 6.0ms\n",
            "video 1/1 (frame 62/544) /content/drive/MyDrive/3768535699-preview (1).mp4: 384x640 2 Waste containers, 6.1ms\n",
            "video 1/1 (frame 63/544) /content/drive/MyDrive/3768535699-preview (1).mp4: 384x640 2 Waste containers, 6.3ms\n",
            "video 1/1 (frame 64/544) /content/drive/MyDrive/3768535699-preview (1).mp4: 384x640 2 Waste containers, 6.1ms\n",
            "video 1/1 (frame 65/544) /content/drive/MyDrive/3768535699-preview (1).mp4: 384x640 2 Waste containers, 6.3ms\n",
            "video 1/1 (frame 66/544) /content/drive/MyDrive/3768535699-preview (1).mp4: 384x640 2 Waste containers, 6.1ms\n",
            "video 1/1 (frame 67/544) /content/drive/MyDrive/3768535699-preview (1).mp4: 384x640 2 Waste containers, 6.5ms\n",
            "video 1/1 (frame 68/544) /content/drive/MyDrive/3768535699-preview (1).mp4: 384x640 2 Waste containers, 6.1ms\n",
            "video 1/1 (frame 69/544) /content/drive/MyDrive/3768535699-preview (1).mp4: 384x640 2 Waste containers, 7.2ms\n",
            "video 1/1 (frame 70/544) /content/drive/MyDrive/3768535699-preview (1).mp4: 384x640 2 Waste containers, 6.1ms\n",
            "video 1/1 (frame 71/544) /content/drive/MyDrive/3768535699-preview (1).mp4: 384x640 2 Waste containers, 11.1ms\n",
            "video 1/1 (frame 72/544) /content/drive/MyDrive/3768535699-preview (1).mp4: 384x640 2 Waste containers, 10.9ms\n",
            "video 1/1 (frame 73/544) /content/drive/MyDrive/3768535699-preview (1).mp4: 384x640 1 Waste container, 6.3ms\n",
            "video 1/1 (frame 74/544) /content/drive/MyDrive/3768535699-preview (1).mp4: 384x640 1 Waste container, 6.4ms\n",
            "video 1/1 (frame 75/544) /content/drive/MyDrive/3768535699-preview (1).mp4: 384x640 1 Waste container, 6.1ms\n",
            "video 1/1 (frame 76/544) /content/drive/MyDrive/3768535699-preview (1).mp4: 384x640 2 Waste containers, 6.1ms\n",
            "video 1/1 (frame 77/544) /content/drive/MyDrive/3768535699-preview (1).mp4: 384x640 2 Waste containers, 6.1ms\n",
            "video 1/1 (frame 78/544) /content/drive/MyDrive/3768535699-preview (1).mp4: 384x640 2 Waste containers, 7.8ms\n",
            "video 1/1 (frame 79/544) /content/drive/MyDrive/3768535699-preview (1).mp4: 384x640 2 Waste containers, 6.2ms\n",
            "video 1/1 (frame 80/544) /content/drive/MyDrive/3768535699-preview (1).mp4: 384x640 2 Waste containers, 7.9ms\n",
            "video 1/1 (frame 81/544) /content/drive/MyDrive/3768535699-preview (1).mp4: 384x640 2 Waste containers, 6.5ms\n",
            "video 1/1 (frame 82/544) /content/drive/MyDrive/3768535699-preview (1).mp4: 384x640 2 Waste containers, 6.6ms\n",
            "video 1/1 (frame 83/544) /content/drive/MyDrive/3768535699-preview (1).mp4: 384x640 2 Waste containers, 7.6ms\n",
            "video 1/1 (frame 84/544) /content/drive/MyDrive/3768535699-preview (1).mp4: 384x640 2 Waste containers, 7.2ms\n",
            "video 1/1 (frame 85/544) /content/drive/MyDrive/3768535699-preview (1).mp4: 384x640 2 Waste containers, 6.8ms\n",
            "video 1/1 (frame 86/544) /content/drive/MyDrive/3768535699-preview (1).mp4: 384x640 2 Waste containers, 6.2ms\n",
            "video 1/1 (frame 87/544) /content/drive/MyDrive/3768535699-preview (1).mp4: 384x640 2 Waste containers, 6.5ms\n",
            "video 1/1 (frame 88/544) /content/drive/MyDrive/3768535699-preview (1).mp4: 384x640 2 Waste containers, 6.1ms\n",
            "video 1/1 (frame 89/544) /content/drive/MyDrive/3768535699-preview (1).mp4: 384x640 2 Waste containers, 6.2ms\n",
            "video 1/1 (frame 90/544) /content/drive/MyDrive/3768535699-preview (1).mp4: 384x640 2 Waste containers, 6.0ms\n",
            "video 1/1 (frame 91/544) /content/drive/MyDrive/3768535699-preview (1).mp4: 384x640 2 Waste containers, 6.0ms\n",
            "video 1/1 (frame 92/544) /content/drive/MyDrive/3768535699-preview (1).mp4: 384x640 2 Waste containers, 10.9ms\n",
            "video 1/1 (frame 93/544) /content/drive/MyDrive/3768535699-preview (1).mp4: 384x640 2 Waste containers, 11.6ms\n",
            "video 1/1 (frame 94/544) /content/drive/MyDrive/3768535699-preview (1).mp4: 384x640 2 Waste containers, 10.3ms\n",
            "video 1/1 (frame 95/544) /content/drive/MyDrive/3768535699-preview (1).mp4: 384x640 2 Waste containers, 12.4ms\n",
            "video 1/1 (frame 96/544) /content/drive/MyDrive/3768535699-preview (1).mp4: 384x640 2 Waste containers, 13.2ms\n",
            "video 1/1 (frame 97/544) /content/drive/MyDrive/3768535699-preview (1).mp4: 384x640 2 Waste containers, 8.2ms\n",
            "video 1/1 (frame 98/544) /content/drive/MyDrive/3768535699-preview (1).mp4: 384x640 2 Waste containers, 9.6ms\n",
            "video 1/1 (frame 99/544) /content/drive/MyDrive/3768535699-preview (1).mp4: 384x640 3 Waste containers, 7.8ms\n",
            "video 1/1 (frame 100/544) /content/drive/MyDrive/3768535699-preview (1).mp4: 384x640 2 Waste containers, 11.5ms\n",
            "video 1/1 (frame 101/544) /content/drive/MyDrive/3768535699-preview (1).mp4: 384x640 2 Waste containers, 11.1ms\n",
            "video 1/1 (frame 102/544) /content/drive/MyDrive/3768535699-preview (1).mp4: 384x640 1 Waste container, 10.7ms\n",
            "video 1/1 (frame 103/544) /content/drive/MyDrive/3768535699-preview (1).mp4: 384x640 1 Waste container, 8.1ms\n",
            "video 1/1 (frame 104/544) /content/drive/MyDrive/3768535699-preview (1).mp4: 384x640 1 Waste container, 8.6ms\n",
            "video 1/1 (frame 105/544) /content/drive/MyDrive/3768535699-preview (1).mp4: 384x640 2 Waste containers, 8.0ms\n",
            "video 1/1 (frame 106/544) /content/drive/MyDrive/3768535699-preview (1).mp4: 384x640 2 Waste containers, 8.4ms\n",
            "video 1/1 (frame 107/544) /content/drive/MyDrive/3768535699-preview (1).mp4: 384x640 2 Waste containers, 8.4ms\n",
            "video 1/1 (frame 108/544) /content/drive/MyDrive/3768535699-preview (1).mp4: 384x640 2 Waste containers, 11.4ms\n",
            "video 1/1 (frame 109/544) /content/drive/MyDrive/3768535699-preview (1).mp4: 384x640 2 Waste containers, 10.0ms\n",
            "video 1/1 (frame 110/544) /content/drive/MyDrive/3768535699-preview (1).mp4: 384x640 2 Waste containers, 7.9ms\n",
            "video 1/1 (frame 111/544) /content/drive/MyDrive/3768535699-preview (1).mp4: 384x640 2 Waste containers, 11.7ms\n",
            "video 1/1 (frame 112/544) /content/drive/MyDrive/3768535699-preview (1).mp4: 384x640 2 Waste containers, 8.1ms\n",
            "video 1/1 (frame 113/544) /content/drive/MyDrive/3768535699-preview (1).mp4: 384x640 2 Waste containers, 10.2ms\n",
            "video 1/1 (frame 114/544) /content/drive/MyDrive/3768535699-preview (1).mp4: 384x640 2 Waste containers, 10.3ms\n",
            "video 1/1 (frame 115/544) /content/drive/MyDrive/3768535699-preview (1).mp4: 384x640 2 Waste containers, 9.0ms\n",
            "video 1/1 (frame 116/544) /content/drive/MyDrive/3768535699-preview (1).mp4: 384x640 2 Waste containers, 9.4ms\n",
            "video 1/1 (frame 117/544) /content/drive/MyDrive/3768535699-preview (1).mp4: 384x640 2 Waste containers, 17.3ms\n",
            "video 1/1 (frame 118/544) /content/drive/MyDrive/3768535699-preview (1).mp4: 384x640 2 Waste containers, 18.1ms\n",
            "video 1/1 (frame 119/544) /content/drive/MyDrive/3768535699-preview (1).mp4: 384x640 2 Waste containers, 14.8ms\n",
            "video 1/1 (frame 120/544) /content/drive/MyDrive/3768535699-preview (1).mp4: 384x640 2 Waste containers, 20.6ms\n",
            "video 1/1 (frame 121/544) /content/drive/MyDrive/3768535699-preview (1).mp4: 384x640 2 Waste containers, 19.5ms\n",
            "video 1/1 (frame 122/544) /content/drive/MyDrive/3768535699-preview (1).mp4: 384x640 2 Waste containers, 23.9ms\n",
            "video 1/1 (frame 123/544) /content/drive/MyDrive/3768535699-preview (1).mp4: 384x640 2 Waste containers, 20.2ms\n",
            "video 1/1 (frame 124/544) /content/drive/MyDrive/3768535699-preview (1).mp4: 384x640 2 Waste containers, 10.3ms\n",
            "video 1/1 (frame 125/544) /content/drive/MyDrive/3768535699-preview (1).mp4: 384x640 2 Waste containers, 12.4ms\n",
            "video 1/1 (frame 126/544) /content/drive/MyDrive/3768535699-preview (1).mp4: 384x640 2 Waste containers, 11.7ms\n",
            "video 1/1 (frame 127/544) /content/drive/MyDrive/3768535699-preview (1).mp4: 384x640 2 Waste containers, 11.0ms\n",
            "video 1/1 (frame 128/544) /content/drive/MyDrive/3768535699-preview (1).mp4: 384x640 2 Waste containers, 19.6ms\n",
            "video 1/1 (frame 129/544) /content/drive/MyDrive/3768535699-preview (1).mp4: 384x640 2 Waste containers, 12.2ms\n",
            "video 1/1 (frame 130/544) /content/drive/MyDrive/3768535699-preview (1).mp4: 384x640 2 Waste containers, 13.2ms\n",
            "video 1/1 (frame 131/544) /content/drive/MyDrive/3768535699-preview (1).mp4: 384x640 2 Waste containers, 13.3ms\n",
            "video 1/1 (frame 132/544) /content/drive/MyDrive/3768535699-preview (1).mp4: 384x640 2 Waste containers, 12.3ms\n",
            "video 1/1 (frame 133/544) /content/drive/MyDrive/3768535699-preview (1).mp4: 384x640 2 Waste containers, 12.8ms\n",
            "video 1/1 (frame 134/544) /content/drive/MyDrive/3768535699-preview (1).mp4: 384x640 2 Waste containers, 18.1ms\n",
            "video 1/1 (frame 135/544) /content/drive/MyDrive/3768535699-preview (1).mp4: 384x640 2 Waste containers, 10.2ms\n",
            "video 1/1 (frame 136/544) /content/drive/MyDrive/3768535699-preview (1).mp4: 384x640 2 Waste containers, 9.2ms\n",
            "video 1/1 (frame 137/544) /content/drive/MyDrive/3768535699-preview (1).mp4: 384x640 2 Waste containers, 10.7ms\n",
            "video 1/1 (frame 138/544) /content/drive/MyDrive/3768535699-preview (1).mp4: 384x640 2 Waste containers, 8.3ms\n",
            "video 1/1 (frame 139/544) /content/drive/MyDrive/3768535699-preview (1).mp4: 384x640 2 Waste containers, 11.6ms\n",
            "video 1/1 (frame 140/544) /content/drive/MyDrive/3768535699-preview (1).mp4: 384x640 2 Waste containers, 10.6ms\n",
            "video 1/1 (frame 141/544) /content/drive/MyDrive/3768535699-preview (1).mp4: 384x640 2 Waste containers, 9.2ms\n",
            "video 1/1 (frame 142/544) /content/drive/MyDrive/3768535699-preview (1).mp4: 384x640 2 Waste containers, 8.6ms\n",
            "video 1/1 (frame 143/544) /content/drive/MyDrive/3768535699-preview (1).mp4: 384x640 2 Waste containers, 9.9ms\n",
            "video 1/1 (frame 144/544) /content/drive/MyDrive/3768535699-preview (1).mp4: 384x640 2 Waste containers, 8.0ms\n",
            "video 1/1 (frame 145/544) /content/drive/MyDrive/3768535699-preview (1).mp4: 384x640 2 Waste containers, 11.5ms\n",
            "video 1/1 (frame 146/544) /content/drive/MyDrive/3768535699-preview (1).mp4: 384x640 2 Waste containers, 8.5ms\n",
            "video 1/1 (frame 147/544) /content/drive/MyDrive/3768535699-preview (1).mp4: 384x640 2 Waste containers, 8.8ms\n",
            "video 1/1 (frame 148/544) /content/drive/MyDrive/3768535699-preview (1).mp4: 384x640 2 Waste containers, 11.7ms\n",
            "video 1/1 (frame 149/544) /content/drive/MyDrive/3768535699-preview (1).mp4: 384x640 2 Waste containers, 8.5ms\n",
            "video 1/1 (frame 150/544) /content/drive/MyDrive/3768535699-preview (1).mp4: 384x640 2 Waste containers, 8.3ms\n",
            "video 1/1 (frame 151/544) /content/drive/MyDrive/3768535699-preview (1).mp4: 384x640 2 Waste containers, 10.3ms\n",
            "video 1/1 (frame 152/544) /content/drive/MyDrive/3768535699-preview (1).mp4: 384x640 2 Waste containers, 8.9ms\n",
            "video 1/1 (frame 153/544) /content/drive/MyDrive/3768535699-preview (1).mp4: 384x640 2 Waste containers, 7.5ms\n",
            "video 1/1 (frame 154/544) /content/drive/MyDrive/3768535699-preview (1).mp4: 384x640 2 Waste containers, 7.5ms\n",
            "video 1/1 (frame 155/544) /content/drive/MyDrive/3768535699-preview (1).mp4: 384x640 2 Waste containers, 8.4ms\n",
            "video 1/1 (frame 156/544) /content/drive/MyDrive/3768535699-preview (1).mp4: 384x640 2 Waste containers, 7.7ms\n",
            "video 1/1 (frame 157/544) /content/drive/MyDrive/3768535699-preview (1).mp4: 384x640 2 Waste containers, 10.7ms\n",
            "video 1/1 (frame 158/544) /content/drive/MyDrive/3768535699-preview (1).mp4: 384x640 2 Waste containers, 7.5ms\n",
            "video 1/1 (frame 159/544) /content/drive/MyDrive/3768535699-preview (1).mp4: 384x640 2 Waste containers, 7.9ms\n",
            "video 1/1 (frame 160/544) /content/drive/MyDrive/3768535699-preview (1).mp4: 384x640 2 Waste containers, 8.1ms\n",
            "video 1/1 (frame 161/544) /content/drive/MyDrive/3768535699-preview (1).mp4: 384x640 2 Waste containers, 7.4ms\n",
            "video 1/1 (frame 162/544) /content/drive/MyDrive/3768535699-preview (1).mp4: 384x640 2 Waste containers, 7.6ms\n",
            "video 1/1 (frame 163/544) /content/drive/MyDrive/3768535699-preview (1).mp4: 384x640 2 Waste containers, 7.5ms\n",
            "video 1/1 (frame 164/544) /content/drive/MyDrive/3768535699-preview (1).mp4: 384x640 2 Waste containers, 7.6ms\n",
            "video 1/1 (frame 165/544) /content/drive/MyDrive/3768535699-preview (1).mp4: 384x640 2 Waste containers, 7.4ms\n",
            "video 1/1 (frame 166/544) /content/drive/MyDrive/3768535699-preview (1).mp4: 384x640 2 Waste containers, 7.5ms\n",
            "video 1/1 (frame 167/544) /content/drive/MyDrive/3768535699-preview (1).mp4: 384x640 2 Waste containers, 9.7ms\n",
            "video 1/1 (frame 168/544) /content/drive/MyDrive/3768535699-preview (1).mp4: 384x640 2 Waste containers, 7.5ms\n",
            "video 1/1 (frame 169/544) /content/drive/MyDrive/3768535699-preview (1).mp4: 384x640 2 Waste containers, 9.5ms\n",
            "video 1/1 (frame 170/544) /content/drive/MyDrive/3768535699-preview (1).mp4: 384x640 2 Waste containers, 11.5ms\n",
            "video 1/1 (frame 171/544) /content/drive/MyDrive/3768535699-preview (1).mp4: 384x640 2 Waste containers, 11.1ms\n",
            "video 1/1 (frame 172/544) /content/drive/MyDrive/3768535699-preview (1).mp4: 384x640 2 Waste containers, 8.4ms\n",
            "video 1/1 (frame 173/544) /content/drive/MyDrive/3768535699-preview (1).mp4: 384x640 2 Waste containers, 9.3ms\n",
            "video 1/1 (frame 174/544) /content/drive/MyDrive/3768535699-preview (1).mp4: 384x640 2 Waste containers, 9.4ms\n",
            "video 1/1 (frame 175/544) /content/drive/MyDrive/3768535699-preview (1).mp4: 384x640 1 Waste container, 8.9ms\n",
            "video 1/1 (frame 176/544) /content/drive/MyDrive/3768535699-preview (1).mp4: 384x640 1 Waste container, 11.3ms\n",
            "video 1/1 (frame 177/544) /content/drive/MyDrive/3768535699-preview (1).mp4: 384x640 1 Waste container, 13.9ms\n",
            "video 1/1 (frame 178/544) /content/drive/MyDrive/3768535699-preview (1).mp4: 384x640 1 Waste container, 13.7ms\n",
            "video 1/1 (frame 179/544) /content/drive/MyDrive/3768535699-preview (1).mp4: 384x640 1 Waste container, 8.1ms\n",
            "video 1/1 (frame 180/544) /content/drive/MyDrive/3768535699-preview (1).mp4: 384x640 2 Waste containers, 9.7ms\n",
            "video 1/1 (frame 181/544) /content/drive/MyDrive/3768535699-preview (1).mp4: 384x640 2 Waste containers, 8.9ms\n",
            "video 1/1 (frame 182/544) /content/drive/MyDrive/3768535699-preview (1).mp4: 384x640 2 Waste containers, 11.5ms\n",
            "video 1/1 (frame 183/544) /content/drive/MyDrive/3768535699-preview (1).mp4: 384x640 1 Waste container, 13.3ms\n",
            "video 1/1 (frame 184/544) /content/drive/MyDrive/3768535699-preview (1).mp4: 384x640 1 Waste container, 11.5ms\n",
            "video 1/1 (frame 185/544) /content/drive/MyDrive/3768535699-preview (1).mp4: 384x640 1 Waste container, 12.3ms\n",
            "video 1/1 (frame 186/544) /content/drive/MyDrive/3768535699-preview (1).mp4: 384x640 1 Waste container, 12.7ms\n",
            "video 1/1 (frame 187/544) /content/drive/MyDrive/3768535699-preview (1).mp4: 384x640 1 Waste container, 12.2ms\n",
            "video 1/1 (frame 188/544) /content/drive/MyDrive/3768535699-preview (1).mp4: 384x640 1 Waste container, 27.1ms\n",
            "video 1/1 (frame 189/544) /content/drive/MyDrive/3768535699-preview (1).mp4: 384x640 1 Waste container, 36.4ms\n",
            "video 1/1 (frame 190/544) /content/drive/MyDrive/3768535699-preview (1).mp4: 384x640 1 Waste container, 124.5ms\n",
            "video 1/1 (frame 191/544) /content/drive/MyDrive/3768535699-preview (1).mp4: 384x640 1 Waste container, 6.4ms\n",
            "video 1/1 (frame 192/544) /content/drive/MyDrive/3768535699-preview (1).mp4: 384x640 1 Waste container, 6.5ms\n",
            "video 1/1 (frame 193/544) /content/drive/MyDrive/3768535699-preview (1).mp4: 384x640 1 Waste container, 7.9ms\n",
            "video 1/1 (frame 194/544) /content/drive/MyDrive/3768535699-preview (1).mp4: 384x640 1 Waste container, 8.1ms\n",
            "video 1/1 (frame 195/544) /content/drive/MyDrive/3768535699-preview (1).mp4: 384x640 1 Waste container, 6.3ms\n",
            "video 1/1 (frame 196/544) /content/drive/MyDrive/3768535699-preview (1).mp4: 384x640 1 Waste container, 6.5ms\n",
            "video 1/1 (frame 197/544) /content/drive/MyDrive/3768535699-preview (1).mp4: 384x640 1 Waste container, 10.8ms\n",
            "video 1/1 (frame 198/544) /content/drive/MyDrive/3768535699-preview (1).mp4: 384x640 1 Waste container, 8.2ms\n",
            "video 1/1 (frame 199/544) /content/drive/MyDrive/3768535699-preview (1).mp4: 384x640 1 Waste container, 7.3ms\n",
            "video 1/1 (frame 200/544) /content/drive/MyDrive/3768535699-preview (1).mp4: 384x640 1 Waste container, 6.7ms\n",
            "video 1/1 (frame 201/544) /content/drive/MyDrive/3768535699-preview (1).mp4: 384x640 1 Waste container, 6.7ms\n",
            "video 1/1 (frame 202/544) /content/drive/MyDrive/3768535699-preview (1).mp4: 384x640 2 Waste containers, 7.9ms\n",
            "video 1/1 (frame 203/544) /content/drive/MyDrive/3768535699-preview (1).mp4: 384x640 1 Waste container, 6.3ms\n",
            "video 1/1 (frame 204/544) /content/drive/MyDrive/3768535699-preview (1).mp4: 384x640 2 Waste containers, 7.3ms\n",
            "video 1/1 (frame 205/544) /content/drive/MyDrive/3768535699-preview (1).mp4: 384x640 1 Waste container, 6.3ms\n",
            "video 1/1 (frame 206/544) /content/drive/MyDrive/3768535699-preview (1).mp4: 384x640 1 Waste container, 6.5ms\n",
            "video 1/1 (frame 207/544) /content/drive/MyDrive/3768535699-preview (1).mp4: 384x640 2 Waste containers, 6.4ms\n",
            "video 1/1 (frame 208/544) /content/drive/MyDrive/3768535699-preview (1).mp4: 384x640 1 Waste container, 6.2ms\n",
            "video 1/1 (frame 209/544) /content/drive/MyDrive/3768535699-preview (1).mp4: 384x640 3 Waste containers, 6.5ms\n",
            "video 1/1 (frame 210/544) /content/drive/MyDrive/3768535699-preview (1).mp4: 384x640 1 Waste container, 6.3ms\n",
            "video 1/1 (frame 211/544) /content/drive/MyDrive/3768535699-preview (1).mp4: 384x640 1 Waste container, 6.0ms\n",
            "video 1/1 (frame 212/544) /content/drive/MyDrive/3768535699-preview (1).mp4: 384x640 2 Waste containers, 6.1ms\n",
            "video 1/1 (frame 213/544) /content/drive/MyDrive/3768535699-preview (1).mp4: 384x640 2 Waste containers, 6.0ms\n",
            "video 1/1 (frame 214/544) /content/drive/MyDrive/3768535699-preview (1).mp4: 384x640 1 Waste container, 7.4ms\n",
            "video 1/1 (frame 215/544) /content/drive/MyDrive/3768535699-preview (1).mp4: 384x640 1 Waste container, 6.4ms\n",
            "video 1/1 (frame 216/544) /content/drive/MyDrive/3768535699-preview (1).mp4: 384x640 1 Waste container, 8.8ms\n",
            "video 1/1 (frame 217/544) /content/drive/MyDrive/3768535699-preview (1).mp4: 384x640 1 Waste container, 6.5ms\n",
            "video 1/1 (frame 218/544) /content/drive/MyDrive/3768535699-preview (1).mp4: 384x640 1 Waste container, 7.5ms\n",
            "video 1/1 (frame 219/544) /content/drive/MyDrive/3768535699-preview (1).mp4: 384x640 1 Waste container, 6.7ms\n",
            "video 1/1 (frame 220/544) /content/drive/MyDrive/3768535699-preview (1).mp4: 384x640 1 Waste container, 6.5ms\n",
            "video 1/1 (frame 221/544) /content/drive/MyDrive/3768535699-preview (1).mp4: 384x640 1 Waste container, 6.3ms\n",
            "video 1/1 (frame 222/544) /content/drive/MyDrive/3768535699-preview (1).mp4: 384x640 1 Waste container, 9.9ms\n",
            "video 1/1 (frame 223/544) /content/drive/MyDrive/3768535699-preview (1).mp4: 384x640 1 Waste container, 7.3ms\n",
            "video 1/1 (frame 224/544) /content/drive/MyDrive/3768535699-preview (1).mp4: 384x640 1 Waste container, 10.2ms\n",
            "video 1/1 (frame 225/544) /content/drive/MyDrive/3768535699-preview (1).mp4: 384x640 1 Waste container, 6.3ms\n",
            "video 1/1 (frame 226/544) /content/drive/MyDrive/3768535699-preview (1).mp4: 384x640 1 Waste container, 6.8ms\n",
            "video 1/1 (frame 227/544) /content/drive/MyDrive/3768535699-preview (1).mp4: 384x640 1 Waste container, 7.0ms\n",
            "video 1/1 (frame 228/544) /content/drive/MyDrive/3768535699-preview (1).mp4: 384x640 1 Waste container, 6.3ms\n",
            "video 1/1 (frame 229/544) /content/drive/MyDrive/3768535699-preview (1).mp4: 384x640 1 Waste container, 6.3ms\n",
            "video 1/1 (frame 230/544) /content/drive/MyDrive/3768535699-preview (1).mp4: 384x640 1 Waste container, 6.1ms\n",
            "video 1/1 (frame 231/544) /content/drive/MyDrive/3768535699-preview (1).mp4: 384x640 1 Waste container, 6.3ms\n",
            "video 1/1 (frame 232/544) /content/drive/MyDrive/3768535699-preview (1).mp4: 384x640 1 Waste container, 6.1ms\n",
            "video 1/1 (frame 233/544) /content/drive/MyDrive/3768535699-preview (1).mp4: 384x640 1 Waste container, 6.4ms\n",
            "video 1/1 (frame 234/544) /content/drive/MyDrive/3768535699-preview (1).mp4: 384x640 1 Waste container, 6.3ms\n",
            "video 1/1 (frame 235/544) /content/drive/MyDrive/3768535699-preview (1).mp4: 384x640 1 Waste container, 6.2ms\n",
            "video 1/1 (frame 236/544) /content/drive/MyDrive/3768535699-preview (1).mp4: 384x640 1 Waste container, 6.2ms\n",
            "video 1/1 (frame 237/544) /content/drive/MyDrive/3768535699-preview (1).mp4: 384x640 1 Waste container, 6.7ms\n",
            "video 1/1 (frame 238/544) /content/drive/MyDrive/3768535699-preview (1).mp4: 384x640 1 Waste container, 6.6ms\n",
            "video 1/1 (frame 239/544) /content/drive/MyDrive/3768535699-preview (1).mp4: 384x640 1 Waste container, 11.8ms\n",
            "video 1/1 (frame 240/544) /content/drive/MyDrive/3768535699-preview (1).mp4: 384x640 1 Waste container, 7.6ms\n",
            "video 1/1 (frame 241/544) /content/drive/MyDrive/3768535699-preview (1).mp4: 384x640 1 Waste container, 6.3ms\n",
            "video 1/1 (frame 242/544) /content/drive/MyDrive/3768535699-preview (1).mp4: 384x640 1 Waste container, 22.7ms\n",
            "video 1/1 (frame 243/544) /content/drive/MyDrive/3768535699-preview (1).mp4: 384x640 1 Waste container, 6.4ms\n",
            "video 1/1 (frame 244/544) /content/drive/MyDrive/3768535699-preview (1).mp4: 384x640 1 Waste container, 6.8ms\n",
            "video 1/1 (frame 245/544) /content/drive/MyDrive/3768535699-preview (1).mp4: 384x640 1 Waste container, 7.6ms\n",
            "video 1/1 (frame 246/544) /content/drive/MyDrive/3768535699-preview (1).mp4: 384x640 1 Waste container, 6.5ms\n",
            "video 1/1 (frame 247/544) /content/drive/MyDrive/3768535699-preview (1).mp4: 384x640 1 Waste container, 7.7ms\n",
            "video 1/1 (frame 248/544) /content/drive/MyDrive/3768535699-preview (1).mp4: 384x640 1 Waste container, 8.1ms\n",
            "video 1/1 (frame 249/544) /content/drive/MyDrive/3768535699-preview (1).mp4: 384x640 1 Waste container, 6.5ms\n",
            "video 1/1 (frame 250/544) /content/drive/MyDrive/3768535699-preview (1).mp4: 384x640 1 Waste container, 11.3ms\n",
            "video 1/1 (frame 251/544) /content/drive/MyDrive/3768535699-preview (1).mp4: 384x640 1 Waste container, 11.7ms\n",
            "video 1/1 (frame 252/544) /content/drive/MyDrive/3768535699-preview (1).mp4: 384x640 1 Waste container, 7.1ms\n",
            "video 1/1 (frame 253/544) /content/drive/MyDrive/3768535699-preview (1).mp4: 384x640 1 Waste container, 6.3ms\n",
            "video 1/1 (frame 254/544) /content/drive/MyDrive/3768535699-preview (1).mp4: 384x640 1 Waste container, 6.5ms\n",
            "video 1/1 (frame 255/544) /content/drive/MyDrive/3768535699-preview (1).mp4: 384x640 1 Waste container, 7.0ms\n",
            "video 1/1 (frame 256/544) /content/drive/MyDrive/3768535699-preview (1).mp4: 384x640 1 Waste container, 10.4ms\n",
            "video 1/1 (frame 257/544) /content/drive/MyDrive/3768535699-preview (1).mp4: 384x640 1 Waste container, 9.0ms\n",
            "video 1/1 (frame 258/544) /content/drive/MyDrive/3768535699-preview (1).mp4: 384x640 1 Waste container, 6.3ms\n",
            "video 1/1 (frame 259/544) /content/drive/MyDrive/3768535699-preview (1).mp4: 384x640 1 Waste container, 6.1ms\n",
            "video 1/1 (frame 260/544) /content/drive/MyDrive/3768535699-preview (1).mp4: 384x640 1 Waste container, 6.3ms\n",
            "video 1/1 (frame 261/544) /content/drive/MyDrive/3768535699-preview (1).mp4: 384x640 1 Waste container, 6.0ms\n",
            "video 1/1 (frame 262/544) /content/drive/MyDrive/3768535699-preview (1).mp4: 384x640 1 Waste container, 6.2ms\n",
            "video 1/1 (frame 263/544) /content/drive/MyDrive/3768535699-preview (1).mp4: 384x640 1 Waste container, 5.9ms\n",
            "video 1/1 (frame 264/544) /content/drive/MyDrive/3768535699-preview (1).mp4: 384x640 1 Waste container, 6.5ms\n",
            "video 1/1 (frame 265/544) /content/drive/MyDrive/3768535699-preview (1).mp4: 384x640 1 Waste container, 6.7ms\n",
            "video 1/1 (frame 266/544) /content/drive/MyDrive/3768535699-preview (1).mp4: 384x640 1 Waste container, 6.3ms\n",
            "video 1/1 (frame 267/544) /content/drive/MyDrive/3768535699-preview (1).mp4: 384x640 1 Waste container, 8.6ms\n",
            "video 1/1 (frame 268/544) /content/drive/MyDrive/3768535699-preview (1).mp4: 384x640 1 Waste container, 7.1ms\n",
            "video 1/1 (frame 269/544) /content/drive/MyDrive/3768535699-preview (1).mp4: 384x640 1 Waste container, 7.8ms\n",
            "video 1/1 (frame 270/544) /content/drive/MyDrive/3768535699-preview (1).mp4: 384x640 1 Waste container, 6.2ms\n",
            "video 1/1 (frame 271/544) /content/drive/MyDrive/3768535699-preview (1).mp4: 384x640 1 Waste container, 6.6ms\n",
            "video 1/1 (frame 272/544) /content/drive/MyDrive/3768535699-preview (1).mp4: 384x640 2 Waste containers, 6.1ms\n",
            "video 1/1 (frame 273/544) /content/drive/MyDrive/3768535699-preview (1).mp4: 384x640 2 Waste containers, 6.1ms\n",
            "video 1/1 (frame 274/544) /content/drive/MyDrive/3768535699-preview (1).mp4: 384x640 1 Waste container, 6.2ms\n",
            "video 1/1 (frame 275/544) /content/drive/MyDrive/3768535699-preview (1).mp4: 384x640 2 Waste containers, 6.2ms\n",
            "video 1/1 (frame 276/544) /content/drive/MyDrive/3768535699-preview (1).mp4: 384x640 2 Waste containers, 7.6ms\n",
            "video 1/1 (frame 277/544) /content/drive/MyDrive/3768535699-preview (1).mp4: 384x640 2 Waste containers, 9.1ms\n",
            "video 1/1 (frame 278/544) /content/drive/MyDrive/3768535699-preview (1).mp4: 384x640 2 Waste containers, 6.3ms\n",
            "video 1/1 (frame 279/544) /content/drive/MyDrive/3768535699-preview (1).mp4: 384x640 2 Waste containers, 6.6ms\n",
            "video 1/1 (frame 280/544) /content/drive/MyDrive/3768535699-preview (1).mp4: 384x640 1 Waste container, 6.7ms\n",
            "video 1/1 (frame 281/544) /content/drive/MyDrive/3768535699-preview (1).mp4: 384x640 1 Waste container, 12.3ms\n",
            "video 1/1 (frame 282/544) /content/drive/MyDrive/3768535699-preview (1).mp4: 384x640 1 Waste container, 7.4ms\n",
            "video 1/1 (frame 283/544) /content/drive/MyDrive/3768535699-preview (1).mp4: 384x640 1 Waste container, 11.8ms\n",
            "video 1/1 (frame 284/544) /content/drive/MyDrive/3768535699-preview (1).mp4: 384x640 1 Waste container, 7.2ms\n",
            "video 1/1 (frame 285/544) /content/drive/MyDrive/3768535699-preview (1).mp4: 384x640 1 Waste container, 6.6ms\n",
            "video 1/1 (frame 286/544) /content/drive/MyDrive/3768535699-preview (1).mp4: 384x640 1 Waste container, 6.6ms\n",
            "video 1/1 (frame 287/544) /content/drive/MyDrive/3768535699-preview (1).mp4: 384x640 1 Waste container, 7.1ms\n",
            "video 1/1 (frame 288/544) /content/drive/MyDrive/3768535699-preview (1).mp4: 384x640 1 Waste container, 6.4ms\n",
            "video 1/1 (frame 289/544) /content/drive/MyDrive/3768535699-preview (1).mp4: 384x640 1 Waste container, 6.1ms\n",
            "video 1/1 (frame 290/544) /content/drive/MyDrive/3768535699-preview (1).mp4: 384x640 1 Waste container, 6.5ms\n",
            "video 1/1 (frame 291/544) /content/drive/MyDrive/3768535699-preview (1).mp4: 384x640 1 Waste container, 6.2ms\n",
            "video 1/1 (frame 292/544) /content/drive/MyDrive/3768535699-preview (1).mp4: 384x640 1 Waste container, 6.1ms\n",
            "video 1/1 (frame 293/544) /content/drive/MyDrive/3768535699-preview (1).mp4: 384x640 1 Waste container, 6.3ms\n",
            "video 1/1 (frame 294/544) /content/drive/MyDrive/3768535699-preview (1).mp4: 384x640 1 Waste container, 6.4ms\n",
            "video 1/1 (frame 295/544) /content/drive/MyDrive/3768535699-preview (1).mp4: 384x640 1 Waste container, 6.3ms\n",
            "video 1/1 (frame 296/544) /content/drive/MyDrive/3768535699-preview (1).mp4: 384x640 1 Waste container, 6.2ms\n",
            "video 1/1 (frame 297/544) /content/drive/MyDrive/3768535699-preview (1).mp4: 384x640 1 Waste container, 6.1ms\n",
            "video 1/1 (frame 298/544) /content/drive/MyDrive/3768535699-preview (1).mp4: 384x640 1 Waste container, 6.0ms\n",
            "video 1/1 (frame 299/544) /content/drive/MyDrive/3768535699-preview (1).mp4: 384x640 1 Waste container, 6.7ms\n",
            "video 1/1 (frame 300/544) /content/drive/MyDrive/3768535699-preview (1).mp4: 384x640 1 Waste container, 6.8ms\n",
            "video 1/1 (frame 301/544) /content/drive/MyDrive/3768535699-preview (1).mp4: 384x640 1 Waste container, 6.3ms\n",
            "video 1/1 (frame 302/544) /content/drive/MyDrive/3768535699-preview (1).mp4: 384x640 1 Waste container, 6.2ms\n",
            "video 1/1 (frame 303/544) /content/drive/MyDrive/3768535699-preview (1).mp4: 384x640 1 Waste container, 6.2ms\n",
            "video 1/1 (frame 304/544) /content/drive/MyDrive/3768535699-preview (1).mp4: 384x640 1 Waste container, 11.3ms\n",
            "video 1/1 (frame 305/544) /content/drive/MyDrive/3768535699-preview (1).mp4: 384x640 1 Waste container, 8.6ms\n",
            "video 1/1 (frame 306/544) /content/drive/MyDrive/3768535699-preview (1).mp4: 384x640 1 Waste container, 6.4ms\n",
            "video 1/1 (frame 307/544) /content/drive/MyDrive/3768535699-preview (1).mp4: 384x640 1 Waste container, 6.2ms\n",
            "video 1/1 (frame 308/544) /content/drive/MyDrive/3768535699-preview (1).mp4: 384x640 1 Waste container, 6.0ms\n",
            "video 1/1 (frame 309/544) /content/drive/MyDrive/3768535699-preview (1).mp4: 384x640 1 Waste container, 8.5ms\n",
            "video 1/1 (frame 310/544) /content/drive/MyDrive/3768535699-preview (1).mp4: 384x640 1 Waste container, 6.3ms\n",
            "video 1/1 (frame 311/544) /content/drive/MyDrive/3768535699-preview (1).mp4: 384x640 1 Waste container, 8.4ms\n",
            "video 1/1 (frame 312/544) /content/drive/MyDrive/3768535699-preview (1).mp4: 384x640 1 Waste container, 6.5ms\n",
            "video 1/1 (frame 313/544) /content/drive/MyDrive/3768535699-preview (1).mp4: 384x640 1 Waste container, 6.3ms\n",
            "video 1/1 (frame 314/544) /content/drive/MyDrive/3768535699-preview (1).mp4: 384x640 1 Waste container, 6.2ms\n",
            "video 1/1 (frame 315/544) /content/drive/MyDrive/3768535699-preview (1).mp4: 384x640 1 Waste container, 6.0ms\n",
            "video 1/1 (frame 316/544) /content/drive/MyDrive/3768535699-preview (1).mp4: 384x640 1 Waste container, 6.9ms\n",
            "video 1/1 (frame 317/544) /content/drive/MyDrive/3768535699-preview (1).mp4: 384x640 1 Waste container, 7.0ms\n",
            "video 1/1 (frame 318/544) /content/drive/MyDrive/3768535699-preview (1).mp4: 384x640 1 Waste container, 6.2ms\n",
            "video 1/1 (frame 319/544) /content/drive/MyDrive/3768535699-preview (1).mp4: 384x640 1 Waste container, 6.4ms\n",
            "video 1/1 (frame 320/544) /content/drive/MyDrive/3768535699-preview (1).mp4: 384x640 1 Waste container, 6.2ms\n",
            "video 1/1 (frame 321/544) /content/drive/MyDrive/3768535699-preview (1).mp4: 384x640 1 Waste container, 7.0ms\n",
            "video 1/1 (frame 322/544) /content/drive/MyDrive/3768535699-preview (1).mp4: 384x640 1 Waste container, 6.5ms\n",
            "video 1/1 (frame 323/544) /content/drive/MyDrive/3768535699-preview (1).mp4: 384x640 1 Waste container, 12.3ms\n",
            "video 1/1 (frame 324/544) /content/drive/MyDrive/3768535699-preview (1).mp4: 384x640 1 Waste container, 7.8ms\n",
            "video 1/1 (frame 325/544) /content/drive/MyDrive/3768535699-preview (1).mp4: 384x640 1 Waste container, 6.3ms\n",
            "video 1/1 (frame 326/544) /content/drive/MyDrive/3768535699-preview (1).mp4: 384x640 1 Waste container, 6.5ms\n",
            "video 1/1 (frame 327/544) /content/drive/MyDrive/3768535699-preview (1).mp4: 384x640 1 Waste container, 6.7ms\n",
            "video 1/1 (frame 328/544) /content/drive/MyDrive/3768535699-preview (1).mp4: 384x640 1 Waste container, 10.1ms\n",
            "video 1/1 (frame 329/544) /content/drive/MyDrive/3768535699-preview (1).mp4: 384x640 1 Waste container, 6.5ms\n",
            "video 1/1 (frame 330/544) /content/drive/MyDrive/3768535699-preview (1).mp4: 384x640 1 Waste container, 7.0ms\n",
            "video 1/1 (frame 331/544) /content/drive/MyDrive/3768535699-preview (1).mp4: 384x640 1 Waste container, 7.0ms\n",
            "video 1/1 (frame 332/544) /content/drive/MyDrive/3768535699-preview (1).mp4: 384x640 1 Waste container, 6.3ms\n",
            "video 1/1 (frame 333/544) /content/drive/MyDrive/3768535699-preview (1).mp4: 384x640 1 Waste container, 6.7ms\n",
            "video 1/1 (frame 334/544) /content/drive/MyDrive/3768535699-preview (1).mp4: 384x640 1 Waste container, 6.5ms\n",
            "video 1/1 (frame 335/544) /content/drive/MyDrive/3768535699-preview (1).mp4: 384x640 1 Waste container, 6.3ms\n",
            "video 1/1 (frame 336/544) /content/drive/MyDrive/3768535699-preview (1).mp4: 384x640 1 Waste container, 6.3ms\n",
            "video 1/1 (frame 337/544) /content/drive/MyDrive/3768535699-preview (1).mp4: 384x640 1 Waste container, 6.6ms\n",
            "video 1/1 (frame 338/544) /content/drive/MyDrive/3768535699-preview (1).mp4: 384x640 1 Waste container, 6.5ms\n",
            "video 1/1 (frame 339/544) /content/drive/MyDrive/3768535699-preview (1).mp4: 384x640 1 Waste container, 6.7ms\n",
            "video 1/1 (frame 340/544) /content/drive/MyDrive/3768535699-preview (1).mp4: 384x640 1 Waste container, 6.3ms\n",
            "video 1/1 (frame 341/544) /content/drive/MyDrive/3768535699-preview (1).mp4: 384x640 1 Waste container, 7.4ms\n",
            "video 1/1 (frame 342/544) /content/drive/MyDrive/3768535699-preview (1).mp4: 384x640 1 Waste container, 6.7ms\n",
            "video 1/1 (frame 343/544) /content/drive/MyDrive/3768535699-preview (1).mp4: 384x640 1 Waste container, 6.4ms\n",
            "video 1/1 (frame 344/544) /content/drive/MyDrive/3768535699-preview (1).mp4: 384x640 1 Waste container, 6.2ms\n",
            "video 1/1 (frame 345/544) /content/drive/MyDrive/3768535699-preview (1).mp4: 384x640 1 Waste container, 5.9ms\n",
            "video 1/1 (frame 346/544) /content/drive/MyDrive/3768535699-preview (1).mp4: 384x640 1 Waste container, 6.0ms\n",
            "video 1/1 (frame 347/544) /content/drive/MyDrive/3768535699-preview (1).mp4: 384x640 1 Waste container, 6.9ms\n",
            "video 1/1 (frame 348/544) /content/drive/MyDrive/3768535699-preview (1).mp4: 384x640 1 Waste container, 5.9ms\n",
            "video 1/1 (frame 349/544) /content/drive/MyDrive/3768535699-preview (1).mp4: 384x640 1 Waste container, 79.8ms\n",
            "video 1/1 (frame 350/544) /content/drive/MyDrive/3768535699-preview (1).mp4: 384x640 1 Waste container, 6.6ms\n",
            "video 1/1 (frame 351/544) /content/drive/MyDrive/3768535699-preview (1).mp4: 384x640 1 Waste container, 6.4ms\n",
            "video 1/1 (frame 352/544) /content/drive/MyDrive/3768535699-preview (1).mp4: 384x640 1 Waste container, 7.4ms\n",
            "video 1/1 (frame 353/544) /content/drive/MyDrive/3768535699-preview (1).mp4: 384x640 1 Waste container, 6.0ms\n",
            "video 1/1 (frame 354/544) /content/drive/MyDrive/3768535699-preview (1).mp4: 384x640 1 Waste container, 7.6ms\n",
            "video 1/1 (frame 355/544) /content/drive/MyDrive/3768535699-preview (1).mp4: 384x640 1 Waste container, 6.5ms\n",
            "video 1/1 (frame 356/544) /content/drive/MyDrive/3768535699-preview (1).mp4: 384x640 1 Waste container, 6.2ms\n",
            "video 1/1 (frame 357/544) /content/drive/MyDrive/3768535699-preview (1).mp4: 384x640 1 Waste container, 6.0ms\n",
            "video 1/1 (frame 358/544) /content/drive/MyDrive/3768535699-preview (1).mp4: 384x640 1 Waste container, 6.0ms\n",
            "video 1/1 (frame 359/544) /content/drive/MyDrive/3768535699-preview (1).mp4: 384x640 1 Waste container, 6.3ms\n",
            "video 1/1 (frame 360/544) /content/drive/MyDrive/3768535699-preview (1).mp4: 384x640 1 Waste container, 6.7ms\n",
            "video 1/1 (frame 361/544) /content/drive/MyDrive/3768535699-preview (1).mp4: 384x640 1 Waste container, 6.3ms\n",
            "video 1/1 (frame 362/544) /content/drive/MyDrive/3768535699-preview (1).mp4: 384x640 1 Waste container, 7.7ms\n",
            "video 1/1 (frame 363/544) /content/drive/MyDrive/3768535699-preview (1).mp4: 384x640 1 Waste container, 6.5ms\n",
            "video 1/1 (frame 364/544) /content/drive/MyDrive/3768535699-preview (1).mp4: 384x640 1 Waste container, 7.7ms\n",
            "video 1/1 (frame 365/544) /content/drive/MyDrive/3768535699-preview (1).mp4: 384x640 1 Waste container, 10.8ms\n",
            "video 1/1 (frame 366/544) /content/drive/MyDrive/3768535699-preview (1).mp4: 384x640 1 Waste container, 11.6ms\n",
            "video 1/1 (frame 367/544) /content/drive/MyDrive/3768535699-preview (1).mp4: 384x640 1 Waste container, 6.5ms\n",
            "video 1/1 (frame 368/544) /content/drive/MyDrive/3768535699-preview (1).mp4: 384x640 1 Waste container, 6.2ms\n",
            "video 1/1 (frame 369/544) /content/drive/MyDrive/3768535699-preview (1).mp4: 384x640 1 Waste container, 6.4ms\n",
            "video 1/1 (frame 370/544) /content/drive/MyDrive/3768535699-preview (1).mp4: 384x640 1 Waste container, 6.2ms\n",
            "video 1/1 (frame 371/544) /content/drive/MyDrive/3768535699-preview (1).mp4: 384x640 1 Waste container, 6.2ms\n",
            "video 1/1 (frame 372/544) /content/drive/MyDrive/3768535699-preview (1).mp4: 384x640 1 Waste container, 6.1ms\n",
            "video 1/1 (frame 373/544) /content/drive/MyDrive/3768535699-preview (1).mp4: 384x640 1 Waste container, 6.6ms\n",
            "video 1/1 (frame 374/544) /content/drive/MyDrive/3768535699-preview (1).mp4: 384x640 1 Waste container, 6.9ms\n",
            "video 1/1 (frame 375/544) /content/drive/MyDrive/3768535699-preview (1).mp4: 384x640 1 Waste container, 6.4ms\n",
            "video 1/1 (frame 376/544) /content/drive/MyDrive/3768535699-preview (1).mp4: 384x640 1 Waste container, 6.9ms\n",
            "video 1/1 (frame 377/544) /content/drive/MyDrive/3768535699-preview (1).mp4: 384x640 1 Waste container, 6.4ms\n",
            "video 1/1 (frame 378/544) /content/drive/MyDrive/3768535699-preview (1).mp4: 384x640 1 Waste container, 6.9ms\n",
            "video 1/1 (frame 379/544) /content/drive/MyDrive/3768535699-preview (1).mp4: 384x640 1 Waste container, 6.7ms\n",
            "video 1/1 (frame 380/544) /content/drive/MyDrive/3768535699-preview (1).mp4: 384x640 1 Waste container, 6.7ms\n",
            "video 1/1 (frame 381/544) /content/drive/MyDrive/3768535699-preview (1).mp4: 384x640 1 Waste container, 7.1ms\n",
            "video 1/1 (frame 382/544) /content/drive/MyDrive/3768535699-preview (1).mp4: 384x640 1 Waste container, 6.6ms\n",
            "video 1/1 (frame 383/544) /content/drive/MyDrive/3768535699-preview (1).mp4: 384x640 1 Waste container, 6.3ms\n",
            "video 1/1 (frame 384/544) /content/drive/MyDrive/3768535699-preview (1).mp4: 384x640 1 Waste container, 6.8ms\n",
            "video 1/1 (frame 385/544) /content/drive/MyDrive/3768535699-preview (1).mp4: 384x640 1 Waste container, 6.3ms\n",
            "video 1/1 (frame 386/544) /content/drive/MyDrive/3768535699-preview (1).mp4: 384x640 1 Waste container, 6.1ms\n",
            "video 1/1 (frame 387/544) /content/drive/MyDrive/3768535699-preview (1).mp4: 384x640 1 Waste container, 6.1ms\n",
            "video 1/1 (frame 388/544) /content/drive/MyDrive/3768535699-preview (1).mp4: 384x640 1 Waste container, 7.0ms\n",
            "video 1/1 (frame 389/544) /content/drive/MyDrive/3768535699-preview (1).mp4: 384x640 1 Waste container, 6.0ms\n",
            "video 1/1 (frame 390/544) /content/drive/MyDrive/3768535699-preview (1).mp4: 384x640 1 Waste container, 7.1ms\n",
            "video 1/1 (frame 391/544) /content/drive/MyDrive/3768535699-preview (1).mp4: 384x640 1 Waste container, 9.3ms\n",
            "video 1/1 (frame 392/544) /content/drive/MyDrive/3768535699-preview (1).mp4: 384x640 1 Waste container, 7.7ms\n",
            "video 1/1 (frame 393/544) /content/drive/MyDrive/3768535699-preview (1).mp4: 384x640 1 Waste container, 6.8ms\n",
            "video 1/1 (frame 394/544) /content/drive/MyDrive/3768535699-preview (1).mp4: 384x640 1 Waste container, 6.2ms\n",
            "video 1/1 (frame 395/544) /content/drive/MyDrive/3768535699-preview (1).mp4: 384x640 1 Waste container, 7.4ms\n",
            "video 1/1 (frame 396/544) /content/drive/MyDrive/3768535699-preview (1).mp4: 384x640 1 Waste container, 6.3ms\n",
            "video 1/1 (frame 397/544) /content/drive/MyDrive/3768535699-preview (1).mp4: 384x640 1 Waste container, 8.3ms\n",
            "video 1/1 (frame 398/544) /content/drive/MyDrive/3768535699-preview (1).mp4: 384x640 1 Waste container, 6.1ms\n",
            "video 1/1 (frame 399/544) /content/drive/MyDrive/3768535699-preview (1).mp4: 384x640 1 Waste container, 6.1ms\n",
            "video 1/1 (frame 400/544) /content/drive/MyDrive/3768535699-preview (1).mp4: 384x640 1 Waste container, 6.0ms\n",
            "video 1/1 (frame 401/544) /content/drive/MyDrive/3768535699-preview (1).mp4: 384x640 1 Waste container, 7.4ms\n",
            "video 1/1 (frame 402/544) /content/drive/MyDrive/3768535699-preview (1).mp4: 384x640 1 Waste container, 6.3ms\n",
            "video 1/1 (frame 403/544) /content/drive/MyDrive/3768535699-preview (1).mp4: 384x640 1 Waste container, 6.9ms\n",
            "video 1/1 (frame 404/544) /content/drive/MyDrive/3768535699-preview (1).mp4: 384x640 1 Waste container, 6.2ms\n",
            "video 1/1 (frame 405/544) /content/drive/MyDrive/3768535699-preview (1).mp4: 384x640 1 Waste container, 7.4ms\n",
            "video 1/1 (frame 406/544) /content/drive/MyDrive/3768535699-preview (1).mp4: 384x640 1 Waste container, 6.6ms\n",
            "video 1/1 (frame 407/544) /content/drive/MyDrive/3768535699-preview (1).mp4: 384x640 1 Waste container, 7.7ms\n",
            "video 1/1 (frame 408/544) /content/drive/MyDrive/3768535699-preview (1).mp4: 384x640 1 Waste container, 13.7ms\n",
            "video 1/1 (frame 409/544) /content/drive/MyDrive/3768535699-preview (1).mp4: 384x640 1 Waste container, 6.7ms\n",
            "video 1/1 (frame 410/544) /content/drive/MyDrive/3768535699-preview (1).mp4: 384x640 1 Waste container, 6.5ms\n",
            "video 1/1 (frame 411/544) /content/drive/MyDrive/3768535699-preview (1).mp4: 384x640 1 Waste container, 6.8ms\n",
            "video 1/1 (frame 412/544) /content/drive/MyDrive/3768535699-preview (1).mp4: 384x640 1 Waste container, 6.3ms\n",
            "video 1/1 (frame 413/544) /content/drive/MyDrive/3768535699-preview (1).mp4: 384x640 1 Waste container, 8.1ms\n",
            "video 1/1 (frame 414/544) /content/drive/MyDrive/3768535699-preview (1).mp4: 384x640 1 Waste container, 7.3ms\n",
            "video 1/1 (frame 415/544) /content/drive/MyDrive/3768535699-preview (1).mp4: 384x640 1 Waste container, 6.8ms\n",
            "video 1/1 (frame 416/544) /content/drive/MyDrive/3768535699-preview (1).mp4: 384x640 1 Waste container, 6.7ms\n",
            "video 1/1 (frame 417/544) /content/drive/MyDrive/3768535699-preview (1).mp4: 384x640 1 Waste container, 6.8ms\n",
            "video 1/1 (frame 418/544) /content/drive/MyDrive/3768535699-preview (1).mp4: 384x640 1 Waste container, 7.2ms\n",
            "video 1/1 (frame 419/544) /content/drive/MyDrive/3768535699-preview (1).mp4: 384x640 1 Waste container, 6.8ms\n",
            "video 1/1 (frame 420/544) /content/drive/MyDrive/3768535699-preview (1).mp4: 384x640 1 Waste container, 8.2ms\n",
            "video 1/1 (frame 421/544) /content/drive/MyDrive/3768535699-preview (1).mp4: 384x640 1 Waste container, 7.1ms\n",
            "video 1/1 (frame 422/544) /content/drive/MyDrive/3768535699-preview (1).mp4: 384x640 1 Waste container, 6.7ms\n",
            "video 1/1 (frame 423/544) /content/drive/MyDrive/3768535699-preview (1).mp4: 384x640 1 Waste container, 6.6ms\n",
            "video 1/1 (frame 424/544) /content/drive/MyDrive/3768535699-preview (1).mp4: 384x640 1 Waste container, 7.1ms\n",
            "video 1/1 (frame 425/544) /content/drive/MyDrive/3768535699-preview (1).mp4: 384x640 1 Waste container, 6.3ms\n",
            "video 1/1 (frame 426/544) /content/drive/MyDrive/3768535699-preview (1).mp4: 384x640 1 Waste container, 7.1ms\n",
            "video 1/1 (frame 427/544) /content/drive/MyDrive/3768535699-preview (1).mp4: 384x640 1 Waste container, 6.6ms\n",
            "video 1/1 (frame 428/544) /content/drive/MyDrive/3768535699-preview (1).mp4: 384x640 1 Waste container, 6.6ms\n",
            "video 1/1 (frame 429/544) /content/drive/MyDrive/3768535699-preview (1).mp4: 384x640 1 Waste container, 6.7ms\n",
            "video 1/1 (frame 430/544) /content/drive/MyDrive/3768535699-preview (1).mp4: 384x640 1 Waste container, 6.4ms\n",
            "video 1/1 (frame 431/544) /content/drive/MyDrive/3768535699-preview (1).mp4: 384x640 1 Waste container, 6.1ms\n",
            "video 1/1 (frame 432/544) /content/drive/MyDrive/3768535699-preview (1).mp4: 384x640 1 Waste container, 59.6ms\n",
            "video 1/1 (frame 433/544) /content/drive/MyDrive/3768535699-preview (1).mp4: 384x640 1 Waste container, 6.5ms\n",
            "video 1/1 (frame 434/544) /content/drive/MyDrive/3768535699-preview (1).mp4: 384x640 1 Waste container, 9.0ms\n",
            "video 1/1 (frame 435/544) /content/drive/MyDrive/3768535699-preview (1).mp4: 384x640 1 Waste container, 6.5ms\n",
            "video 1/1 (frame 436/544) /content/drive/MyDrive/3768535699-preview (1).mp4: 384x640 1 Waste container, 7.9ms\n",
            "video 1/1 (frame 437/544) /content/drive/MyDrive/3768535699-preview (1).mp4: 384x640 1 Waste container, 6.1ms\n",
            "video 1/1 (frame 438/544) /content/drive/MyDrive/3768535699-preview (1).mp4: 384x640 1 Waste container, 9.9ms\n",
            "video 1/1 (frame 439/544) /content/drive/MyDrive/3768535699-preview (1).mp4: 384x640 1 Waste container, 8.5ms\n",
            "video 1/1 (frame 440/544) /content/drive/MyDrive/3768535699-preview (1).mp4: 384x640 1 Waste container, 6.5ms\n",
            "video 1/1 (frame 441/544) /content/drive/MyDrive/3768535699-preview (1).mp4: 384x640 1 Waste container, 7.8ms\n",
            "video 1/1 (frame 442/544) /content/drive/MyDrive/3768535699-preview (1).mp4: 384x640 1 Waste container, 7.6ms\n",
            "video 1/1 (frame 443/544) /content/drive/MyDrive/3768535699-preview (1).mp4: 384x640 1 Waste container, 6.1ms\n",
            "video 1/1 (frame 444/544) /content/drive/MyDrive/3768535699-preview (1).mp4: 384x640 1 Waste container, 6.2ms\n",
            "video 1/1 (frame 445/544) /content/drive/MyDrive/3768535699-preview (1).mp4: 384x640 1 Waste container, 7.3ms\n",
            "video 1/1 (frame 446/544) /content/drive/MyDrive/3768535699-preview (1).mp4: 384x640 1 Waste container, 8.8ms\n",
            "video 1/1 (frame 447/544) /content/drive/MyDrive/3768535699-preview (1).mp4: 384x640 1 Waste container, 8.4ms\n",
            "video 1/1 (frame 448/544) /content/drive/MyDrive/3768535699-preview (1).mp4: 384x640 1 Waste container, 6.2ms\n",
            "video 1/1 (frame 449/544) /content/drive/MyDrive/3768535699-preview (1).mp4: 384x640 1 Waste container, 19.0ms\n",
            "video 1/1 (frame 450/544) /content/drive/MyDrive/3768535699-preview (1).mp4: 384x640 1 Waste container, 7.0ms\n",
            "video 1/1 (frame 451/544) /content/drive/MyDrive/3768535699-preview (1).mp4: 384x640 1 Waste container, 6.1ms\n",
            "video 1/1 (frame 452/544) /content/drive/MyDrive/3768535699-preview (1).mp4: 384x640 1 Waste container, 6.2ms\n",
            "video 1/1 (frame 453/544) /content/drive/MyDrive/3768535699-preview (1).mp4: 384x640 1 Waste container, 6.0ms\n",
            "video 1/1 (frame 454/544) /content/drive/MyDrive/3768535699-preview (1).mp4: 384x640 1 Waste container, 6.6ms\n",
            "video 1/1 (frame 455/544) /content/drive/MyDrive/3768535699-preview (1).mp4: 384x640 1 Waste container, 6.2ms\n",
            "video 1/1 (frame 456/544) /content/drive/MyDrive/3768535699-preview (1).mp4: 384x640 1 Waste container, 7.2ms\n",
            "video 1/1 (frame 457/544) /content/drive/MyDrive/3768535699-preview (1).mp4: 384x640 1 Waste container, 6.4ms\n",
            "video 1/1 (frame 458/544) /content/drive/MyDrive/3768535699-preview (1).mp4: 384x640 1 Waste container, 6.7ms\n",
            "video 1/1 (frame 459/544) /content/drive/MyDrive/3768535699-preview (1).mp4: 384x640 2 Waste containers, 7.8ms\n",
            "video 1/1 (frame 460/544) /content/drive/MyDrive/3768535699-preview (1).mp4: 384x640 1 Waste container, 6.3ms\n",
            "video 1/1 (frame 461/544) /content/drive/MyDrive/3768535699-preview (1).mp4: 384x640 1 Waste container, 6.2ms\n",
            "video 1/1 (frame 462/544) /content/drive/MyDrive/3768535699-preview (1).mp4: 384x640 1 Waste container, 7.2ms\n",
            "video 1/1 (frame 463/544) /content/drive/MyDrive/3768535699-preview (1).mp4: 384x640 1 Waste container, 6.2ms\n",
            "video 1/1 (frame 464/544) /content/drive/MyDrive/3768535699-preview (1).mp4: 384x640 1 Waste container, 6.9ms\n",
            "video 1/1 (frame 465/544) /content/drive/MyDrive/3768535699-preview (1).mp4: 384x640 1 Waste container, 6.2ms\n",
            "video 1/1 (frame 466/544) /content/drive/MyDrive/3768535699-preview (1).mp4: 384x640 1 Waste container, 7.9ms\n",
            "video 1/1 (frame 467/544) /content/drive/MyDrive/3768535699-preview (1).mp4: 384x640 1 Waste container, 113.3ms\n",
            "video 1/1 (frame 468/544) /content/drive/MyDrive/3768535699-preview (1).mp4: 384x640 1 Waste container, 7.0ms\n",
            "video 1/1 (frame 469/544) /content/drive/MyDrive/3768535699-preview (1).mp4: 384x640 1 Waste container, 7.2ms\n",
            "video 1/1 (frame 470/544) /content/drive/MyDrive/3768535699-preview (1).mp4: 384x640 1 Waste container, 7.7ms\n",
            "video 1/1 (frame 471/544) /content/drive/MyDrive/3768535699-preview (1).mp4: 384x640 1 Waste container, 6.2ms\n",
            "video 1/1 (frame 472/544) /content/drive/MyDrive/3768535699-preview (1).mp4: 384x640 1 Waste container, 9.1ms\n",
            "video 1/1 (frame 473/544) /content/drive/MyDrive/3768535699-preview (1).mp4: 384x640 1 Waste container, 6.8ms\n",
            "video 1/1 (frame 474/544) /content/drive/MyDrive/3768535699-preview (1).mp4: 384x640 1 Waste container, 7.5ms\n",
            "video 1/1 (frame 475/544) /content/drive/MyDrive/3768535699-preview (1).mp4: 384x640 1 Waste container, 6.8ms\n",
            "video 1/1 (frame 476/544) /content/drive/MyDrive/3768535699-preview (1).mp4: 384x640 1 Waste container, 6.7ms\n",
            "video 1/1 (frame 477/544) /content/drive/MyDrive/3768535699-preview (1).mp4: 384x640 1 Waste container, 8.0ms\n",
            "video 1/1 (frame 478/544) /content/drive/MyDrive/3768535699-preview (1).mp4: 384x640 1 Waste container, 7.4ms\n",
            "video 1/1 (frame 479/544) /content/drive/MyDrive/3768535699-preview (1).mp4: 384x640 1 Waste container, 105.5ms\n",
            "video 1/1 (frame 480/544) /content/drive/MyDrive/3768535699-preview (1).mp4: 384x640 1 Waste container, 9.2ms\n",
            "video 1/1 (frame 481/544) /content/drive/MyDrive/3768535699-preview (1).mp4: 384x640 1 Waste container, 6.8ms\n",
            "video 1/1 (frame 482/544) /content/drive/MyDrive/3768535699-preview (1).mp4: 384x640 1 Waste container, 6.8ms\n",
            "video 1/1 (frame 483/544) /content/drive/MyDrive/3768535699-preview (1).mp4: 384x640 1 Waste container, 6.3ms\n",
            "video 1/1 (frame 484/544) /content/drive/MyDrive/3768535699-preview (1).mp4: 384x640 1 Waste container, 6.3ms\n",
            "video 1/1 (frame 485/544) /content/drive/MyDrive/3768535699-preview (1).mp4: 384x640 1 Waste container, 8.7ms\n",
            "video 1/1 (frame 486/544) /content/drive/MyDrive/3768535699-preview (1).mp4: 384x640 1 Waste container, 16.5ms\n",
            "video 1/1 (frame 487/544) /content/drive/MyDrive/3768535699-preview (1).mp4: 384x640 1 Waste container, 6.1ms\n",
            "video 1/1 (frame 488/544) /content/drive/MyDrive/3768535699-preview (1).mp4: 384x640 1 Waste container, 6.3ms\n",
            "video 1/1 (frame 489/544) /content/drive/MyDrive/3768535699-preview (1).mp4: 384x640 1 Waste container, 6.2ms\n",
            "video 1/1 (frame 490/544) /content/drive/MyDrive/3768535699-preview (1).mp4: 384x640 1 Waste container, 6.4ms\n",
            "video 1/1 (frame 491/544) /content/drive/MyDrive/3768535699-preview (1).mp4: 384x640 1 Waste container, 6.1ms\n",
            "video 1/1 (frame 492/544) /content/drive/MyDrive/3768535699-preview (1).mp4: 384x640 1 Waste container, 7.2ms\n",
            "video 1/1 (frame 493/544) /content/drive/MyDrive/3768535699-preview (1).mp4: 384x640 1 Waste container, 6.0ms\n",
            "video 1/1 (frame 494/544) /content/drive/MyDrive/3768535699-preview (1).mp4: 384x640 1 Waste container, 6.3ms\n",
            "video 1/1 (frame 495/544) /content/drive/MyDrive/3768535699-preview (1).mp4: 384x640 1 Waste container, 6.8ms\n",
            "video 1/1 (frame 496/544) /content/drive/MyDrive/3768535699-preview (1).mp4: 384x640 1 Waste container, 6.5ms\n",
            "video 1/1 (frame 497/544) /content/drive/MyDrive/3768535699-preview (1).mp4: 384x640 1 Waste container, 6.0ms\n",
            "video 1/1 (frame 498/544) /content/drive/MyDrive/3768535699-preview (1).mp4: 384x640 1 Waste container, 7.5ms\n",
            "video 1/1 (frame 499/544) /content/drive/MyDrive/3768535699-preview (1).mp4: 384x640 1 Waste container, 6.2ms\n",
            "video 1/1 (frame 500/544) /content/drive/MyDrive/3768535699-preview (1).mp4: 384x640 1 Waste container, 8.2ms\n",
            "video 1/1 (frame 501/544) /content/drive/MyDrive/3768535699-preview (1).mp4: 384x640 1 Waste container, 6.2ms\n",
            "video 1/1 (frame 502/544) /content/drive/MyDrive/3768535699-preview (1).mp4: 384x640 1 Waste container, 6.9ms\n",
            "video 1/1 (frame 503/544) /content/drive/MyDrive/3768535699-preview (1).mp4: 384x640 1 Waste container, 6.0ms\n",
            "video 1/1 (frame 504/544) /content/drive/MyDrive/3768535699-preview (1).mp4: 384x640 1 Waste container, 6.8ms\n",
            "video 1/1 (frame 505/544) /content/drive/MyDrive/3768535699-preview (1).mp4: 384x640 1 Waste container, 6.7ms\n",
            "video 1/1 (frame 506/544) /content/drive/MyDrive/3768535699-preview (1).mp4: 384x640 1 Waste container, 7.1ms\n",
            "video 1/1 (frame 507/544) /content/drive/MyDrive/3768535699-preview (1).mp4: 384x640 1 Waste container, 7.5ms\n",
            "video 1/1 (frame 508/544) /content/drive/MyDrive/3768535699-preview (1).mp4: 384x640 1 Waste container, 6.8ms\n",
            "video 1/1 (frame 509/544) /content/drive/MyDrive/3768535699-preview (1).mp4: 384x640 1 Waste container, 6.1ms\n",
            "video 1/1 (frame 510/544) /content/drive/MyDrive/3768535699-preview (1).mp4: 384x640 1 Waste container, 6.1ms\n",
            "video 1/1 (frame 511/544) /content/drive/MyDrive/3768535699-preview (1).mp4: 384x640 1 Waste container, 6.1ms\n",
            "video 1/1 (frame 512/544) /content/drive/MyDrive/3768535699-preview (1).mp4: 384x640 1 Waste container, 6.1ms\n",
            "video 1/1 (frame 513/544) /content/drive/MyDrive/3768535699-preview (1).mp4: 384x640 1 Waste container, 6.5ms\n",
            "video 1/1 (frame 514/544) /content/drive/MyDrive/3768535699-preview (1).mp4: 384x640 1 Waste container, 6.4ms\n",
            "video 1/1 (frame 515/544) /content/drive/MyDrive/3768535699-preview (1).mp4: 384x640 1 Waste container, 7.4ms\n",
            "video 1/1 (frame 516/544) /content/drive/MyDrive/3768535699-preview (1).mp4: 384x640 1 Waste container, 8.1ms\n",
            "video 1/1 (frame 517/544) /content/drive/MyDrive/3768535699-preview (1).mp4: 384x640 1 Waste container, 6.7ms\n",
            "video 1/1 (frame 518/544) /content/drive/MyDrive/3768535699-preview (1).mp4: 384x640 1 Waste container, 6.4ms\n",
            "video 1/1 (frame 519/544) /content/drive/MyDrive/3768535699-preview (1).mp4: 384x640 1 Waste container, 6.5ms\n",
            "video 1/1 (frame 520/544) /content/drive/MyDrive/3768535699-preview (1).mp4: 384x640 1 Waste container, 6.2ms\n",
            "video 1/1 (frame 521/544) /content/drive/MyDrive/3768535699-preview (1).mp4: 384x640 1 Waste container, 6.0ms\n",
            "video 1/1 (frame 522/544) /content/drive/MyDrive/3768535699-preview (1).mp4: 384x640 1 Waste container, 7.6ms\n",
            "video 1/1 (frame 523/544) /content/drive/MyDrive/3768535699-preview (1).mp4: 384x640 1 Waste container, 6.2ms\n",
            "video 1/1 (frame 524/544) /content/drive/MyDrive/3768535699-preview (1).mp4: 384x640 1 Waste container, 6.3ms\n",
            "video 1/1 (frame 525/544) /content/drive/MyDrive/3768535699-preview (1).mp4: 384x640 1 Waste container, 6.3ms\n",
            "video 1/1 (frame 526/544) /content/drive/MyDrive/3768535699-preview (1).mp4: 384x640 1 Waste container, 7.7ms\n",
            "video 1/1 (frame 527/544) /content/drive/MyDrive/3768535699-preview (1).mp4: 384x640 1 Waste container, 6.3ms\n",
            "video 1/1 (frame 528/544) /content/drive/MyDrive/3768535699-preview (1).mp4: 384x640 1 Waste container, 6.5ms\n",
            "video 1/1 (frame 529/544) /content/drive/MyDrive/3768535699-preview (1).mp4: 384x640 1 Waste container, 6.3ms\n",
            "video 1/1 (frame 530/544) /content/drive/MyDrive/3768535699-preview (1).mp4: 384x640 1 Waste container, 6.5ms\n",
            "video 1/1 (frame 531/544) /content/drive/MyDrive/3768535699-preview (1).mp4: 384x640 1 Waste container, 7.3ms\n",
            "video 1/1 (frame 532/544) /content/drive/MyDrive/3768535699-preview (1).mp4: 384x640 2 Waste containers, 6.9ms\n",
            "video 1/1 (frame 533/544) /content/drive/MyDrive/3768535699-preview (1).mp4: 384x640 2 Waste containers, 6.8ms\n",
            "video 1/1 (frame 534/544) /content/drive/MyDrive/3768535699-preview (1).mp4: 384x640 2 Waste containers, 12.8ms\n",
            "video 1/1 (frame 535/544) /content/drive/MyDrive/3768535699-preview (1).mp4: 384x640 2 Waste containers, 7.0ms\n",
            "video 1/1 (frame 536/544) /content/drive/MyDrive/3768535699-preview (1).mp4: 384x640 2 Waste containers, 6.8ms\n",
            "video 1/1 (frame 537/544) /content/drive/MyDrive/3768535699-preview (1).mp4: 384x640 2 Waste containers, 6.9ms\n",
            "video 1/1 (frame 538/544) /content/drive/MyDrive/3768535699-preview (1).mp4: 384x640 2 Waste containers, 6.4ms\n",
            "video 1/1 (frame 539/544) /content/drive/MyDrive/3768535699-preview (1).mp4: 384x640 2 Waste containers, 7.1ms\n",
            "video 1/1 (frame 540/544) /content/drive/MyDrive/3768535699-preview (1).mp4: 384x640 2 Waste containers, 7.6ms\n",
            "video 1/1 (frame 541/544) /content/drive/MyDrive/3768535699-preview (1).mp4: 384x640 2 Waste containers, 7.2ms\n",
            "video 1/1 (frame 542/544) /content/drive/MyDrive/3768535699-preview (1).mp4: 384x640 2 Waste containers, 6.8ms\n",
            "video 1/1 (frame 543/544) /content/drive/MyDrive/3768535699-preview (1).mp4: 384x640 3 Waste containers, 6.7ms\n",
            "video 1/1 (frame 544/544) /content/drive/MyDrive/3768535699-preview (1).mp4: 384x640 3 Waste containers, 6.7ms\n",
            "Speed: 3.0ms preprocess, 8.6ms inference, 2.0ms postprocess per image at shape (1, 3, 384, 640)\n",
            "Results saved to \u001b[1mruns/detect/predict4\u001b[0m\n"
          ]
        }
      ]
    },
    {
      "cell_type": "code",
      "source": [
        "metrics = best_model.val(split='test')"
      ],
      "metadata": {
        "colab": {
          "base_uri": "https://localhost:8080/"
        },
        "id": "ryqlhPG4Vy5S",
        "outputId": "9cb629e6-6ff5-4a4c-e0fe-a45a799226aa"
      },
      "execution_count": 22,
      "outputs": [
        {
          "output_type": "stream",
          "name": "stdout",
          "text": [
            "Ultralytics 8.3.162 🚀 Python-3.11.13 torch-2.6.0+cu124 CUDA:0 (Tesla T4, 15095MiB)\n",
            "\u001b[34m\u001b[1mval: \u001b[0mFast image access ✅ (ping: 3.2±6.5 ms, read: 20.1±16.2 MB/s, size: 71.5 KB)\n"
          ]
        },
        {
          "output_type": "stream",
          "name": "stderr",
          "text": [
            "\u001b[34m\u001b[1mval: \u001b[0mScanning /content/drive/MyDrive/dataset/test/labels.cache... 102 images, 0 backgrounds, 0 corrupt: 100%|██████████| 102/102 [00:00<?, ?it/s]\n",
            "                 Class     Images  Instances      Box(P          R      mAP50  mAP50-95): 100%|██████████| 7/7 [00:03<00:00,  1.90it/s]\n"
          ]
        },
        {
          "output_type": "stream",
          "name": "stdout",
          "text": [
            "                   all        102        156      0.779      0.701       0.73      0.491\n",
            "Speed: 4.3ms preprocess, 5.8ms inference, 0.1ms loss, 8.4ms postprocess per image\n",
            "Results saved to \u001b[1mruns/detect/val\u001b[0m\n"
          ]
        }
      ]
    },
    {
      "cell_type": "code",
      "source": [],
      "metadata": {
        "id": "guWWOssrbD3o"
      },
      "execution_count": 23,
      "outputs": []
    },
    {
      "cell_type": "code",
      "source": [],
      "metadata": {
        "id": "Gt8cDXO-bWim"
      },
      "execution_count": null,
      "outputs": []
    }
  ]
}